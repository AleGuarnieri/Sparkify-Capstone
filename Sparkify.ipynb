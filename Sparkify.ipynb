{
 "cells": [
  {
   "cell_type": "markdown",
   "metadata": {},
   "source": [
    "# Sparkify Project Workspace\n",
    "This workspace contains a tiny subset (128MB) of the full dataset available (12GB). Feel free to use this workspace to build your project, or to explore a smaller subset with Spark before deploying your cluster on the cloud. Instructions for setting up your Spark cluster is included in the last lesson of the Extracurricular Spark Course content.\n",
    "\n",
    "You can follow the steps below to guide your data analysis and model building portion of this project."
   ]
  },
  {
   "cell_type": "code",
   "execution_count": 3,
   "metadata": {},
   "outputs": [],
   "source": [
    "from pyspark.sql import SparkSession\n",
    "from pyspark.sql.functions import round, sum, avg,count, countDistinct, col, concat, desc, explode, last, lit, min, max, split, udf, when, isnan\n",
    "from pyspark.sql.types import IntegerType\n",
    "from pyspark.sql.window import Window\n",
    "\n",
    "from pyspark.ml.classification import LogisticRegression, RandomForestClassifier, GBTClassifier\n",
    "from pyspark.ml.evaluation import MulticlassClassificationEvaluator\n",
    "from pyspark.ml.feature import CountVectorizer, IDF, Normalizer, PCA, RegexTokenizer, StandardScaler, StopWordsRemover, StringIndexer, VectorAssembler, OneHotEncoder\n",
    "from pyspark.ml.regression import LinearRegression\n",
    "from pyspark.ml.tuning import CrossValidator, ParamGridBuilder\n",
    "from pyspark.ml import Pipeline\n",
    "from pyspark.ml.evaluation import BinaryClassificationEvaluator\n",
    "from pyspark.mllib.evaluation import MulticlassMetrics\n",
    "\n",
    "import re"
   ]
  },
  {
   "cell_type": "code",
   "execution_count": 4,
   "metadata": {},
   "outputs": [],
   "source": [
    "import numpy as np\n",
    "import pandas as pd\n",
    "import seaborn as sns\n",
    "import matplotlib.pyplot as plt"
   ]
  },
  {
   "cell_type": "code",
   "execution_count": 5,
   "metadata": {},
   "outputs": [],
   "source": [
    "spark = SparkSession.builder \\\n",
    "    .master(\"local\") \\\n",
    "    .appName(\"Datascience Capstone Project\") \\\n",
    "    .getOrCreate()"
   ]
  },
  {
   "cell_type": "markdown",
   "metadata": {},
   "source": [
    "# Load and Clean Dataset\n",
    "In this workspace, the mini-dataset file is `mini_sparkify_event_data.json`. Load and clean the dataset, checking for invalid or missing data - for example, records without userids or sessionids. "
   ]
  },
  {
   "cell_type": "code",
   "execution_count": 6,
   "metadata": {},
   "outputs": [],
   "source": [
    "#event_data = spark.read.json(\"mini_sparkify_event_data.json\")\n",
    "event_data = spark.read.json(\"medium-sparkify-event-data.json\")"
   ]
  },
  {
   "cell_type": "code",
   "execution_count": 7,
   "metadata": {},
   "outputs": [
    {
     "name": "stdout",
     "output_type": "stream",
     "text": [
      "root\n",
      " |-- artist: string (nullable = true)\n",
      " |-- auth: string (nullable = true)\n",
      " |-- firstName: string (nullable = true)\n",
      " |-- gender: string (nullable = true)\n",
      " |-- itemInSession: long (nullable = true)\n",
      " |-- lastName: string (nullable = true)\n",
      " |-- length: double (nullable = true)\n",
      " |-- level: string (nullable = true)\n",
      " |-- location: string (nullable = true)\n",
      " |-- method: string (nullable = true)\n",
      " |-- page: string (nullable = true)\n",
      " |-- registration: long (nullable = true)\n",
      " |-- sessionId: long (nullable = true)\n",
      " |-- song: string (nullable = true)\n",
      " |-- status: long (nullable = true)\n",
      " |-- ts: long (nullable = true)\n",
      " |-- userAgent: string (nullable = true)\n",
      " |-- userId: string (nullable = true)\n",
      "\n"
     ]
    }
   ],
   "source": [
    "event_data.printSchema()"
   ]
  },
  {
   "cell_type": "code",
   "execution_count": 8,
   "metadata": {},
   "outputs": [],
   "source": [
    "event_data = event_data.where(col('userId') != '')"
   ]
  },
  {
   "cell_type": "code",
   "execution_count": 9,
   "metadata": {},
   "outputs": [
    {
     "name": "stdout",
     "output_type": "stream",
     "text": [
      "+------+----+---------+------+-------------+--------+------+-----+--------+------+----+------------+---------+-----+------+---+---------+------+\n",
      "|artist|auth|firstName|gender|itemInSession|lastName|length|level|location|method|page|registration|sessionId| song|status| ts|userAgent|userId|\n",
      "+------+----+---------+------+-------------+--------+------+-----+--------+------+----+------------+---------+-----+------+---+---------+------+\n",
      "| 95128|   0|        0|     0|            0|       0| 95128|    0|       0|     0|   0|           0|        0|95128|     0|  0|        0|     0|\n",
      "+------+----+---------+------+-------------+--------+------+-----+--------+------+----+------------+---------+-----+------+---+---------+------+\n",
      "\n"
     ]
    }
   ],
   "source": [
    "event_data.select([count(when(isnan(c) | col(c).isNull(), c)).alias(c) for c in event_data.columns]).show()"
   ]
  },
  {
   "cell_type": "code",
   "execution_count": 10,
   "metadata": {},
   "outputs": [
    {
     "name": "stdout",
     "output_type": "stream",
     "text": [
      "+--------------------+\n",
      "|                page|\n",
      "+--------------------+\n",
      "|              Cancel|\n",
      "|    Submit Downgrade|\n",
      "|         Thumbs Down|\n",
      "|                Home|\n",
      "|           Downgrade|\n",
      "|         Roll Advert|\n",
      "|              Logout|\n",
      "|       Save Settings|\n",
      "|Cancellation Conf...|\n",
      "|               About|\n",
      "|            Settings|\n",
      "|     Add to Playlist|\n",
      "|          Add Friend|\n",
      "|           Thumbs Up|\n",
      "|                Help|\n",
      "|             Upgrade|\n",
      "|               Error|\n",
      "|      Submit Upgrade|\n",
      "+--------------------+\n",
      "\n"
     ]
    }
   ],
   "source": [
    "event_data.where(event_data.song.isNull()).select(event_data.page).distinct().show(100)\n",
    "# This is due to the fact that only when the users click on NextSong, there is an Artist/Length or Song saved in the database"
   ]
  },
  {
   "cell_type": "code",
   "execution_count": 11,
   "metadata": {},
   "outputs": [
    {
     "name": "stdout",
     "output_type": "stream",
     "text": [
      "+--------+\n",
      "|    page|\n",
      "+--------+\n",
      "|NextSong|\n",
      "+--------+\n",
      "\n"
     ]
    }
   ],
   "source": [
    "event_data.where(event_data.song.isNotNull()).select(event_data.page).distinct().show(100)"
   ]
  },
  {
   "cell_type": "markdown",
   "metadata": {},
   "source": [
    "We still have null values on artist, song and length because in those cases the action of the user was not related to a song, as shown in the previous cell."
   ]
  },
  {
   "cell_type": "markdown",
   "metadata": {},
   "source": [
    "# Exploratory Data Analysis\n",
    "When you're working with the full dataset, perform EDA by loading a small subset of the data and doing basic manipulations within Spark. In this workspace, you are already provided a small subset of data you can explore."
   ]
  },
  {
   "cell_type": "code",
   "execution_count": 12,
   "metadata": {},
   "outputs": [
    {
     "name": "stdout",
     "output_type": "stream",
     "text": [
      "+-------+-----------------+---------+---------+------+------------------+--------+------------------+------+----------------+------+-------+--------------------+------------------+--------------------+------------------+--------------------+--------------------+------------------+\n",
      "|summary|           artist|     auth|firstName|gender|     itemInSession|lastName|            length| level|        location|method|   page|        registration|         sessionId|                song|            status|                  ts|           userAgent|            userId|\n",
      "+-------+-----------------+---------+---------+------+------------------+--------+------------------+------+----------------+------+-------+--------------------+------------------+--------------------+------------------+--------------------+--------------------+------------------+\n",
      "|  count|           432877|   528005|   528005|528005|            528005|  528005|            432877|528005|          528005|528005| 528005|              528005|            528005|              432877|            528005|              528005|              528005|            528005|\n",
      "|   mean|527.5289537712895|     null|     null|  null|107.77899451709737|    null|248.66459278007807|  null|            null|  null|   null|1.535523414862806...|2042.9801820058522|            Infinity|209.09106163767387|1.540966927748447E12|                null| 60268.42669103512|\n",
      "| stddev|966.1072451772758|     null|     null|  null|116.86478662969917|    null| 98.41266955052018|  null|            null|  null|   null|3.0787254929942865E9| 1433.998148941057|                 NaN| 30.14877783059165| 1.481233094025866E9|                null|109898.82324176644|\n",
      "|    min|              !!!|Cancelled|  Aaliyah|     F|                 0|  Abbott|           0.78322|  free|       Akron, OH|   GET|  About|       1509854193000|                 1|\u001c",
      "ÃÂg ÃÂtti Gr...|               200|       1538352011000|\"Mozilla/5.0 (Mac...|                10|\n",
      "|    25%|            112.0|     null|     null|  null|                27|    null|          199.3922|  null|            null|  null|   null|       1534367797000|               632|                22.0|               200|       1539722852000|                null|              96.0|\n",
      "|    50%|            311.0|     null|     null|  null|                68|    null|         234.00444|  null|            null|  null|   null|       1536555881000|              1973|               221.0|               200|       1541006684000|                null|             201.0|\n",
      "|    75%|            702.0|     null|     null|  null|               148|    null|         276.79302|  null|            null|  null|   null|       1537611935000|              3309|              1893.0|               200|       1542177946000|                null|          100008.0|\n",
      "|    max|ÃÂlafur Arnalds|Logged In|   Zyonna|     M|              1005|  Wright|        3024.66567|  paid|York-Hanover, PA|   PUT|Upgrade|       1543073874000|              4808|ÃÂ¾etta Gerist Ã...|               404|       1543622466000|Mozilla/5.0 (comp...|                99|\n",
      "+-------+-----------------+---------+---------+------+------------------+--------+------------------+------+----------------+------+-------+--------------------+------------------+--------------------+------------------+--------------------+--------------------+------------------+\n",
      "\n"
     ]
    }
   ],
   "source": [
    "event_data.summary().show()"
   ]
  },
  {
   "cell_type": "code",
   "execution_count": 13,
   "metadata": {},
   "outputs": [
    {
     "data": {
      "text/plain": [
       "[Row(artist='Martin Orford', auth='Logged In', firstName='Joseph', gender='M', itemInSession=20, lastName='Morales', length=597.55057, level='free', location='Corpus Christi, TX', method='PUT', page='NextSong', registration=1532063507000, sessionId=292, song='Grand Designs', status=200, ts=1538352011000, userAgent='\"Mozilla/5.0 (Macintosh; Intel Mac OS X 10_9_4) AppleWebKit/537.36 (KHTML, like Gecko) Chrome/36.0.1985.125 Safari/537.36\"', userId='293')]"
      ]
     },
     "execution_count": 13,
     "metadata": {},
     "output_type": "execute_result"
    }
   ],
   "source": [
    "event_data.take(1)"
   ]
  },
  {
   "cell_type": "code",
   "execution_count": 14,
   "metadata": {},
   "outputs": [
    {
     "name": "stdout",
     "output_type": "stream",
     "text": [
      "Number of rows of this subset: \n"
     ]
    },
    {
     "data": {
      "text/plain": [
       "528005"
      ]
     },
     "execution_count": 14,
     "metadata": {},
     "output_type": "execute_result"
    }
   ],
   "source": [
    "print(\"Number of rows of this subset: \")\n",
    "event_data.count()"
   ]
  },
  {
   "cell_type": "code",
   "execution_count": 15,
   "metadata": {},
   "outputs": [
    {
     "name": "stdout",
     "output_type": "stream",
     "text": [
      "Number of Users in this subset: \n"
     ]
    },
    {
     "data": {
      "text/plain": [
       "448"
      ]
     },
     "execution_count": 15,
     "metadata": {},
     "output_type": "execute_result"
    }
   ],
   "source": [
    "print(\"Number of Users in this subset: \")\n",
    "event_data.select(\"userId\").distinct().count()"
   ]
  },
  {
   "cell_type": "code",
   "execution_count": 16,
   "metadata": {},
   "outputs": [
    {
     "data": {
      "image/png": "[encoded data removed]",
      "text/plain": [
       "<matplotlib.figure.Figure at 0x7f58619d2e10>"
      ]
     },
     "metadata": {
      "needs_background": "light"
     },
     "output_type": "display_data"
    }
   ],
   "source": [
    "gender_count = event_data.groupby('gender').agg(countDistinct(\"userId\").alias(\"Users Count\")).sort(col('Users Count').desc())\n",
    "sns.barplot(x='gender',y='Users Count',data=gender_count.toPandas());"
   ]
  },
  {
   "cell_type": "code",
   "execution_count": 17,
   "metadata": {},
   "outputs": [
    {
     "data": {
      "image/png": "[encoded data removed]",
      "text/plain": [
       "<matplotlib.figure.Figure at 0x7f5861a06ef0>"
      ]
     },
     "metadata": {
      "needs_background": "light"
     },
     "output_type": "display_data"
    }
   ],
   "source": [
    "location_count = event_data.groupby('location').agg(countDistinct(\"userId\").alias(\"Users Count\")).sort(col('Users Count').desc()).limit(20)\n",
    "location_plot = sns.barplot(x='location',y='Users Count',data=location_count.toPandas(), palette=\"Blues_d\")\n",
    "for item in location_plot.get_xticklabels():\n",
    "    item.set_rotation(90)"
   ]
  },
  {
   "cell_type": "code",
   "execution_count": 18,
   "metadata": {},
   "outputs": [
    {
     "name": "stdout",
     "output_type": "stream",
     "text": [
      "List of different types of pages: \n",
      "+-------------------------+\n",
      "|page                     |\n",
      "+-------------------------+\n",
      "|About                    |\n",
      "|Add Friend               |\n",
      "|Add to Playlist          |\n",
      "|Cancel                   |\n",
      "|Cancellation Confirmation|\n",
      "|Downgrade                |\n",
      "|Error                    |\n",
      "|Help                     |\n",
      "|Home                     |\n",
      "|Logout                   |\n",
      "|NextSong                 |\n",
      "|Roll Advert              |\n",
      "|Save Settings            |\n",
      "|Settings                 |\n",
      "|Submit Downgrade         |\n",
      "|Submit Upgrade           |\n",
      "|Thumbs Down              |\n",
      "|Thumbs Up                |\n",
      "|Upgrade                  |\n",
      "+-------------------------+\n",
      "\n"
     ]
    }
   ],
   "source": [
    "print(\"List of different types of pages: \")\n",
    "event_data.select(['page']).sort('page').distinct().show(23, False)"
   ]
  },
  {
   "cell_type": "code",
   "execution_count": 19,
   "metadata": {},
   "outputs": [
    {
     "name": "stdout",
     "output_type": "stream",
     "text": [
      "Number of sessions per user, ordered by sessions count: \n",
      "+------+---------------+\n",
      "|userId|sessionId Count|\n",
      "+------+---------------+\n",
      "|    92|           9767|\n",
      "|   140|           7448|\n",
      "|300049|           7309|\n",
      "|   101|           6842|\n",
      "|300035|           6810|\n",
      "|   195|           6184|\n",
      "|   230|           6019|\n",
      "|   163|           5965|\n",
      "|   250|           5678|\n",
      "|    18|           5511|\n",
      "|   276|           5346|\n",
      "|300017|           5266|\n",
      "|    87|           5243|\n",
      "|   293|           5125|\n",
      "|300021|           5076|\n",
      "|    42|           4952|\n",
      "|300011|           4816|\n",
      "|    30|           4737|\n",
      "|    12|           4232|\n",
      "|300031|           4194|\n",
      "+------+---------------+\n",
      "only showing top 20 rows\n",
      "\n"
     ]
    }
   ],
   "source": [
    "print(\"Number of sessions per user, ordered by sessions count: \")\n",
    "event_data.groupby('userId').agg(count(\"sessionId\").alias(\"sessionId Count\")).sort(col('sessionId Count').desc()).show()"
   ]
  },
  {
   "cell_type": "markdown",
   "metadata": {},
   "source": [
    "### Define Churn\n",
    "\n",
    "Once you've done some preliminary analysis, create a column `Churn` to use as the label for your model. I suggest using the `Cancellation Confirmation` events to define your churn, which happen for both paid and free users. As a bonus task, you can also look into the `Downgrade` events."
   ]
  },
  {
   "cell_type": "code",
   "execution_count": 20,
   "metadata": {},
   "outputs": [],
   "source": [
    "churn_flag = udf(lambda x: 1 if x == 'Cancellation Confirmation' else 0, IntegerType())\n",
    "\n",
    "event_data = event_data.withColumn(\"churn_flag\", churn_flag('page'))\n",
    "\n",
    "user_window = Window \\\n",
    "    .partitionBy('userId')\n",
    "\n",
    "event_data = event_data.withColumn(\"churn\", max(event_data.churn_flag).over(user_window))"
   ]
  },
  {
   "cell_type": "markdown",
   "metadata": {},
   "source": [
    "### Explore Data\n",
    "Once you've defined churn, perform some exploratory data analysis to observe the behavior for users who stayed vs users who churned. You can start by exploring aggregates on these two groups of users, observing how much of a specific action they experienced per a certain time unit or number of songs played."
   ]
  },
  {
   "cell_type": "code",
   "execution_count": 21,
   "metadata": {},
   "outputs": [
    {
     "name": "stdout",
     "output_type": "stream",
     "text": [
      "+-----+-----------+\n",
      "|churn|Users Count|\n",
      "+-----+-----------+\n",
      "|    1|         99|\n",
      "|    0|        349|\n",
      "+-----+-----------+\n",
      "\n"
     ]
    }
   ],
   "source": [
    "event_data.groupby('churn').agg(countDistinct('userId').alias(\"Users Count\")).show()"
   ]
  },
  {
   "cell_type": "code",
   "execution_count": 22,
   "metadata": {},
   "outputs": [
    {
     "name": "stdout",
     "output_type": "stream",
     "text": [
      "+------+-----+-----------+\n",
      "|gender|churn|Users Count|\n",
      "+------+-----+-----------+\n",
      "|     M|    0|        196|\n",
      "|     F|    0|        153|\n",
      "|     M|    1|         54|\n",
      "|     F|    1|         45|\n",
      "+------+-----+-----------+\n",
      "\n"
     ]
    }
   ],
   "source": [
    "event_data.groupby('gender', 'churn').agg(countDistinct(\"userId\").alias(\"Users Count\")).sort(col('Users Count').desc()).show()"
   ]
  },
  {
   "cell_type": "code",
   "execution_count": 23,
   "metadata": {},
   "outputs": [
    {
     "name": "stdout",
     "output_type": "stream",
     "text": [
      "+-----+-----+-----------+\n",
      "|level|churn|Users Count|\n",
      "+-----+-----+-----------+\n",
      "| free|    0|        288|\n",
      "| paid|    0|        246|\n",
      "| free|    1|         82|\n",
      "| paid|    1|         75|\n",
      "+-----+-----+-----------+\n",
      "\n"
     ]
    }
   ],
   "source": [
    "event_data.groupby('level', 'churn').agg(countDistinct(\"userId\").alias(\"Users Count\")).sort(col('Users Count').desc()).show()"
   ]
  },
  {
   "cell_type": "markdown",
   "metadata": {},
   "source": [
    "The same user can pass from free to paid or from paid to free, so the total counts exceed the total number of users in the dataset"
   ]
  },
  {
   "cell_type": "code",
   "execution_count": 24,
   "metadata": {},
   "outputs": [
    {
     "name": "stdout",
     "output_type": "stream",
     "text": [
      "+---------+-----+-----------+\n",
      "|     auth|churn|Users Count|\n",
      "+---------+-----+-----------+\n",
      "|Logged In|    0|        349|\n",
      "|Cancelled|    1|         99|\n",
      "|Logged In|    1|         99|\n",
      "+---------+-----+-----------+\n",
      "\n"
     ]
    }
   ],
   "source": [
    "event_data.groupby('auth', 'churn').agg(countDistinct(\"userId\").alias(\"Users Count\")).sort(col('Users Count').desc()).show()"
   ]
  },
  {
   "cell_type": "markdown",
   "metadata": {},
   "source": [
    "Of course the users who churned are not anymore logged in and they end up in \"Cancelled\" type of authentication"
   ]
  },
  {
   "cell_type": "code",
   "execution_count": 25,
   "metadata": {},
   "outputs": [
    {
     "name": "stdout",
     "output_type": "stream",
     "text": [
      "+------+-----+-----------+\n",
      "|status|churn|Users Count|\n",
      "+------+-----+-----------+\n",
      "|   200|    0|        349|\n",
      "|   307|    0|        347|\n",
      "|   404|    0|        183|\n",
      "|   307|    1|         99|\n",
      "|   200|    1|         99|\n",
      "|   404|    1|         40|\n",
      "+------+-----+-----------+\n",
      "\n"
     ]
    }
   ],
   "source": [
    "event_data.groupby('status', 'churn').agg(countDistinct(\"userId\").alias(\"Users Count\")).sort(col('Users Count').desc()).show()"
   ]
  },
  {
   "cell_type": "markdown",
   "metadata": {},
   "source": [
    "Ratio for Users Count churn or not-churn does not seem to be affected by status"
   ]
  },
  {
   "cell_type": "markdown",
   "metadata": {},
   "source": [
    "# Feature Engineering\n",
    "Once you've familiarized yourself with the data, build out the features you find promising to train your model on. To work with the full dataset, you can follow the following steps.\n",
    "- Write a script to extract the necessary features from the smaller subset of data\n",
    "- Ensure that your script is scalable, using the best practices discussed in Lesson 3\n",
    "- Try your script on the full data set, debugging your script if necessary\n",
    "\n",
    "If you are working in the classroom workspace, you can just extract features based on the small subset of data contained here. Be sure to transfer over this work to the larger dataset when you work on your Spark cluster."
   ]
  },
  {
   "cell_type": "markdown",
   "metadata": {},
   "source": [
    "### Categorical Features"
   ]
  },
  {
   "cell_type": "code",
   "execution_count": 26,
   "metadata": {},
   "outputs": [],
   "source": [
    "event_data_agg = event_data.select([\"userId\", \"gender\"]).distinct()\n",
    "\n",
    "stringIndexer = StringIndexer(inputCol=\"gender\", outputCol=\"genderIndexed\")\n",
    "stringIndexer = stringIndexer.fit(event_data_agg)\n",
    "event_data_agg = stringIndexer.transform(event_data_agg)\n",
    "   \n",
    "encoder = OneHotEncoder(inputCol=\"genderIndexed\", outputCol=\"genderFeature\")\n",
    "event_data_agg_cat = encoder.transform(event_data_agg)"
   ]
  },
  {
   "cell_type": "code",
   "execution_count": 27,
   "metadata": {},
   "outputs": [
    {
     "name": "stdout",
     "output_type": "stream",
     "text": [
      "+------+------+-------------+-------------+\n",
      "|userId|gender|genderIndexed|genderFeature|\n",
      "+------+------+-------------+-------------+\n",
      "|   234|     M|          0.0|(1,[0],[1.0])|\n",
      "|   188|     F|          1.0|    (1,[],[])|\n",
      "|    44|     F|          1.0|    (1,[],[])|\n",
      "|   273|     M|          0.0|(1,[0],[1.0])|\n",
      "|    46|     F|          1.0|    (1,[],[])|\n",
      "|   220|     F|          1.0|    (1,[],[])|\n",
      "|    41|     F|          1.0|    (1,[],[])|\n",
      "|   186|     M|          0.0|(1,[0],[1.0])|\n",
      "|   254|     M|          0.0|(1,[0],[1.0])|\n",
      "|   280|     M|          0.0|(1,[0],[1.0])|\n",
      "+------+------+-------------+-------------+\n",
      "only showing top 10 rows\n",
      "\n"
     ]
    }
   ],
   "source": [
    "event_data_agg_cat.show(10)"
   ]
  },
  {
   "cell_type": "code",
   "execution_count": 28,
   "metadata": {},
   "outputs": [
    {
     "data": {
      "text/plain": [
       "448"
      ]
     },
     "execution_count": 28,
     "metadata": {},
     "output_type": "execute_result"
    }
   ],
   "source": [
    "event_data_agg_cat.count()"
   ]
  },
  {
   "cell_type": "markdown",
   "metadata": {},
   "source": [
    "#### Side note on data leakage"
   ]
  },
  {
   "cell_type": "code",
   "execution_count": 27,
   "metadata": {},
   "outputs": [],
   "source": [
    "# it would be useful to use the last value of level\n",
    "spec = Window\\\n",
    "    .partitionBy('userId')\\\n",
    "    .orderBy(col('ts').desc())\\\n",
    "    .rowsBetween(Window.unboundedPreceding, Window.unboundedFollowing)\n",
    "\n",
    "event_data_agg_1 = event_data.withColumn('lastLevel', last('level').over(spec)).select(['userId', 'lastLevel']).distinct()"
   ]
  },
  {
   "cell_type": "markdown",
   "metadata": {},
   "source": [
    "### Numerical Features"
   ]
  },
  {
   "cell_type": "code",
   "execution_count": 29,
   "metadata": {},
   "outputs": [
    {
     "name": "stdout",
     "output_type": "stream",
     "text": [
      "+------+-----+----------+---------------+------+-------------------------+---------+-----+----+----+------+--------+-----------+-------------+--------+----------------+--------------+-----------+---------+-------+\n",
      "|userId|About|Add Friend|Add to Playlist|Cancel|Cancellation Confirmation|Downgrade|Error|Help|Home|Logout|NextSong|Roll Advert|Save Settings|Settings|Submit Downgrade|Submit Upgrade|Thumbs Down|Thumbs Up|Upgrade|\n",
      "+------+-----+----------+---------------+------+-------------------------+---------+-----+----+----+------+--------+-----------+-------------+--------+----------------+--------------+-----------+---------+-------+\n",
      "|     0|  157|        39|             20|   349|                      349|      147|  225|  88|   8|    22|       0|         53|          206|      69|             351|           215|         59|        9|    133|\n",
      "+------+-----+----------+---------------+------+-------------------------+---------+-----+----+----+------+--------+-----------+-------------+--------+----------------+--------------+-----------+---------+-------+\n",
      "\n"
     ]
    }
   ],
   "source": [
    "#count of page actions for each uers\n",
    "event_data_agg_2 = event_data.groupby('userId').pivot('page').count()\n",
    "event_data_agg_2.select([count(when(isnan(c) | col(c).isNull(), c)).alias(c) for c in event_data_agg_2.columns]).show()"
   ]
  },
  {
   "cell_type": "code",
   "execution_count": 30,
   "metadata": {},
   "outputs": [
    {
     "name": "stdout",
     "output_type": "stream",
     "text": [
      "+------+-----+----------+---------------+------+-------------------------+---------+-----+----+----+------+--------+-----------+-------------+--------+----------------+--------------+-----------+---------+-------+\n",
      "|userId|About|Add Friend|Add to Playlist|Cancel|Cancellation Confirmation|Downgrade|Error|Help|Home|Logout|NextSong|Roll Advert|Save Settings|Settings|Submit Downgrade|Submit Upgrade|Thumbs Down|Thumbs Up|Upgrade|\n",
      "+------+-----+----------+---------------+------+-------------------------+---------+-----+----+----+------+--------+-----------+-------------+--------+----------------+--------------+-----------+---------+-------+\n",
      "|200002|    1|         2|              6|     1|                        1|        3| null|   1|  23|    11|     310|         11|         null|       2|            null|             1|          5|       15|      2|\n",
      "|100010| null|         3|              1|     1|                        1|     null| null|null|   3|     1|      96|         22|         null|    null|            null|          null|          3|        4|      2|\n",
      "|   296| null|         2|              3|     1|                        1|        1| null|   2|   7|     3|     112|          9|         null|       1|            null|             1|       null|        8|      1|\n",
      "|   125| null|         3|              2|  null|                     null|     null| null|   2|   2|  null|      62|          6|         null|       3|            null|          null|          1|        3|   null|\n",
      "|    51| null|         3|              8|     1|                        1|        4|    2|null|  17|     6|     266|          1|         null|       2|            null|          null|          1|       16|   null|\n",
      "|   124|    3|        26|             45|     1|                        1|       21| null|  10|  70|    17|    1826|          1|            3|      15|            null|          null|         15|      102|   null|\n",
      "|     7|    2|        16|              6|  null|                     null|     null| null|   3|  36|    11|     462|         35|            2|       5|            null|          null|          4|       12|      6|\n",
      "|200037|    1|         2|              4|     1|                        1|     null| null|null|   6|  null|     122|          9|         null|       1|            null|          null|          3|        5|   null|\n",
      "|   169| null|         6|           null|  null|                     null|     null| null|null|   6|  null|     112|         13|            1|       3|            null|          null|       null|        6|      2|\n",
      "|   205|    3|        21|             25|  null|                     null|       10|    1|  11|  43|    17|    1048|       null|            2|       3|            null|          null|         10|       50|   null|\n",
      "|   272| null|      null|              3|  null|                     null|     null| null|null|   5|     2|      97|         12|         null|    null|            null|          null|          4|        7|      1|\n",
      "|   282|    6|        79|             66|  null|                     null|       19|    4|  19| 110|    34|    2629|         37|            3|      17|            null|             1|         29|      133|      5|\n",
      "|   232|    6|        43|             61|  null|                     null|       14|    1|  21|  95|    30|    1876|         38|            4|      13|               1|             2|         17|       97|      6|\n",
      "|    54|    2|        20|             15|     1|                        1|        5| null|   2|  20|     5|     517|       null|         null|       3|            null|          null|          7|       26|   null|\n",
      "|   234|    3|        17|             51|     1|                        1|       14|    2|   7|  64|    22|    1674|         30|            2|      17|            null|             1|         22|       91|      2|\n",
      "|    15|    3|        32|             57|  null|                     null|       26|    1|  12|  66|    20|    1835|       null|         null|      12|            null|          null|         16|       93|   null|\n",
      "|200043| null|        12|             23|  null|                     null|        1| null|   3|  29|    12|     615|         41|            2|      10|            null|             1|         22|       33|      4|\n",
      "|   155| null|      null|              4|  null|                     null|        1|    1|   1|  11|     3|     140|       null|            2|       2|            null|          null|       null|        7|   null|\n",
      "|   132|    1|         4|              4|     1|                        1|        2| null|null|   4|     1|     113|          5|         null|    null|            null|             1|          1|        4|      2|\n",
      "|100014| null|         3|             11|     1|                        1|        9| null|   2|  18|     6|     332|          3|         null|       3|            null|          null|          3|       14|   null|\n",
      "+------+-----+----------+---------------+------+-------------------------+---------+-----+----+----+------+--------+-----------+-------------+--------+----------------+--------------+-----------+---------+-------+\n",
      "only showing top 20 rows\n",
      "\n"
     ]
    }
   ],
   "source": [
    "event_data_agg_2.show()"
   ]
  },
  {
   "cell_type": "code",
   "execution_count": 31,
   "metadata": {},
   "outputs": [],
   "source": [
    "#replacing null values with 0 as in this case when the count is null, it means the user did not click on that page action\n",
    "event_data_agg_2 = event_data_agg_2.fillna(0)"
   ]
  },
  {
   "cell_type": "code",
   "execution_count": 32,
   "metadata": {},
   "outputs": [],
   "source": [
    "#number of sessions per user\n",
    "event_data_agg_3 = event_data.groupby('userId').agg(count('sessionId').alias('numSessions'))\n",
    "\n",
    "#number of songs per user\n",
    "event_data_agg_4 = event_data.groupby('userId').agg(count('song').alias('numSongs'))\n",
    "\n",
    "#average number of songs per user per session\n",
    "event_data_agg_5 = event_data.groupby('userId', 'sessionId').agg(count('song').alias('numSongs')).groupby('userId').agg(round(avg('numSongs'), 1).alias('avgSongs'))"
   ]
  },
  {
   "cell_type": "code",
   "execution_count": 33,
   "metadata": {},
   "outputs": [],
   "source": [
    "event_data_agg_num = event_data_agg_2.join(event_data_agg_3, ['userId'])\\\n",
    "                                     .join(event_data_agg_4, ['userId'])\\\n",
    "                                     .join(event_data_agg_5, ['userId'])\n",
    "\n",
    "# we cannot use \"Cancellation Confirmation\"  and \"Cancel\" as it would result in data leakage, as this information was used to build the churn column\n",
    "event_data_agg_num = event_data_agg_num.drop(\"Cancellation Confirmation\", \"Cancel\")\n",
    "\n",
    "num_features = [\"About\",\"Add Friend\",\"Add to Playlist\",\"Downgrade\",\"Error\",\"Help\",\"Home\",\"Logout\",\"NextSong\",\"Roll Advert\",\"Save Settings\",\"Settings\",\"Submit Downgrade\",\"Submit Upgrade\",\"Thumbs Down\",\"Thumbs Up\",\"Upgrade\",\"numSessions\",\"numSongs\",\"avgSongs\"]\n",
    "assembler = VectorAssembler(inputCols=num_features, outputCol=\"NumFeatures\")\n",
    "event_data_agg_num = assembler.transform(event_data_agg_num)"
   ]
  },
  {
   "cell_type": "code",
   "execution_count": 34,
   "metadata": {},
   "outputs": [],
   "source": [
    "scaler = StandardScaler(inputCol=\"NumFeatures\", outputCol=\"ScaledNumFeatures\", withStd=True)\n",
    "scalerModel = scaler.fit(event_data_agg_num)\n",
    "event_data_agg_num = scalerModel.transform(event_data_agg_num)"
   ]
  },
  {
   "cell_type": "code",
   "execution_count": 35,
   "metadata": {},
   "outputs": [
    {
     "data": {
      "text/plain": [
       "448"
      ]
     },
     "execution_count": 35,
     "metadata": {},
     "output_type": "execute_result"
    }
   ],
   "source": [
    "event_data_agg_num.count()"
   ]
  },
  {
   "cell_type": "markdown",
   "metadata": {},
   "source": [
    "### Final Joins"
   ]
  },
  {
   "cell_type": "code",
   "execution_count": 36,
   "metadata": {},
   "outputs": [],
   "source": [
    "event_data_agg_final = event_data_agg_cat.join(event_data_agg_num, ['userId']).join(event_data.select(\"userId\", \"churn\").distinct(), [\"userId\"])"
   ]
  },
  {
   "cell_type": "code",
   "execution_count": 37,
   "metadata": {},
   "outputs": [],
   "source": [
    "features = event_data_agg_final.drop('userId', 'gender', 'genderIndexed', 'Cancel', 'Cancellation Confirmation', 'NumFeatures', 'ScaledNumFeatures', 'churn')"
   ]
  },
  {
   "cell_type": "code",
   "execution_count": 38,
   "metadata": {},
   "outputs": [],
   "source": [
    "event_data_final = event_data_agg_final.select(col(\"churn\").alias(\"label\"), col(\"ScaledNumFeatures\"), col(\"genderFeature\"))\n",
    "\n",
    "assembler2 = VectorAssembler(inputCols=['genderFeature', 'ScaledNumFeatures'], outputCol='all_features')\n",
    "event_data_final = assembler2.transform(event_data_final)\n",
    "event_data_final = event_data_final.select(event_data_final.label, event_data_final.all_features.alias('features'))"
   ]
  },
  {
   "cell_type": "code",
   "execution_count": 39,
   "metadata": {},
   "outputs": [
    {
     "data": {
      "text/plain": [
       "448"
      ]
     },
     "execution_count": 39,
     "metadata": {},
     "output_type": "execute_result"
    }
   ],
   "source": [
    "event_data_final.count()"
   ]
  },
  {
   "cell_type": "markdown",
   "metadata": {},
   "source": [
    "# Modeling\n",
    "Split the full dataset into train, test, and validation sets. Test out several of the machine learning methods you learned. Evaluate the accuracy of the various models, tuning parameters as necessary. Determine your winning model based on test accuracy and report results on the validation set. Since the churned users are a fairly small subset, I suggest using F1 score as the metric to optimize."
   ]
  },
  {
   "cell_type": "code",
   "execution_count": 40,
   "metadata": {},
   "outputs": [],
   "source": [
    "rest, validation = event_data_final.randomSplit([0.8, 0.2], seed=42)"
   ]
  },
  {
   "cell_type": "markdown",
   "metadata": {},
   "source": [
    "### First model: Logistic Regression"
   ]
  },
  {
   "cell_type": "code",
   "execution_count": 41,
   "metadata": {},
   "outputs": [],
   "source": [
    "# Defining ML model and pipeline step\n",
    "lr = LogisticRegression(maxIter=10, regParam=0.0, elasticNetParam=0)\n",
    "\n",
    "pipeline = Pipeline(stages=[lr])"
   ]
  },
  {
   "cell_type": "code",
   "execution_count": 42,
   "metadata": {},
   "outputs": [],
   "source": [
    "# Defining hyper-parameters tuning\n",
    "paramGrid = ParamGridBuilder() \\\n",
    "    .addGrid(lr.regParam,[0.0, 0.1]) \\\n",
    "    .addGrid(lr.elasticNetParam,[0.0, 0.5, 1.0]) \\\n",
    "    .build()"
   ]
  },
  {
   "cell_type": "code",
   "execution_count": 43,
   "metadata": {},
   "outputs": [],
   "source": [
    "# Defining evalutation metrics\n",
    "evaluator = MulticlassClassificationEvaluator(metricName=\"f1\")"
   ]
  },
  {
   "cell_type": "code",
   "execution_count": 44,
   "metadata": {},
   "outputs": [],
   "source": [
    "# ML pipeline initialization with Cross Validation\n",
    "crossval = CrossValidator(estimator=pipeline,\n",
    "                          estimatorParamMaps=paramGrid,\n",
    "                          evaluator=evaluator,\n",
    "                          numFolds=3)"
   ]
  },
  {
   "cell_type": "code",
   "execution_count": 45,
   "metadata": {},
   "outputs": [],
   "source": [
    "# Model fitting\n",
    "cvModel_lr = crossval.fit(rest)"
   ]
  },
  {
   "cell_type": "code",
   "execution_count": 46,
   "metadata": {},
   "outputs": [],
   "source": [
    "# Model testing\n",
    "results = cvModel_lr.transform(validation)\n",
    "results_rest = cvModel_lr.transform(rest)"
   ]
  },
  {
   "cell_type": "code",
   "execution_count": 47,
   "metadata": {},
   "outputs": [
    {
     "name": "stdout",
     "output_type": "stream",
     "text": [
      "Total count: 86\n",
      "Accuracy: 0.6976744186046512\n",
      "Precision: 0.2727272727272727\n",
      "Recall: 0.14285714285714285\n",
      "F1-score: 0.18749999999999997\n"
     ]
    }
   ],
   "source": [
    "# Evaluation 1:\n",
    "# 1.1: check counts of correct predictions on testing\n",
    "try: \n",
    "    precision = ((results.filter((results.label == results.prediction) & (results.label == 1.0)).count())/((results.filter((results.label == results.prediction) & (results.label == 1.0)).count())+(results.filter((results.prediction == 1.0) & (results.label == 0.0)).count())))\n",
    "    recall = ((results.filter((results.label == results.prediction) & (results.label == 1.0)).count())/((results.filter((results.label == results.prediction) & (results.label == 1.0)).count())+(results.filter((results.prediction == 0.0) & (results.label == 1.0)).count())))\n",
    "    f1 = 2 * ((precision*recall)/(precision+recall))\n",
    "\n",
    "    print(\"Total count: %s\" % (results.count()))\n",
    "    print(\"Accuracy: %s\" % ((results.filter(results.label == results.prediction).count())/results.count()))\n",
    "    print(\"Precision: %s\" % (precision))\n",
    "    print(\"Recall: %s\" % (recall))\n",
    "    print(\"F1-score: %s\" % (f1))\n",
    "except ZeroDivisionError:\n",
    "    print(\"Precision or Recall could not be computed: division by zero\")"
   ]
  },
  {
   "cell_type": "code",
   "execution_count": 48,
   "metadata": {},
   "outputs": [
    {
     "name": "stdout",
     "output_type": "stream",
     "text": [
      "Total count_rest: 362\n",
      "Accuracy_rest: 0.7955801104972375\n",
      "Precision_rest: 0.6\n",
      "Recall_rest: 0.15384615384615385\n",
      "F1-score_rest: 0.2448979591836735\n"
     ]
    }
   ],
   "source": [
    "# 1.2: check counts of correct predictions on training \n",
    "try:\n",
    "    precision = ((results_rest.filter((results_rest.label == results_rest.prediction) & (results_rest.label == 1.0)).count())/((results_rest.filter((results_rest.label == results_rest.prediction) & (results_rest.label == 1.0)).count())+(results_rest.filter((results_rest.prediction == 1.0) & (results_rest.label == 0.0)).count())))\n",
    "    recall = ((results_rest.filter((results_rest.label == results_rest.prediction) & (results_rest.label == 1.0)).count())/((results_rest.filter((results_rest.label == results_rest.prediction) & (results_rest.label == 1.0)).count())+(results_rest.filter((results_rest.prediction == 0.0) & (results_rest.label == 1.0)).count())))\n",
    "    f1 = 2 * ((precision*recall)/(precision+recall))\n",
    "\n",
    "    print(\"Total count_rest: %s\" % (results_rest.count()))\n",
    "    print(\"Accuracy_rest: %s\" % ((results_rest.filter(results_rest.label == results_rest.prediction).count())/results_rest.count()))\n",
    "    print(\"Precision_rest: %s\" % (precision))\n",
    "    print(\"Recall_rest: %s\" % (recall))\n",
    "    print(\"F1-score_rest: %s\" % (f1))\n",
    "except ZeroDivisionError:\n",
    "    print(\"Precision or Recall could not be computed: division by zero\")"
   ]
  },
  {
   "cell_type": "code",
   "execution_count": 49,
   "metadata": {},
   "outputs": [
    {
     "data": {
      "text/plain": [
       "0.661233388704319"
      ]
     },
     "execution_count": 49,
     "metadata": {},
     "output_type": "execute_result"
    }
   ],
   "source": [
    "# Evaluation 2: using f1 to evaluate model\n",
    "evaluator.evaluate(results)"
   ]
  },
  {
   "cell_type": "code",
   "execution_count": 50,
   "metadata": {},
   "outputs": [
    {
     "name": "stdout",
     "output_type": "stream",
     "text": [
      "+-----+--------------------+--------------------+--------------------+----------+\n",
      "|label|            features|       rawPrediction|         probability|prediction|\n",
      "+-----+--------------------+--------------------+--------------------+----------+\n",
      "|    1|[0.0,0.0,0.090076...|[0.99271837192236...|[0.72962451720948...|       0.0|\n",
      "|    1|[1.0,0.3172844150...|[1.06744598581378...|[0.74411090960505...|       0.0|\n",
      "|    1|[0.0,0.9518532451...|[1.78101902319064...|[0.85582264902503...|       0.0|\n",
      "|    1|[1.0,0.3172844150...|[1.54312222533250...|[0.82391814660984...|       0.0|\n",
      "|    0|(21,[3,7,8,9,10,1...|[0.92758114519073...|[0.71658429472501...|       0.0|\n",
      "|    0|[0.0,1.9037064902...|[3.26076044433577...|[0.96305785488194...|       0.0|\n",
      "|    1|[0.0,0.6345688300...|[1.60990125262085...|[0.83339767619835...|       0.0|\n",
      "|    0|[0.0,0.0,0.540456...|[-0.3078974296496...|[0.42362803522889...|       1.0|\n",
      "|    0|(21,[0,9,10,18,19...|[1.62904130102876...|[0.83603826429950...|       0.0|\n",
      "|    1|[1.0,1.5864220752...|[1.43863437430633...|[0.80824308739255...|       0.0|\n",
      "|    0|(21,[1,2,3,6,7,9,...|[1.30847292486710...|[0.78725750875695...|       0.0|\n",
      "|    1|[0.0,1.5864220752...|[0.79573932932816...|[0.68906234543739...|       0.0|\n",
      "|    0|[1.0,0.0,0.090076...|[1.65482402370417...|[0.83954196561370...|       0.0|\n",
      "|    0|[0.0,1.5864220752...|[-0.1801009354923...|[0.45509607716242...|       1.0|\n",
      "|    0|[1.0,0.3172844150...|[1.95728393289621...|[0.87623871094258...|       0.0|\n",
      "|    0|[1.0,2.2209909053...|[2.42299832020200...|[0.91856431229437...|       0.0|\n",
      "|    0|(21,[8,9,18,19,20...|[1.68094001568007...|[0.84302896456593...|       0.0|\n",
      "|    0|[0.0,0.3172844150...|[0.47353522260285...|[0.61622015412575...|       0.0|\n",
      "|    0|[1.0,0.3172844150...|[2.12333630724941...|[0.89315073952008...|       0.0|\n",
      "|    1|[1.0,4.1246973956...|[3.37789592512553...|[0.96700654084604...|       0.0|\n",
      "|    0|[0.0,0.3172844150...|[0.24009356886962...|[0.55973670771536...|       0.0|\n",
      "|    0|[0.0,0.9518532451...|[1.75244624930329...|[0.85226107992750...|       0.0|\n",
      "|    0|[1.0,0.9518532451...|[1.75119091980143...|[0.85210294880869...|       0.0|\n",
      "|    1|(21,[0,3,7,8,9,10...|[0.98331312049247...|[0.72776511698809...|       0.0|\n",
      "|    0|[0.0,0.9518532451...|[0.55999434108685...|[0.63645123091724...|       0.0|\n",
      "|    0|[0.0,0.0,0.630532...|[1.48234296097917...|[0.81492621032160...|       0.0|\n",
      "|    0|[0.0,0.0,0.450380...|[-0.7553198803925...|[0.31966323213265...|       1.0|\n",
      "|    1|[0.0,0.3172844150...|[0.60102710597870...|[0.64589125671670...|       0.0|\n",
      "|    1|[0.0,0.3172844150...|[-0.7262285851456...|[0.32602288343878...|       1.0|\n",
      "|    0|[0.0,0.3172844150...|[2.19647419813656...|[0.89993244559863...|       0.0|\n",
      "|    1|[0.0,0.9518532451...|[2.10051012222957...|[0.89095275009789...|       0.0|\n",
      "|    0|[1.0,0.3172844150...|[0.74939628571615...|[0.67904713862801...|       0.0|\n",
      "|    0|[1.0,0.3172844150...|[1.70736800398568...|[0.84649459054063...|       0.0|\n",
      "|    0|[0.0,1.9037064902...|[7.92423876992378...|[0.99963826569136...|       0.0|\n",
      "|    1|[1.0,0.0,0.135114...|[1.19385347985990...|[0.76742954750558...|       0.0|\n",
      "|    0|[0.0,0.9518532451...|[1.31660512633677...|[0.78861633350934...|       0.0|\n",
      "|    0|[1.0,0.3172844150...|[-0.0536214522704...|[0.48659784800129...|       1.0|\n",
      "|    1|[0.0,1.9037064902...|[0.31959255762979...|[0.57922495211288...|       0.0|\n",
      "|    0|[0.0,0.3172844150...|[0.71427622489841...|[0.67134535974043...|       0.0|\n",
      "|    0|[0.0,0.3172844150...|[-0.5899554550041...|[0.35664507506136...|       1.0|\n",
      "|    0|[0.0,0.6345688300...|[2.05609430886354...|[0.88656196781760...|       0.0|\n",
      "|    0|[0.0,0.3172844150...|[0.42023218648053...|[0.60353880871503...|       0.0|\n",
      "|    0|[1.0,0.3172844150...|[2.30156708781520...|[0.90900674138656...|       0.0|\n",
      "|    0|[1.0,0.3172844150...|[0.82689417481298...|[0.69569781921311...|       0.0|\n",
      "|    1|[1.0,0.0,0.045038...|[1.31732070133949...|[0.78873559566435...|       0.0|\n",
      "|    1|[1.0,0.3172844150...|[0.44755365252632...|[0.61005743573778...|       0.0|\n",
      "|    0|[1.0,0.0,0.090076...|[1.71261157843517...|[0.84717471121398...|       0.0|\n",
      "|    1|[1.0,0.3172844150...|[0.85056759213762...|[0.70068619432196...|       0.0|\n",
      "|    0|[0.0,0.6345688300...|[3.82266593869898...|[0.97859861530769...|       0.0|\n",
      "|    1|[0.0,0.0,0.045038...|[-0.0958496779060...|[0.47605590923477...|       1.0|\n",
      "|    0|[0.0,0.6345688300...|[1.79251850439127...|[0.85723577503105...|       0.0|\n",
      "|    0|[0.0,0.6345688300...|[1.54621428141233...|[0.82436628373666...|       0.0|\n",
      "|    0|[1.0,0.0,0.225190...|[1.42380206313772...|[0.80593376808845...|       0.0|\n",
      "|    0|[1.0,0.3172844150...|[-0.0327031529385...|[0.49182494035198...|       1.0|\n",
      "|    0|[0.0,0.3172844150...|[1.37649673403899...|[0.79842777101001...|       0.0|\n",
      "|    0|[1.0,0.6345688300...|[1.11869217820054...|[0.75374604836102...|       0.0|\n",
      "|    0|[0.0,0.6345688300...|[1.84962533153634...|[0.86408310662046...|       0.0|\n",
      "|    0|(21,[3,6,7,8,9,10...|[1.30580651089697...|[0.78681058736275...|       0.0|\n",
      "|    0|[0.0,1.5864220752...|[3.30160106047308...|[0.96448369569244...|       0.0|\n",
      "|    0|[1.0,0.0,0.135114...|[1.76403095108722...|[0.85371378989962...|       0.0|\n",
      "|    0|[1.0,0.3172844150...|[-0.6429048516792...|[0.34459018921678...|       1.0|\n",
      "|    1|[0.0,1.2691376601...|[-3.3535347248636...|[0.03377960557112...|       1.0|\n",
      "|    0|[0.0,1.5864220752...|[2.10411302826242...|[0.89130230110236...|       0.0|\n",
      "|    0|[1.0,1.2691376601...|[-0.1173324350536...|[0.47070049713779...|       1.0|\n",
      "|    0|[1.0,0.0,0.135114...|[1.40433309845192...|[0.80287058561182...|       0.0|\n",
      "|    0|[0.0,0.3172844150...|[1.38905170853608...|[0.80044081066685...|       0.0|\n",
      "|    0|[0.0,0.9518532451...|[1.91443454168745...|[0.87151652636503...|       0.0|\n",
      "|    0|[0.0,0.3172844150...|[1.01899569730006...|[0.73477692731625...|       0.0|\n",
      "|    0|[1.0,1.9037064902...|[1.92782483223945...|[0.87300846618532...|       0.0|\n",
      "|    0|[0.0,0.3172844150...|[0.87824074856681...|[0.70645752837358...|       0.0|\n",
      "|    0|[1.0,0.3172844150...|[1.19178189416155...|[0.76705960309492...|       0.0|\n",
      "|    0|[1.0,0.0,0.270228...|[1.25665050641703...|[0.77844897226318...|       0.0|\n",
      "|    0|[0.0,0.6345688300...|[1.39893792657209...|[0.80201529945415...|       0.0|\n",
      "|    0|[1.0,0.3172844150...|[0.89196464171745...|[0.70929543919994...|       0.0|\n",
      "|    0|(21,[0,3,7,8,9,10...|[1.47730809757356...|[0.81416564039991...|       0.0|\n",
      "|    0|[0.0,3.1728441504...|[0.84464633135978...|[0.69944288378868...|       0.0|\n",
      "|    0|[1.0,0.3172844150...|[2.74819806912781...|[0.93981150283133...|       0.0|\n",
      "|    0|[0.0,2.8555597354...|[1.66209976030041...|[0.84051966956101...|       0.0|\n",
      "|    1|[1.0,0.0,0.045038...|[1.00016685712511...|[0.73109138346712...|       0.0|\n",
      "|    0|(21,[0,7,9,10,16,...|[1.54325131081051...|[0.82393687316512...|       0.0|\n",
      "|    1|[1.0,0.3172844150...|[1.01761654399342...|[0.73450807119219...|       0.0|\n",
      "|    0|[1.0,0.0,0.135114...|[1.70512395461250...|[0.84620276861791...|       0.0|\n",
      "|    0|[0.0,0.0,0.0,0.08...|[1.70688786085947...|[0.84643218964296...|       0.0|\n",
      "|    0|[0.0,0.6345688300...|[1.98867208847813...|[0.87960258007668...|       0.0|\n",
      "|    0|[0.0,0.0,0.0,0.05...|[0.87870026637663...|[0.70655281197086...|       0.0|\n",
      "|    0|[0.0,0.3172844150...|[2.94159135512731...|[0.94986456439830...|       0.0|\n",
      "+-----+--------------------+--------------------+--------------------+----------+\n",
      "\n"
     ]
    }
   ],
   "source": [
    "results.show(86)"
   ]
  },
  {
   "cell_type": "code",
   "execution_count": 51,
   "metadata": {},
   "outputs": [
    {
     "name": "stdout",
     "output_type": "stream",
     "text": [
      "+-----+--------------------+--------------------+--------------------+----------+\n",
      "|label|            features|       rawPrediction|         probability|prediction|\n",
      "+-----+--------------------+--------------------+--------------------+----------+\n",
      "|    1|(21,[2,3,7,8,9,10...|[0.50594646967418...|[0.62385575265985...|       0.0|\n",
      "|    0|[1.0,0.0,0.135114...|[1.27657232257152...|[0.78186574503528...|       0.0|\n",
      "|    0|[1.0,0.6345688300...|[2.00985760031704...|[0.88182818391989...|       0.0|\n",
      "|    1|[1.0,0.0,0.135114...|[1.20628932395362...|[0.76964172924208...|       0.0|\n",
      "|    0|(21,[0,2,7,9,10,1...|[1.55743094234343...|[0.82598440080024...|       0.0|\n",
      "|    0|[0.0,0.9518532451...|[1.37716636649199...|[0.79853552070017...|       0.0|\n",
      "|    0|[1.0,0.9518532451...|[0.80418691863106...|[0.69086939049620...|       0.0|\n",
      "|    0|[1.0,1.9037064902...|[1.87239148062203...|[0.86673474927234...|       0.0|\n",
      "|    1|[1.0,0.9518532451...|[0.66540931237398...|[0.66047446656628...|       0.0|\n",
      "|    0|[0.0,0.0,0.0,0.11...|[1.92278050906028...|[0.87244817584892...|       0.0|\n",
      "|    1|[0.0,0.3172844150...|[0.93327021013873...|[0.71773826900259...|       0.0|\n",
      "|    1|[1.0,0.0,0.135114...|[0.43316506630870...|[0.60662920323280...|       0.0|\n",
      "|    1|[1.0,0.0,0.180152...|[1.56446906032602...|[0.82699369903382...|       0.0|\n",
      "|    0|[0.0,0.3172844150...|[0.97237595375016...|[0.72559282237883...|       0.0|\n",
      "|    1|[1.0,0.3172844150...|[1.19396765837213...|[0.76744992562826...|       0.0|\n",
      "|    0|[1.0,4.4419818106...|[4.53265816096351...|[0.98936231959593...|       0.0|\n",
      "|    1|[0.0,0.3172844150...|[1.73901331536996...|[0.85056169481618...|       0.0|\n",
      "|    0|[0.0,0.3172844150...|[1.93623001179823...|[0.87393738594146...|       0.0|\n",
      "|    0|[0.0,4.1246973956...|[10.7390854787475...|[0.99997831971334...|       0.0|\n",
      "|    0|[1.0,0.0,0.315266...|[1.06627223531965...|[0.74388735190404...|       0.0|\n",
      "|    0|[0.0,0.3172844150...|[1.28325303937012...|[0.78300300688627...|       0.0|\n",
      "|    0|[1.0,0.0,0.720608...|[-0.2596421912737...|[0.43545166754061...|       1.0|\n",
      "|    0|[1.0,1.5864220752...|[0.90068286144513...|[0.71108981064513...|       0.0|\n",
      "|    0|[0.0,0.0,0.315266...|[0.39317240520609...|[0.59704615742889...|       0.0|\n",
      "|    0|[0.0,2.5382753203...|[1.04933693285898...|[0.74064755176492...|       0.0|\n",
      "|    0|[1.0,0.6345688300...|[1.67961641598911...|[0.84285373158789...|       0.0|\n",
      "|    0|[0.0,0.0,0.180152...|[1.09123359470114...|[0.74861394434973...|       0.0|\n",
      "|    0|[1.0,1.5864220752...|[2.50487623806088...|[0.92448295617013...|       0.0|\n",
      "|    0|(21,[0,7,8,9,10,1...|[1.62361269403156...|[0.83529276203370...|       0.0|\n",
      "|    0|[0.0,0.0,0.225190...|[1.42354387997492...|[0.80589338388274...|       0.0|\n",
      "|    0|[0.0,5.3938350558...|[12.4455948484338...|[0.99999606499648...|       0.0|\n",
      "|    0|[0.0,1.9037064902...|[2.51337668644543...|[0.92507427114336...|       0.0|\n",
      "|    0|[1.0,2.8555597354...|[1.66349675942640...|[0.84070684313131...|       0.0|\n",
      "|    0|(21,[0,3,7,8,9,10...|[1.55321341991191...|[0.82537736503104...|       0.0|\n",
      "|    0|[1.0,1.2691376601...|[1.57227402958738...|[0.82810754756204...|       0.0|\n",
      "|    0|[1.0,0.0,0.630532...|[1.78570891886102...|[0.85640037124376...|       0.0|\n",
      "|    1|[0.0,0.9518532451...|[1.27717963095085...|[0.78196930478239...|       0.0|\n",
      "|    0|[1.0,0.3172844150...|[0.89484499432017...|[0.70988899647890...|       0.0|\n",
      "|    0|[1.0,0.6345688300...|[2.03392517984347...|[0.88431324305378...|       0.0|\n",
      "|    0|[1.0,6.3456883009...|[8.48907088450889...|[0.99979433801115...|       0.0|\n",
      "|    1|[1.0,0.0,0.045038...|[0.75390306818832...|[0.68002856276576...|       0.0|\n",
      "|    0|(21,[3,6,7,8,9,10...|[1.63744494524321...|[0.83718697079019...|       0.0|\n",
      "|    0|[1.0,0.0,0.0,0.05...|[1.27798757772732...|[0.78210702292164...|       0.0|\n",
      "|    0|[1.0,0.0,0.270228...|[0.87773544213094...|[0.70635272937456...|       0.0|\n",
      "|    0|[1.0,1.9037064902...|[2.35558387214178...|[0.91337704126649...|       0.0|\n",
      "|    0|[1.0,2.2209909053...|[3.00606300070803...|[0.95284728257788...|       0.0|\n",
      "|    0|[0.0,0.0,0.810685...|[0.60279187818008...|[0.64629478390002...|       0.0|\n",
      "|    0|[1.0,1.2691376601...|[2.20150041585386...|[0.90038416782544...|       0.0|\n",
      "|    0|[1.0,1.2691376601...|[2.62716227948819...|[0.93258937088242...|       0.0|\n",
      "|    0|(21,[3,6,7,8,9,10...|[0.98721209640676...|[0.72853690762694...|       0.0|\n",
      "|    1|[1.0,0.9518532451...|[0.49781724949998...|[0.62194623978686...|       0.0|\n",
      "|    0|[0.0,0.9518532451...|[2.04760487867757...|[0.88570538123153...|       0.0|\n",
      "|    0|[0.0,1.2691376601...|[2.12131832764247...|[0.89295800584554...|       0.0|\n",
      "|    0|[1.0,2.5382753203...|[3.11736903626102...|[0.95760354217077...|       0.0|\n",
      "|    1|[0.0,0.9518532451...|[1.28520860103616...|[0.78333509110518...|       0.0|\n",
      "|    0|[0.0,1.5864220752...|[3.44404000267154...|[0.96905290285297...|       0.0|\n",
      "|    0|[1.0,0.3172844150...|[0.97533440308895...|[0.72618147964818...|       0.0|\n",
      "|    1|[0.0,0.0,0.315266...|[1.46474184018335...|[0.81225685573340...|       0.0|\n",
      "|    0|[1.0,0.3172844150...|[1.68172366592574...|[0.84313263801380...|       0.0|\n",
      "|    0|[0.0,0.0,0.720608...|[0.70736536935384...|[0.66981874160935...|       0.0|\n",
      "|    0|[1.0,0.0,0.180152...|[2.07913796359783...|[0.88885890232851...|       0.0|\n",
      "|    0|[1.0,1.5864220752...|[1.98420878647143...|[0.87912910658670...|       0.0|\n",
      "|    1|[0.0,0.9518532451...|[0.47245476680438...|[0.61596460196181...|       0.0|\n",
      "|    0|[0.0,0.6345688300...|[1.43930835193752...|[0.80834752292354...|       0.0|\n",
      "|    0|[0.0,0.6345688300...|[1.30910650289487...|[0.78736360307140...|       0.0|\n",
      "|    0|[1.0,0.9518532451...|[2.20844914942353...|[0.90100568557285...|       0.0|\n",
      "|    0|[1.0,1.5864220752...|[1.84184284463861...|[0.86316651166699...|       0.0|\n",
      "|    1|[1.0,0.3172844150...|[1.99095676006245...|[0.87984432133596...|       0.0|\n",
      "|    1|[0.0,0.3172844150...|[2.02711002297766...|[0.88361420161140...|       0.0|\n",
      "|    0|[0.0,0.0,0.495418...|[0.84010556313134...|[0.6984874483523,...|       0.0|\n",
      "|    0|[1.0,0.0,0.225190...|[1.06085279497919...|[0.74285348179910...|       0.0|\n",
      "|    1|[1.0,0.0,0.090076...|[0.73347278342170...|[0.67556688788764...|       0.0|\n",
      "|    0|[1.0,0.0,0.135114...|[1.22613724020626...|[0.77314178596750...|       0.0|\n",
      "|    1|[1.0,0.6345688300...|[1.72716936329133...|[0.84904999257312...|       0.0|\n",
      "|    0|(21,[7,8,9,16,18,...|[1.61536819744672...|[0.83415535667620...|       0.0|\n",
      "|    0|[1.0,2.5382753203...|[2.91588989384005...|[0.94862636452789...|       0.0|\n",
      "|    0|[0.0,2.2209909053...|[4.40868773529523...|[0.98797521571647...|       0.0|\n",
      "|    0|[1.0,0.9518532451...|[1.75150307557929...|[0.85214228345293...|       0.0|\n",
      "|    0|(21,[0,1,3,4,5,7,...|[1.59319867028642...|[0.83106565775852...|       0.0|\n",
      "|    0|[0.0,0.9518532451...|[2.78981019645338...|[0.94212269607510...|       0.0|\n",
      "|    0|[1.0,0.3172844150...|[0.86983758969664...|[0.70471190266851...|       0.0|\n",
      "|    1|[1.0,0.0,0.225190...|[1.23222108779837...|[0.77420708014251...|       0.0|\n",
      "|    0|[0.0,0.0,0.270228...|[0.33855235438772...|[0.58383882970609...|       0.0|\n",
      "|    0|[1.0,0.0,0.540456...|[1.39996027215681...|[0.80217758427417...|       0.0|\n",
      "|    0|[1.0,0.3172844150...|[1.12435668253904...|[0.75479594181457...|       0.0|\n",
      "|    0|[1.0,0.0,0.045038...|[1.38471884661064...|[0.79974779852656...|       0.0|\n",
      "|    0|[1.0,1.9037064902...|[1.37415021105377...|[0.79804985510101...|       0.0|\n",
      "|    0|[0.0,0.0,0.405342...|[0.88988947406487...|[0.70886736336644...|       0.0|\n",
      "|    0|[0.0,4.1246973956...|[3.58363804406385...|[0.97297610486511...|       0.0|\n",
      "|    0|[1.0,3.8074129805...|[2.20421786507008...|[0.90062763763787...|       0.0|\n",
      "|    0|[1.0,0.6345688300...|[2.17052419641865...|[0.89757116973323...|       0.0|\n",
      "|    0|[1.0,0.9518532451...|[1.69123855838581...|[0.84438697291757...|       0.0|\n",
      "|    0|[1.0,3.1728441504...|[2.18589192471542...|[0.89897542778108...|       0.0|\n",
      "|    0|[1.0,1.9037064902...|[3.50288394765419...|[0.97076971498698...|       0.0|\n",
      "|    0|(21,[0,3,7,8,9,10...|[1.46671845559947...|[0.81255809497157...|       0.0|\n",
      "|    0|[1.0,0.0,0.225190...|[1.45195214021987...|[0.81029868846243...|       0.0|\n",
      "|    0|[0.0,0.9518532451...|[3.07926105439045...|[0.95602913169439...|       0.0|\n",
      "|    0|[1.0,0.9518532451...|[2.02787674158123...|[0.88369302787468...|       0.0|\n",
      "|    0|[1.0,0.3172844150...|[1.38215534287178...|[0.79933693469509...|       0.0|\n",
      "|    0|[1.0,1.9037064902...|[3.77039917530548...|[0.97747615067211...|       0.0|\n",
      "+-----+--------------------+--------------------+--------------------+----------+\n",
      "only showing top 100 rows\n",
      "\n"
     ]
    }
   ],
   "source": [
    "results_rest.show(100)"
   ]
  },
  {
   "cell_type": "markdown",
   "metadata": {},
   "source": [
    "#### Fine tuning with areaUnderPR score"
   ]
  },
  {
   "cell_type": "code",
   "execution_count": 52,
   "metadata": {},
   "outputs": [],
   "source": [
    "# Defining ML model and pipeline step\n",
    "lr1 = LogisticRegression(maxIter=10, regParam=0.0, elasticNetParam=0)\n",
    "\n",
    "pipeline = Pipeline(stages=[lr1])\n",
    "\n",
    "# Defining hyper-parameters tuning\n",
    "paramGrid = ParamGridBuilder() \\\n",
    "    .addGrid(lr1.regParam,[0.0, 0.1]) \\\n",
    "    .addGrid(lr1.elasticNetParam,[0.0, 0.5, 1.0]) \\\n",
    "    .build()\n",
    "\n",
    "# Defining evalutation metrics\n",
    "evaluator = BinaryClassificationEvaluator()\\\n",
    "    .setMetricName(\"areaUnderPR\")\n",
    "\n",
    "\n",
    "# ML pipeline initialization with Cross Validation\n",
    "crossval = CrossValidator(estimator=pipeline,\n",
    "                          estimatorParamMaps=paramGrid,\n",
    "                          evaluator=evaluator,\n",
    "                          numFolds=3)\n",
    "\n",
    "# Model fitting\n",
    "cvModel_lr1 = crossval.fit(rest)\n",
    "\n",
    "# Model testing\n",
    "results1 = cvModel_lr1.transform(validation)\n",
    "results_rest1 = cvModel_lr1.transform(rest)"
   ]
  },
  {
   "cell_type": "code",
   "execution_count": 53,
   "metadata": {},
   "outputs": [
    {
     "name": "stdout",
     "output_type": "stream",
     "text": [
      "Total count: 86\n",
      "Accuracy: 0.6976744186046512\n",
      "Precision: 0.2727272727272727\n",
      "Recall: 0.14285714285714285\n",
      "F1-score: 0.18749999999999997\n"
     ]
    }
   ],
   "source": [
    "# Evaluation 1:\n",
    "# 1.1: check counts of correct predictions on testing\n",
    "try: \n",
    "    precision = ((results1.filter((results1.label == results1.prediction) & (results1.label == 1.0)).count())/((results1.filter((results1.label == results1.prediction) & (results1.label == 1.0)).count())+(results1.filter((results1.prediction == 1.0) & (results1.label == 0.0)).count())))\n",
    "    recall = ((results1.filter((results1.label == results1.prediction) & (results1.label == 1.0)).count())/((results1.filter((results1.label == results1.prediction) & (results1.label == 1.0)).count())+(results1.filter((results1.prediction == 0.0) & (results1.label == 1.0)).count())))\n",
    "    f1 = 2 * ((precision*recall)/(precision+recall))\n",
    "\n",
    "    print(\"Total count: %s\" % (results1.count()))\n",
    "    print(\"Accuracy: %s\" % ((results1.filter(results1.label == results1.prediction).count())/results1.count()))\n",
    "    print(\"Precision: %s\" % (precision))\n",
    "    print(\"Recall: %s\" % (recall))\n",
    "    print(\"F1-score: %s\" % (f1))\n",
    "except ZeroDivisionError:\n",
    "    print(\"Precision or Recall could not be computed: division by zero\")"
   ]
  },
  {
   "cell_type": "code",
   "execution_count": 54,
   "metadata": {},
   "outputs": [
    {
     "name": "stdout",
     "output_type": "stream",
     "text": [
      "Total count_rest: 362\n",
      "Accuracy_rest: 0.7955801104972375\n",
      "Precision_rest: 0.6\n",
      "Recall_rest: 0.15384615384615385\n",
      "F1-score_rest: 0.2448979591836735\n"
     ]
    }
   ],
   "source": [
    "# 1.2: check counts of correct predictions on training \n",
    "try:\n",
    "    precision = ((results_rest1.filter((results_rest1.label == results_rest1.prediction) & (results_rest1.label == 1.0)).count())/((results_rest1.filter((results_rest1.label == results_rest1.prediction) & (results_rest1.label == 1.0)).count())+(results_rest1.filter((results_rest1.prediction == 1.0) & (results_rest1.label == 0.0)).count())))\n",
    "    recall = ((results_rest1.filter((results_rest1.label == results_rest1.prediction) & (results_rest1.label == 1.0)).count())/((results_rest1.filter((results_rest1.label == results_rest1.prediction) & (results_rest1.label == 1.0)).count())+(results_rest1.filter((results_rest1.prediction == 0.0) & (results_rest1.label == 1.0)).count())))\n",
    "    f1 = 2 * ((precision*recall)/(precision+recall))\n",
    "\n",
    "    print(\"Total count_rest: %s\" % (results_rest1.count()))\n",
    "    print(\"Accuracy_rest: %s\" % ((results_rest1.filter(results_rest1.label == results_rest1.prediction).count())/results_rest1.count()))\n",
    "    print(\"Precision_rest: %s\" % (precision))\n",
    "    print(\"Recall_rest: %s\" % (recall))\n",
    "    print(\"F1-score_rest: %s\" % (f1))\n",
    "except ZeroDivisionError:\n",
    "    print(\"Precision or Recall could not be computed: division by zero\")"
   ]
  },
  {
   "cell_type": "code",
   "execution_count": 55,
   "metadata": {},
   "outputs": [
    {
     "data": {
      "text/plain": [
       "0.3622202883124082"
      ]
     },
     "execution_count": 55,
     "metadata": {},
     "output_type": "execute_result"
    }
   ],
   "source": [
    "# Evaluation 2: using f1-score to evaluate model\n",
    "evaluator.evaluate(results)"
   ]
  },
  {
   "cell_type": "code",
   "execution_count": 56,
   "metadata": {},
   "outputs": [
    {
     "name": "stdout",
     "output_type": "stream",
     "text": [
      "+-----+--------------------+--------------------+--------------------+----------+\n",
      "|label|            features|       rawPrediction|         probability|prediction|\n",
      "+-----+--------------------+--------------------+--------------------+----------+\n",
      "|    1|[0.0,0.0,0.090076...|[0.99271837192236...|[0.72962451720948...|       0.0|\n",
      "|    1|[1.0,0.3172844150...|[1.06744598581378...|[0.74411090960505...|       0.0|\n",
      "|    1|[0.0,0.9518532451...|[1.78101902319064...|[0.85582264902503...|       0.0|\n",
      "|    1|[1.0,0.3172844150...|[1.54312222533250...|[0.82391814660984...|       0.0|\n",
      "|    0|(21,[3,7,8,9,10,1...|[0.92758114519073...|[0.71658429472501...|       0.0|\n",
      "|    0|[0.0,1.9037064902...|[3.26076044433577...|[0.96305785488194...|       0.0|\n",
      "|    1|[0.0,0.6345688300...|[1.60990125262085...|[0.83339767619835...|       0.0|\n",
      "|    0|[0.0,0.0,0.540456...|[-0.3078974296496...|[0.42362803522889...|       1.0|\n",
      "|    0|(21,[0,9,10,18,19...|[1.62904130102876...|[0.83603826429950...|       0.0|\n",
      "|    1|[1.0,1.5864220752...|[1.43863437430633...|[0.80824308739255...|       0.0|\n",
      "|    0|(21,[1,2,3,6,7,9,...|[1.30847292486710...|[0.78725750875695...|       0.0|\n",
      "|    1|[0.0,1.5864220752...|[0.79573932932816...|[0.68906234543739...|       0.0|\n",
      "|    0|[1.0,0.0,0.090076...|[1.65482402370417...|[0.83954196561370...|       0.0|\n",
      "|    0|[0.0,1.5864220752...|[-0.1801009354923...|[0.45509607716242...|       1.0|\n",
      "|    0|[1.0,0.3172844150...|[1.95728393289621...|[0.87623871094258...|       0.0|\n",
      "|    0|[1.0,2.2209909053...|[2.42299832020200...|[0.91856431229437...|       0.0|\n",
      "|    0|(21,[8,9,18,19,20...|[1.68094001568007...|[0.84302896456593...|       0.0|\n",
      "|    0|[0.0,0.3172844150...|[0.47353522260285...|[0.61622015412575...|       0.0|\n",
      "|    0|[1.0,0.3172844150...|[2.12333630724941...|[0.89315073952008...|       0.0|\n",
      "|    1|[1.0,4.1246973956...|[3.37789592512553...|[0.96700654084604...|       0.0|\n",
      "|    0|[0.0,0.3172844150...|[0.24009356886962...|[0.55973670771536...|       0.0|\n",
      "|    0|[0.0,0.9518532451...|[1.75244624930329...|[0.85226107992750...|       0.0|\n",
      "|    0|[1.0,0.9518532451...|[1.75119091980143...|[0.85210294880869...|       0.0|\n",
      "|    1|(21,[0,3,7,8,9,10...|[0.98331312049247...|[0.72776511698809...|       0.0|\n",
      "|    0|[0.0,0.9518532451...|[0.55999434108685...|[0.63645123091724...|       0.0|\n",
      "|    0|[0.0,0.0,0.630532...|[1.48234296097917...|[0.81492621032160...|       0.0|\n",
      "|    0|[0.0,0.0,0.450380...|[-0.7553198803925...|[0.31966323213265...|       1.0|\n",
      "|    1|[0.0,0.3172844150...|[0.60102710597870...|[0.64589125671670...|       0.0|\n",
      "|    1|[0.0,0.3172844150...|[-0.7262285851456...|[0.32602288343878...|       1.0|\n",
      "|    0|[0.0,0.3172844150...|[2.19647419813656...|[0.89993244559863...|       0.0|\n",
      "|    1|[0.0,0.9518532451...|[2.10051012222957...|[0.89095275009789...|       0.0|\n",
      "|    0|[1.0,0.3172844150...|[0.74939628571615...|[0.67904713862801...|       0.0|\n",
      "|    0|[1.0,0.3172844150...|[1.70736800398568...|[0.84649459054063...|       0.0|\n",
      "|    0|[0.0,1.9037064902...|[7.92423876992378...|[0.99963826569136...|       0.0|\n",
      "+-----+--------------------+--------------------+--------------------+----------+\n",
      "only showing top 34 rows\n",
      "\n"
     ]
    }
   ],
   "source": [
    "results1.show(86)"
   ]
  },
  {
   "cell_type": "code",
   "execution_count": 57,
   "metadata": {},
   "outputs": [
    {
     "name": "stdout",
     "output_type": "stream",
     "text": [
      "+-----+--------------------+--------------------+--------------------+----------+\n",
      "|label|            features|       rawPrediction|         probability|prediction|\n",
      "+-----+--------------------+--------------------+--------------------+----------+\n",
      "|    1|(21,[2,3,7,8,9,10...|[0.50594646967418...|[0.62385575265985...|       0.0|\n",
      "|    0|[1.0,0.0,0.135114...|[1.27657232257152...|[0.78186574503528...|       0.0|\n",
      "|    0|[1.0,0.6345688300...|[2.00985760031704...|[0.88182818391989...|       0.0|\n",
      "|    1|[1.0,0.0,0.135114...|[1.20628932395362...|[0.76964172924208...|       0.0|\n",
      "|    0|(21,[0,2,7,9,10,1...|[1.55743094234343...|[0.82598440080024...|       0.0|\n",
      "|    0|[0.0,0.9518532451...|[1.37716636649199...|[0.79853552070017...|       0.0|\n",
      "|    0|[1.0,0.9518532451...|[0.80418691863106...|[0.69086939049620...|       0.0|\n",
      "|    0|[1.0,1.9037064902...|[1.87239148062203...|[0.86673474927234...|       0.0|\n",
      "|    1|[1.0,0.9518532451...|[0.66540931237398...|[0.66047446656628...|       0.0|\n",
      "|    0|[0.0,0.0,0.0,0.11...|[1.92278050906028...|[0.87244817584892...|       0.0|\n",
      "|    1|[0.0,0.3172844150...|[0.93327021013873...|[0.71773826900259...|       0.0|\n",
      "|    1|[1.0,0.0,0.135114...|[0.43316506630870...|[0.60662920323280...|       0.0|\n",
      "|    1|[1.0,0.0,0.180152...|[1.56446906032602...|[0.82699369903382...|       0.0|\n",
      "|    0|[0.0,0.3172844150...|[0.97237595375016...|[0.72559282237883...|       0.0|\n",
      "|    1|[1.0,0.3172844150...|[1.19396765837213...|[0.76744992562826...|       0.0|\n",
      "|    0|[1.0,4.4419818106...|[4.53265816096351...|[0.98936231959593...|       0.0|\n",
      "|    1|[0.0,0.3172844150...|[1.73901331536996...|[0.85056169481618...|       0.0|\n",
      "|    0|[0.0,0.3172844150...|[1.93623001179823...|[0.87393738594146...|       0.0|\n",
      "|    0|[0.0,4.1246973956...|[10.7390854787475...|[0.99997831971334...|       0.0|\n",
      "|    0|[1.0,0.0,0.315266...|[1.06627223531965...|[0.74388735190404...|       0.0|\n",
      "|    0|[0.0,0.3172844150...|[1.28325303937012...|[0.78300300688627...|       0.0|\n",
      "|    0|[1.0,0.0,0.720608...|[-0.2596421912737...|[0.43545166754061...|       1.0|\n",
      "|    0|[1.0,1.5864220752...|[0.90068286144513...|[0.71108981064513...|       0.0|\n",
      "|    0|[0.0,0.0,0.315266...|[0.39317240520609...|[0.59704615742889...|       0.0|\n",
      "|    0|[0.0,2.5382753203...|[1.04933693285898...|[0.74064755176492...|       0.0|\n",
      "|    0|[1.0,0.6345688300...|[1.67961641598911...|[0.84285373158789...|       0.0|\n",
      "|    0|[0.0,0.0,0.180152...|[1.09123359470114...|[0.74861394434973...|       0.0|\n",
      "|    0|[1.0,1.5864220752...|[2.50487623806088...|[0.92448295617013...|       0.0|\n",
      "|    0|(21,[0,7,8,9,10,1...|[1.62361269403156...|[0.83529276203370...|       0.0|\n",
      "|    0|[0.0,0.0,0.225190...|[1.42354387997492...|[0.80589338388274...|       0.0|\n",
      "|    0|[0.0,5.3938350558...|[12.4455948484338...|[0.99999606499648...|       0.0|\n",
      "|    0|[0.0,1.9037064902...|[2.51337668644543...|[0.92507427114336...|       0.0|\n",
      "|    0|[1.0,2.8555597354...|[1.66349675942640...|[0.84070684313131...|       0.0|\n",
      "|    0|(21,[0,3,7,8,9,10...|[1.55321341991191...|[0.82537736503104...|       0.0|\n",
      "|    0|[1.0,1.2691376601...|[1.57227402958738...|[0.82810754756204...|       0.0|\n",
      "|    0|[1.0,0.0,0.630532...|[1.78570891886102...|[0.85640037124376...|       0.0|\n",
      "|    1|[0.0,0.9518532451...|[1.27717963095085...|[0.78196930478239...|       0.0|\n",
      "|    0|[1.0,0.3172844150...|[0.89484499432017...|[0.70988899647890...|       0.0|\n",
      "|    0|[1.0,0.6345688300...|[2.03392517984347...|[0.88431324305378...|       0.0|\n",
      "|    0|[1.0,6.3456883009...|[8.48907088450889...|[0.99979433801115...|       0.0|\n",
      "|    1|[1.0,0.0,0.045038...|[0.75390306818832...|[0.68002856276576...|       0.0|\n",
      "|    0|(21,[3,6,7,8,9,10...|[1.63744494524321...|[0.83718697079019...|       0.0|\n",
      "|    0|[1.0,0.0,0.0,0.05...|[1.27798757772732...|[0.78210702292164...|       0.0|\n",
      "|    0|[1.0,0.0,0.270228...|[0.87773544213094...|[0.70635272937456...|       0.0|\n",
      "|    0|[1.0,1.9037064902...|[2.35558387214178...|[0.91337704126649...|       0.0|\n",
      "|    0|[1.0,2.2209909053...|[3.00606300070803...|[0.95284728257788...|       0.0|\n",
      "|    0|[0.0,0.0,0.810685...|[0.60279187818008...|[0.64629478390002...|       0.0|\n",
      "|    0|[1.0,1.2691376601...|[2.20150041585386...|[0.90038416782544...|       0.0|\n",
      "|    0|[1.0,1.2691376601...|[2.62716227948819...|[0.93258937088242...|       0.0|\n",
      "|    0|(21,[3,6,7,8,9,10...|[0.98721209640676...|[0.72853690762694...|       0.0|\n",
      "|    1|[1.0,0.9518532451...|[0.49781724949998...|[0.62194623978686...|       0.0|\n",
      "|    0|[0.0,0.9518532451...|[2.04760487867757...|[0.88570538123153...|       0.0|\n",
      "|    0|[0.0,1.2691376601...|[2.12131832764247...|[0.89295800584554...|       0.0|\n",
      "|    0|[1.0,2.5382753203...|[3.11736903626102...|[0.95760354217077...|       0.0|\n",
      "|    1|[0.0,0.9518532451...|[1.28520860103616...|[0.78333509110518...|       0.0|\n",
      "|    0|[0.0,1.5864220752...|[3.44404000267154...|[0.96905290285297...|       0.0|\n",
      "|    0|[1.0,0.3172844150...|[0.97533440308895...|[0.72618147964818...|       0.0|\n",
      "|    1|[0.0,0.0,0.315266...|[1.46474184018335...|[0.81225685573340...|       0.0|\n",
      "|    0|[1.0,0.3172844150...|[1.68172366592574...|[0.84313263801380...|       0.0|\n",
      "|    0|[0.0,0.0,0.720608...|[0.70736536935384...|[0.66981874160935...|       0.0|\n",
      "|    0|[1.0,0.0,0.180152...|[2.07913796359783...|[0.88885890232851...|       0.0|\n",
      "|    0|[1.0,1.5864220752...|[1.98420878647143...|[0.87912910658670...|       0.0|\n",
      "|    1|[0.0,0.9518532451...|[0.47245476680438...|[0.61596460196181...|       0.0|\n",
      "|    0|[0.0,0.6345688300...|[1.43930835193752...|[0.80834752292354...|       0.0|\n",
      "|    0|[0.0,0.6345688300...|[1.30910650289487...|[0.78736360307140...|       0.0|\n",
      "|    0|[1.0,0.9518532451...|[2.20844914942353...|[0.90100568557285...|       0.0|\n",
      "|    0|[1.0,1.5864220752...|[1.84184284463861...|[0.86316651166699...|       0.0|\n",
      "|    1|[1.0,0.3172844150...|[1.99095676006245...|[0.87984432133596...|       0.0|\n",
      "|    1|[0.0,0.3172844150...|[2.02711002297766...|[0.88361420161140...|       0.0|\n",
      "|    0|[0.0,0.0,0.495418...|[0.84010556313134...|[0.6984874483523,...|       0.0|\n",
      "|    0|[1.0,0.0,0.225190...|[1.06085279497919...|[0.74285348179910...|       0.0|\n",
      "|    1|[1.0,0.0,0.090076...|[0.73347278342170...|[0.67556688788764...|       0.0|\n",
      "|    0|[1.0,0.0,0.135114...|[1.22613724020626...|[0.77314178596750...|       0.0|\n",
      "|    1|[1.0,0.6345688300...|[1.72716936329133...|[0.84904999257312...|       0.0|\n",
      "|    0|(21,[7,8,9,16,18,...|[1.61536819744672...|[0.83415535667620...|       0.0|\n",
      "|    0|[1.0,2.5382753203...|[2.91588989384005...|[0.94862636452789...|       0.0|\n",
      "|    0|[0.0,2.2209909053...|[4.40868773529523...|[0.98797521571647...|       0.0|\n",
      "|    0|[1.0,0.9518532451...|[1.75150307557929...|[0.85214228345293...|       0.0|\n",
      "|    0|(21,[0,1,3,4,5,7,...|[1.59319867028642...|[0.83106565775852...|       0.0|\n",
      "|    0|[0.0,0.9518532451...|[2.78981019645338...|[0.94212269607510...|       0.0|\n",
      "|    0|[1.0,0.3172844150...|[0.86983758969664...|[0.70471190266851...|       0.0|\n",
      "|    1|[1.0,0.0,0.225190...|[1.23222108779837...|[0.77420708014251...|       0.0|\n",
      "|    0|[0.0,0.0,0.270228...|[0.33855235438772...|[0.58383882970609...|       0.0|\n",
      "|    0|[1.0,0.0,0.540456...|[1.39996027215681...|[0.80217758427417...|       0.0|\n",
      "|    0|[1.0,0.3172844150...|[1.12435668253904...|[0.75479594181457...|       0.0|\n",
      "|    0|[1.0,0.0,0.045038...|[1.38471884661064...|[0.79974779852656...|       0.0|\n",
      "|    0|[1.0,1.9037064902...|[1.37415021105377...|[0.79804985510101...|       0.0|\n",
      "|    0|[0.0,0.0,0.405342...|[0.88988947406487...|[0.70886736336644...|       0.0|\n",
      "|    0|[0.0,4.1246973956...|[3.58363804406385...|[0.97297610486511...|       0.0|\n",
      "|    0|[1.0,3.8074129805...|[2.20421786507008...|[0.90062763763787...|       0.0|\n",
      "|    0|[1.0,0.6345688300...|[2.17052419641865...|[0.89757116973323...|       0.0|\n",
      "|    0|[1.0,0.9518532451...|[1.69123855838581...|[0.84438697291757...|       0.0|\n",
      "|    0|[1.0,3.1728441504...|[2.18589192471542...|[0.89897542778108...|       0.0|\n",
      "|    0|[1.0,1.9037064902...|[3.50288394765419...|[0.97076971498698...|       0.0|\n",
      "|    0|(21,[0,3,7,8,9,10...|[1.46671845559947...|[0.81255809497157...|       0.0|\n",
      "|    0|[1.0,0.0,0.225190...|[1.45195214021987...|[0.81029868846243...|       0.0|\n",
      "|    0|[0.0,0.9518532451...|[3.07926105439045...|[0.95602913169439...|       0.0|\n",
      "|    0|[1.0,0.9518532451...|[2.02787674158123...|[0.88369302787468...|       0.0|\n",
      "|    0|[1.0,0.3172844150...|[1.38215534287178...|[0.79933693469509...|       0.0|\n",
      "|    0|[1.0,1.9037064902...|[3.77039917530548...|[0.97747615067211...|       0.0|\n",
      "+-----+--------------------+--------------------+--------------------+----------+\n",
      "only showing top 100 rows\n",
      "\n"
     ]
    }
   ],
   "source": [
    "results_rest1.show(100)"
   ]
  },
  {
   "cell_type": "markdown",
   "metadata": {},
   "source": [
    "### Second model: Random Forest"
   ]
  },
  {
   "cell_type": "code",
   "execution_count": 58,
   "metadata": {},
   "outputs": [],
   "source": [
    "# Defining ML model and pipeline step\n",
    "rf = RandomForestClassifier(numTrees=10, maxDepth=5)\n",
    "\n",
    "pipeline = Pipeline(stages=[rf])"
   ]
  },
  {
   "cell_type": "code",
   "execution_count": 59,
   "metadata": {},
   "outputs": [],
   "source": [
    "# Defining hyper-parameters tuning\n",
    "paramGrid = ParamGridBuilder() \\\n",
    "    .addGrid(rf.numTrees,[1, 10, 75]) \\\n",
    "    .addGrid(rf.maxDepth,[1, 5, 20]) \\\n",
    "    .build()"
   ]
  },
  {
   "cell_type": "code",
   "execution_count": 60,
   "metadata": {},
   "outputs": [],
   "source": [
    "# Defining evalutation metrics\n",
    "evaluator = BinaryClassificationEvaluator()\\\n",
    "    .setMetricName(\"areaUnderPR\")"
   ]
  },
  {
   "cell_type": "code",
   "execution_count": 61,
   "metadata": {},
   "outputs": [],
   "source": [
    "# ML pipeline initialization with Cross Validation\n",
    "crossval = CrossValidator(estimator=pipeline,\n",
    "                          estimatorParamMaps=paramGrid,\n",
    "                          evaluator=evaluator,\n",
    "                          numFolds=3)"
   ]
  },
  {
   "cell_type": "code",
   "execution_count": 62,
   "metadata": {},
   "outputs": [],
   "source": [
    "# Model fitting\n",
    "cvModel_rf = crossval.fit(rest)"
   ]
  },
  {
   "cell_type": "code",
   "execution_count": 63,
   "metadata": {},
   "outputs": [],
   "source": [
    "# Model testing\n",
    "results_rf = cvModel_rf.transform(validation)\n",
    "results_rf_rest = cvModel_rf.transform(rest)"
   ]
  },
  {
   "cell_type": "code",
   "execution_count": 64,
   "metadata": {},
   "outputs": [
    {
     "name": "stdout",
     "output_type": "stream",
     "text": [
      "Total count: 86\n",
      "Accuracy: 0.7558139534883721\n",
      "Precision: 0.5\n",
      "Recall: 0.047619047619047616\n",
      "F1-score: 0.08695652173913042\n"
     ]
    }
   ],
   "source": [
    "# Evaluation 1:\n",
    "# 1.1: check counts of correct predictions on testing \n",
    "try:\n",
    "    precision = ((results_rf.filter((results_rf.label == results_rf.prediction) & (results_rf.label == 1.0)).count())/((results_rf.filter((results_rf.label == results_rf.prediction) & (results_rf.label == 1.0)).count())+(results_rf.filter((results_rf.prediction == 1.0) & (results_rf.label == 0.0)).count())))\n",
    "    recall = ((results_rf.filter((results_rf.label == results_rf.prediction) & (results_rf.label == 1.0)).count())/((results_rf.filter((results_rf.label == results_rf.prediction) & (results_rf.label == 1.0)).count())+(results_rf.filter((results_rf.prediction == 0.0) & (results_rf.label == 1.0)).count())))\n",
    "    f1 = 2 * ((precision*recall)/(precision+recall))\n",
    "\n",
    "    print(\"Total count: %s\" % (results_rf.count()))\n",
    "    print(\"Accuracy: %s\" % ((results_rf.filter(results_rf.label == results_rf.prediction).count())/results_rf.count()))\n",
    "    print(\"Precision: %s\" % (precision))\n",
    "    print(\"Recall: %s\" % (recall))\n",
    "    print(\"F1-score: %s\" % (f1))\n",
    "except ZeroDivisionError:\n",
    "    print(\"Precision or Recall could not be computed: division by zero\")"
   ]
  },
  {
   "cell_type": "code",
   "execution_count": 65,
   "metadata": {},
   "outputs": [
    {
     "name": "stdout",
     "output_type": "stream",
     "text": [
      "Total count_rest: 362\n",
      "Accuracy_rest: 1.0\n",
      "Precision_rest: 1.0\n",
      "Recall_rest: 1.0\n",
      "F1-score_rest: 1.0\n"
     ]
    }
   ],
   "source": [
    "# 1.2: check counts of correct predictions on training \n",
    "try:\n",
    "    precision = ((results_rf_rest.filter((results_rf_rest.label == results_rf_rest.prediction) & (results_rf_rest.label == 1.0)).count())/((results_rf_rest.filter((results_rf_rest.label == results_rf_rest.prediction) & (results_rf_rest.label == 1.0)).count())+(results_rf_rest.filter((results_rf_rest.prediction == 1.0) & (results_rf_rest.label == 0.0)).count())))\n",
    "    recall = ((results_rf_rest.filter((results_rf_rest.label == results_rf_rest.prediction) & (results_rf_rest.label == 1.0)).count())/((results_rf_rest.filter((results_rf_rest.label == results_rf_rest.prediction) & (results_rf_rest.label == 1.0)).count())+(results_rf_rest.filter((results_rf_rest.prediction == 0.0) & (results_rf_rest.label == 1.0)).count())))\n",
    "    f1 = 2 * ((precision*recall)/(precision+recall))\n",
    "\n",
    "    print(\"Total count_rest: %s\" % (results_rf_rest.count()))\n",
    "    print(\"Accuracy_rest: %s\" % ((results_rf_rest.filter(results_rf_rest.label == results_rf_rest.prediction).count())/results_rf_rest.count()))\n",
    "    print(\"Precision_rest: %s\" % (precision))\n",
    "    print(\"Recall_rest: %s\" % (recall))\n",
    "    print(\"F1-score_rest: %s\" % (f1))\n",
    "except ZeroDivisionError:\n",
    "    print(\"Precision or Recall could not be computed: division by zero\")"
   ]
  },
  {
   "cell_type": "code",
   "execution_count": 66,
   "metadata": {},
   "outputs": [
    {
     "data": {
      "text/plain": [
       "0.33058490641913446"
      ]
     },
     "execution_count": 66,
     "metadata": {},
     "output_type": "execute_result"
    }
   ],
   "source": [
    "# Evaluation 2: using areaUnderPR to evaluate model\n",
    "evaluator.evaluate(results_rf)"
   ]
  },
  {
   "cell_type": "code",
   "execution_count": 68,
   "metadata": {},
   "outputs": [
    {
     "name": "stdout",
     "output_type": "stream",
     "text": [
      "+-----+--------------------+--------------------+--------------------+----------+\n",
      "|label|            features|       rawPrediction|         probability|prediction|\n",
      "+-----+--------------------+--------------------+--------------------+----------+\n",
      "|    1|[0.0,0.0,0.090076...|         [60.0,15.0]|           [0.8,0.2]|       0.0|\n",
      "|    1|[1.0,0.3172844150...|         [52.0,23.0]|[0.69333333333333...|       0.0|\n",
      "|    1|[0.0,0.9518532451...|         [49.0,26.0]|[0.65333333333333...|       0.0|\n",
      "|    1|[1.0,0.3172844150...|[68.2898550724637...|[0.91053140096618...|       0.0|\n",
      "|    0|(21,[3,7,8,9,10,1...|[56.9666666666666...|[0.75955555555555...|       0.0|\n",
      "|    0|[0.0,1.9037064902...|         [63.0,12.0]|         [0.84,0.16]|       0.0|\n",
      "|    1|[0.0,0.6345688300...|         [61.0,14.0]|[0.81333333333333...|       0.0|\n",
      "|    0|[0.0,0.0,0.540456...|         [55.0,20.0]|[0.73333333333333...|       0.0|\n",
      "|    0|(21,[0,9,10,18,19...|[61.5699633699633...|[0.82093284493284...|       0.0|\n",
      "|    1|[1.0,1.5864220752...|         [57.0,18.0]|         [0.76,0.24]|       0.0|\n",
      "|    0|(21,[1,2,3,6,7,9,...|         [41.0,34.0]|[0.54666666666666...|       0.0|\n",
      "|    1|[0.0,1.5864220752...|         [49.0,26.0]|[0.65333333333333...|       0.0|\n",
      "|    0|[1.0,0.0,0.090076...|          [67.0,8.0]|[0.89333333333333...|       0.0|\n",
      "|    0|[0.0,1.5864220752...|         [42.0,33.0]|         [0.56,0.44]|       0.0|\n",
      "|    0|[1.0,0.3172844150...|         [65.0,10.0]|[0.86666666666666...|       0.0|\n",
      "|    0|[1.0,2.2209909053...|          [73.0,2.0]|[0.97333333333333...|       0.0|\n",
      "|    0|(21,[8,9,18,19,20...|[68.0199633699633...|[0.90693284493284...|       0.0|\n",
      "|    0|[0.0,0.3172844150...|         [34.0,41.0]|[0.45333333333333...|       1.0|\n",
      "|    0|[1.0,0.3172844150...|         [59.0,16.0]|[0.78666666666666...|       0.0|\n",
      "|    1|[1.0,4.1246973956...|          [68.0,7.0]|[0.90666666666666...|       0.0|\n",
      "|    0|[0.0,0.3172844150...|         [52.0,23.0]|[0.69333333333333...|       0.0|\n",
      "|    0|[0.0,0.9518532451...|         [63.0,12.0]|         [0.84,0.16]|       0.0|\n",
      "|    0|[1.0,0.9518532451...|          [69.0,6.0]|         [0.92,0.08]|       0.0|\n",
      "|    1|(21,[0,3,7,8,9,10...|[38.9231884057971...|[0.51897584541062...|       0.0|\n",
      "|    0|[0.0,0.9518532451...|         [57.0,18.0]|         [0.76,0.24]|       0.0|\n",
      "|    0|[0.0,0.0,0.630532...|         [64.0,11.0]|[0.85333333333333...|       0.0|\n",
      "|    0|[0.0,0.0,0.450380...|         [52.0,23.0]|[0.69333333333333...|       0.0|\n",
      "|    1|[0.0,0.3172844150...|         [63.0,12.0]|         [0.84,0.16]|       0.0|\n",
      "|    1|[0.0,0.3172844150...|         [40.0,35.0]|[0.53333333333333...|       0.0|\n",
      "|    0|[0.0,0.3172844150...|         [61.0,14.0]|[0.81333333333333...|       0.0|\n",
      "|    1|[0.0,0.9518532451...|         [63.0,12.0]|         [0.84,0.16]|       0.0|\n",
      "|    0|[1.0,0.3172844150...|         [43.0,32.0]|[0.57333333333333...|       0.0|\n",
      "|    0|[1.0,0.3172844150...|[41.9565217391304...|[0.55942028985507...|       0.0|\n",
      "|    0|[0.0,1.9037064902...|         [65.0,10.0]|[0.86666666666666...|       0.0|\n",
      "|    1|[1.0,0.0,0.135114...|         [48.0,27.0]|         [0.64,0.36]|       0.0|\n",
      "|    0|[0.0,0.9518532451...|         [57.0,18.0]|         [0.76,0.24]|       0.0|\n",
      "|    0|[1.0,0.3172844150...|         [42.0,33.0]|         [0.56,0.44]|       0.0|\n",
      "|    1|[0.0,1.9037064902...|         [54.0,21.0]|         [0.72,0.28]|       0.0|\n",
      "|    0|[0.0,0.3172844150...|         [43.0,32.0]|[0.57333333333333...|       0.0|\n",
      "|    0|[0.0,0.3172844150...|         [49.0,26.0]|[0.65333333333333...|       0.0|\n",
      "|    0|[0.0,0.6345688300...|         [55.0,20.0]|[0.73333333333333...|       0.0|\n",
      "|    0|[0.0,0.3172844150...|         [56.0,19.0]|[0.74666666666666...|       0.0|\n",
      "|    0|[1.0,0.3172844150...|[72.9166666666666...|[0.97222222222222...|       0.0|\n",
      "|    0|[1.0,0.3172844150...|         [40.0,35.0]|[0.53333333333333...|       0.0|\n",
      "|    1|[1.0,0.0,0.045038...|[40.9565217391304...|[0.54608695652173...|       0.0|\n",
      "|    1|[1.0,0.3172844150...|         [51.0,24.0]|         [0.68,0.32]|       0.0|\n",
      "|    0|[1.0,0.0,0.090076...|         [59.0,16.0]|[0.78666666666666...|       0.0|\n",
      "|    1|[1.0,0.3172844150...|         [61.0,14.0]|[0.81333333333333...|       0.0|\n",
      "|    0|[0.0,0.6345688300...|         [60.0,15.0]|           [0.8,0.2]|       0.0|\n",
      "|    1|[0.0,0.0,0.045038...|         [35.0,40.0]|[0.46666666666666...|       1.0|\n",
      "|    0|[0.0,0.6345688300...|         [65.0,10.0]|[0.86666666666666...|       0.0|\n",
      "|    0|[0.0,0.6345688300...|         [56.0,19.0]|[0.74666666666666...|       0.0|\n",
      "|    0|[1.0,0.0,0.225190...|         [65.0,10.0]|[0.86666666666666...|       0.0|\n",
      "|    0|[1.0,0.3172844150...|         [51.0,24.0]|         [0.68,0.32]|       0.0|\n",
      "|    0|[0.0,0.3172844150...|         [58.0,17.0]|[0.77333333333333...|       0.0|\n",
      "|    0|[1.0,0.6345688300...|          [66.0,9.0]|         [0.88,0.12]|       0.0|\n",
      "|    0|[0.0,0.6345688300...|         [64.0,11.0]|[0.85333333333333...|       0.0|\n",
      "|    0|(21,[3,6,7,8,9,10...|[43.9666666666666...|[0.58622222222222...|       0.0|\n",
      "|    0|[0.0,1.5864220752...|         [56.0,19.0]|[0.74666666666666...|       0.0|\n",
      "|    0|[1.0,0.0,0.135114...|         [48.0,27.0]|         [0.64,0.36]|       0.0|\n",
      "|    0|[1.0,0.3172844150...|         [49.0,26.0]|[0.65333333333333...|       0.0|\n",
      "|    1|[0.0,1.2691376601...|         [54.0,21.0]|         [0.72,0.28]|       0.0|\n",
      "|    0|[0.0,1.5864220752...|          [68.0,7.0]|[0.90666666666666...|       0.0|\n",
      "|    0|[1.0,1.2691376601...|         [65.0,10.0]|[0.86666666666666...|       0.0|\n",
      "|    0|[1.0,0.0,0.135114...|         [56.0,19.0]|[0.74666666666666...|       0.0|\n",
      "|    0|[0.0,0.3172844150...|         [56.0,19.0]|[0.74666666666666...|       0.0|\n",
      "|    0|[0.0,0.9518532451...|         [57.0,18.0]|         [0.76,0.24]|       0.0|\n",
      "|    0|[0.0,0.3172844150...|         [55.0,20.0]|[0.73333333333333...|       0.0|\n",
      "|    0|[1.0,1.9037064902...|         [63.0,12.0]|         [0.84,0.16]|       0.0|\n",
      "|    0|[0.0,0.3172844150...|         [39.0,36.0]|         [0.52,0.48]|       0.0|\n",
      "|    0|[1.0,0.3172844150...|          [67.0,8.0]|[0.89333333333333...|       0.0|\n",
      "|    0|[1.0,0.0,0.270228...|          [66.0,9.0]|         [0.88,0.12]|       0.0|\n",
      "|    0|[0.0,0.6345688300...|         [59.0,16.0]|[0.78666666666666...|       0.0|\n",
      "|    0|[1.0,0.3172844150...|         [56.0,19.0]|[0.74666666666666...|       0.0|\n",
      "|    0|(21,[0,3,7,8,9,10...|[61.9231884057971...|[0.82564251207729...|       0.0|\n",
      "|    0|[0.0,3.1728441504...|         [56.0,19.0]|[0.74666666666666...|       0.0|\n",
      "|    0|[1.0,0.3172844150...|         [56.0,19.0]|[0.74666666666666...|       0.0|\n",
      "|    0|[0.0,2.8555597354...|         [60.0,15.0]|           [0.8,0.2]|       0.0|\n",
      "|    1|[1.0,0.0,0.045038...|         [47.0,28.0]|[0.62666666666666...|       0.0|\n",
      "|    0|(21,[0,7,9,10,16,...|[71.0636645962732...|[0.94751552795031...|       0.0|\n",
      "|    1|[1.0,0.3172844150...|          [69.0,6.0]|         [0.92,0.08]|       0.0|\n",
      "|    0|[1.0,0.0,0.135114...|[61.9565217391304...|[0.82608695652173...|       0.0|\n",
      "|    0|[0.0,0.0,0.0,0.08...|[65.9666666666666...|[0.87955555555555...|       0.0|\n",
      "|    0|[0.0,0.6345688300...|         [61.0,14.0]|[0.81333333333333...|       0.0|\n",
      "|    0|[0.0,0.0,0.0,0.05...|[39.9666666666666...|[0.53288888888888...|       0.0|\n",
      "|    0|[0.0,0.3172844150...|          [66.0,9.0]|         [0.88,0.12]|       0.0|\n",
      "+-----+--------------------+--------------------+--------------------+----------+\n",
      "\n"
     ]
    }
   ],
   "source": [
    "results_rf.show(86)"
   ]
  },
  {
   "cell_type": "code",
   "execution_count": 69,
   "metadata": {},
   "outputs": [
    {
     "name": "stdout",
     "output_type": "stream",
     "text": [
      "+-----+--------------------+--------------------+--------------------+----------+\n",
      "|label|            features|       rawPrediction|         probability|prediction|\n",
      "+-----+--------------------+--------------------+--------------------+----------+\n",
      "|    1|(21,[2,3,7,8,9,10...|          [6.0,69.0]|         [0.08,0.92]|       1.0|\n",
      "|    0|[1.0,0.0,0.135114...|[70.9565217391304...|[0.94608695652173...|       0.0|\n",
      "|    0|[1.0,0.6345688300...|          [68.0,7.0]|[0.90666666666666...|       0.0|\n",
      "|    1|[1.0,0.0,0.135114...|         [16.0,59.0]|[0.21333333333333...|       1.0|\n",
      "|    0|(21,[0,2,7,9,10,1...|[68.9065217391304...|[0.91875362318840...|       0.0|\n",
      "|    0|[0.0,0.9518532451...|          [67.0,8.0]|[0.89333333333333...|       0.0|\n",
      "|    0|[1.0,0.9518532451...|         [63.0,12.0]|         [0.84,0.16]|       0.0|\n",
      "|    0|[1.0,1.9037064902...|          [69.0,6.0]|         [0.92,0.08]|       0.0|\n",
      "|    1|[1.0,0.9518532451...|         [23.0,52.0]|[0.30666666666666...|       1.0|\n",
      "|    0|[0.0,0.0,0.0,0.11...|[70.9666666666666...|[0.94622222222222...|       0.0|\n",
      "|    1|[0.0,0.3172844150...|         [13.0,62.0]|[0.17333333333333...|       1.0|\n",
      "|    1|[1.0,0.0,0.135114...|         [12.0,63.0]|         [0.16,0.84]|       1.0|\n",
      "|    1|[1.0,0.0,0.180152...|[22.4565217391304...|[0.29942028985507...|       1.0|\n",
      "|    0|[0.0,0.3172844150...|         [62.0,13.0]|[0.82666666666666...|       0.0|\n",
      "|    1|[1.0,0.3172844150...|         [30.0,45.0]|           [0.4,0.6]|       1.0|\n",
      "|    0|[1.0,4.4419818106...|          [73.0,2.0]|[0.97333333333333...|       0.0|\n",
      "|    1|[0.0,0.3172844150...|         [19.0,56.0]|[0.25333333333333...|       1.0|\n",
      "|    0|[0.0,0.3172844150...|          [71.0,4.0]|[0.94666666666666...|       0.0|\n",
      "|    0|[0.0,4.1246973956...|          [75.0,0.0]|           [1.0,0.0]|       0.0|\n",
      "|    0|[1.0,0.0,0.315266...|          [72.0,3.0]|         [0.96,0.04]|       0.0|\n",
      "|    0|[0.0,0.3172844150...|          [67.0,8.0]|[0.89333333333333...|       0.0|\n",
      "|    0|[1.0,0.0,0.720608...|         [59.0,16.0]|[0.78666666666666...|       0.0|\n",
      "|    0|[1.0,1.5864220752...|          [72.0,3.0]|         [0.96,0.04]|       0.0|\n",
      "|    0|[0.0,0.0,0.315266...|          [69.0,6.0]|         [0.92,0.08]|       0.0|\n",
      "|    0|[0.0,2.5382753203...|          [67.0,8.0]|[0.89333333333333...|       0.0|\n",
      "|    0|[1.0,0.6345688300...|          [70.0,5.0]|[0.93333333333333...|       0.0|\n",
      "|    0|[0.0,0.0,0.180152...|          [71.0,4.0]|[0.94666666666666...|       0.0|\n",
      "|    0|[1.0,1.5864220752...|          [69.5,5.5]|[0.92666666666666...|       0.0|\n",
      "|    0|(21,[0,7,8,9,10,1...|[72.7303312629399...|[0.96973775017253...|       0.0|\n",
      "|    0|[0.0,0.0,0.225190...|          [71.0,4.0]|[0.94666666666666...|       0.0|\n",
      "|    0|[0.0,5.3938350558...|          [74.0,1.0]|[0.98666666666666...|       0.0|\n",
      "|    0|[0.0,1.9037064902...|          [66.0,9.0]|         [0.88,0.12]|       0.0|\n",
      "|    0|[1.0,2.8555597354...|          [70.0,5.0]|[0.93333333333333...|       0.0|\n",
      "|    0|(21,[0,3,7,8,9,10...|[66.9666666666666...|[0.89288888888888...|       0.0|\n",
      "|    0|[1.0,1.2691376601...|          [68.0,7.0]|[0.90666666666666...|       0.0|\n",
      "|    0|[1.0,0.0,0.630532...|          [72.0,3.0]|         [0.96,0.04]|       0.0|\n",
      "|    1|[0.0,0.9518532451...|         [23.0,52.0]|[0.30666666666666...|       1.0|\n",
      "|    0|[1.0,0.3172844150...|          [72.0,3.0]|         [0.96,0.04]|       0.0|\n",
      "|    0|[1.0,0.6345688300...|         [61.0,14.0]|[0.81333333333333...|       0.0|\n",
      "|    0|[1.0,6.3456883009...|          [70.0,5.0]|[0.93333333333333...|       0.0|\n",
      "|    1|[1.0,0.0,0.045038...|         [13.0,62.0]|[0.17333333333333...|       1.0|\n",
      "|    0|(21,[3,6,7,8,9,10...|[72.1628205128205...|[0.96217094017094...|       0.0|\n",
      "|    0|[1.0,0.0,0.0,0.05...|[64.9666666666666...|[0.86622222222222...|       0.0|\n",
      "|    0|[1.0,0.0,0.270228...|          [70.0,5.0]|[0.93333333333333...|       0.0|\n",
      "|    0|[1.0,1.9037064902...|          [73.0,2.0]|[0.97333333333333...|       0.0|\n",
      "|    0|[1.0,2.2209909053...|          [72.0,3.0]|         [0.96,0.04]|       0.0|\n",
      "|    0|[0.0,0.0,0.810685...|          [70.0,5.0]|[0.93333333333333...|       0.0|\n",
      "|    0|[1.0,1.2691376601...|          [68.0,7.0]|[0.90666666666666...|       0.0|\n",
      "|    0|[1.0,1.2691376601...|          [67.0,8.0]|[0.89333333333333...|       0.0|\n",
      "|    0|(21,[3,6,7,8,9,10...|[64.9666666666666...|[0.86622222222222...|       0.0|\n",
      "|    1|[1.0,0.9518532451...|         [19.0,56.0]|[0.25333333333333...|       1.0|\n",
      "|    0|[0.0,0.9518532451...|          [71.0,4.0]|[0.94666666666666...|       0.0|\n",
      "|    0|[0.0,1.2691376601...|          [73.0,2.0]|[0.97333333333333...|       0.0|\n",
      "|    0|[1.0,2.5382753203...|          [69.0,6.0]|         [0.92,0.08]|       0.0|\n",
      "|    1|[0.0,0.9518532451...|         [30.0,45.0]|           [0.4,0.6]|       1.0|\n",
      "|    0|[0.0,1.5864220752...|          [73.0,2.0]|[0.97333333333333...|       0.0|\n",
      "|    0|[1.0,0.3172844150...|          [67.0,8.0]|[0.89333333333333...|       0.0|\n",
      "|    1|[0.0,0.0,0.315266...|         [23.0,52.0]|[0.30666666666666...|       1.0|\n",
      "|    0|[1.0,0.3172844150...|[64.4565217391304...|[0.85942028985507...|       0.0|\n",
      "|    0|[0.0,0.0,0.720608...|          [73.0,2.0]|[0.97333333333333...|       0.0|\n",
      "|    0|[1.0,0.0,0.180152...|          [73.0,2.0]|[0.97333333333333...|       0.0|\n",
      "|    0|[1.0,1.5864220752...|          [71.0,4.0]|[0.94666666666666...|       0.0|\n",
      "|    1|[0.0,0.9518532451...|         [29.0,46.0]|[0.38666666666666...|       1.0|\n",
      "|    0|[0.0,0.6345688300...|          [66.0,9.0]|         [0.88,0.12]|       0.0|\n",
      "|    0|[0.0,0.6345688300...|         [62.0,13.0]|[0.82666666666666...|       0.0|\n",
      "|    0|[1.0,0.9518532451...|          [68.0,7.0]|[0.90666666666666...|       0.0|\n",
      "|    0|[1.0,1.5864220752...|          [73.0,2.0]|[0.97333333333333...|       0.0|\n",
      "|    1|[1.0,0.3172844150...|         [19.0,56.0]|[0.25333333333333...|       1.0|\n",
      "|    1|[0.0,0.3172844150...|         [31.0,44.0]|[0.41333333333333...|       1.0|\n",
      "|    0|[0.0,0.0,0.495418...|          [69.0,6.0]|         [0.92,0.08]|       0.0|\n",
      "|    0|[1.0,0.0,0.225190...|          [67.0,8.0]|[0.89333333333333...|       0.0|\n",
      "|    1|[1.0,0.0,0.090076...|         [23.0,52.0]|[0.30666666666666...|       1.0|\n",
      "|    0|[1.0,0.0,0.135114...|[62.9565217391304...|[0.83942028985507...|       0.0|\n",
      "|    1|[1.0,0.6345688300...|         [19.0,56.0]|[0.25333333333333...|       1.0|\n",
      "|    0|(21,[7,8,9,16,18,...|[63.8238095238095...|[0.85098412698412...|       0.0|\n",
      "|    0|[1.0,2.5382753203...|          [72.0,3.0]|         [0.96,0.04]|       0.0|\n",
      "|    0|[0.0,2.2209909053...|          [74.0,1.0]|[0.98666666666666...|       0.0|\n",
      "|    0|[1.0,0.9518532451...|          [72.0,3.0]|         [0.96,0.04]|       0.0|\n",
      "|    0|(21,[0,1,3,4,5,7,...|[72.9231884057971...|[0.97230917874396...|       0.0|\n",
      "|    0|[0.0,0.9518532451...|          [71.0,4.0]|[0.94666666666666...|       0.0|\n",
      "|    0|[1.0,0.3172844150...|         [61.0,14.0]|[0.81333333333333...|       0.0|\n",
      "|    1|[1.0,0.0,0.225190...|         [13.0,62.0]|[0.17333333333333...|       1.0|\n",
      "|    0|[0.0,0.0,0.270228...|          [73.0,2.0]|[0.97333333333333...|       0.0|\n",
      "|    0|[1.0,0.0,0.540456...|          [73.0,2.0]|[0.97333333333333...|       0.0|\n",
      "|    0|[1.0,0.3172844150...|          [69.0,6.0]|         [0.92,0.08]|       0.0|\n",
      "|    0|[1.0,0.0,0.045038...|          [69.0,6.0]|         [0.92,0.08]|       0.0|\n",
      "|    0|[1.0,1.9037064902...|          [69.0,6.0]|         [0.92,0.08]|       0.0|\n",
      "|    0|[0.0,0.0,0.405342...|         [64.0,11.0]|[0.85333333333333...|       0.0|\n",
      "|    0|[0.0,4.1246973956...|          [73.0,2.0]|[0.97333333333333...|       0.0|\n",
      "|    0|[1.0,3.8074129805...|          [74.0,1.0]|[0.98666666666666...|       0.0|\n",
      "|    0|[1.0,0.6345688300...|          [73.0,2.0]|[0.97333333333333...|       0.0|\n",
      "|    0|[1.0,0.9518532451...|          [66.0,9.0]|         [0.88,0.12]|       0.0|\n",
      "|    0|[1.0,3.1728441504...|          [73.0,2.0]|[0.97333333333333...|       0.0|\n",
      "|    0|[1.0,1.9037064902...|          [67.0,8.0]|[0.89333333333333...|       0.0|\n",
      "|    0|(21,[0,3,7,8,9,10...|[69.9666666666666...|[0.93288888888888...|       0.0|\n",
      "|    0|[1.0,0.0,0.225190...|          [74.0,1.0]|[0.98666666666666...|       0.0|\n",
      "|    0|[0.0,0.9518532451...|          [72.0,3.0]|         [0.96,0.04]|       0.0|\n",
      "|    0|[1.0,0.9518532451...|          [71.0,4.0]|[0.94666666666666...|       0.0|\n",
      "|    0|[1.0,0.3172844150...|[69.9565217391304...|[0.93275362318840...|       0.0|\n",
      "|    0|[1.0,1.9037064902...|          [73.0,2.0]|[0.97333333333333...|       0.0|\n",
      "+-----+--------------------+--------------------+--------------------+----------+\n",
      "only showing top 100 rows\n",
      "\n"
     ]
    }
   ],
   "source": [
    "results_rf_rest.show(100)"
   ]
  },
  {
   "cell_type": "code",
   "execution_count": 70,
   "metadata": {},
   "outputs": [
    {
     "name": "stdout",
     "output_type": "stream",
     "text": [
      "genderFeature: 0.024378266376957777 \n",
      "\n",
      "About: 0.028795733780809983 \n",
      "\n",
      "Add Friend: 0.051577701517889256 \n",
      "\n",
      "Add to Playlist: 0.053058168239224344 \n",
      "\n",
      "Downgrade: 0.04666436253666336 \n",
      "\n",
      "Error: 0.028711069858417575 \n",
      "\n",
      "Help: 0.04663811656333527 \n",
      "\n",
      "Home: 0.0659109873811948 \n",
      "\n",
      "Logout: 0.05801201246379399 \n",
      "\n",
      "NextSong: 0.045924291922543714 \n",
      "\n",
      "Roll Advert: 0.09666671700377054 \n",
      "\n",
      "Save Settings: 0.026767258732786157 \n",
      "\n",
      "Settings: 0.04839434186665214 \n",
      "\n",
      "Submit Downgrade: 0.012864078111706584 \n",
      "\n",
      "Submit Upgrade: 0.026932125959257355 \n",
      "\n",
      "Thumbs Down: 0.06382093496711767 \n",
      "\n",
      "Thumbs Up: 0.07361722719440106 \n",
      "\n",
      "Upgrade: 0.04043685192355996 \n",
      "\n",
      "numSessions: 0.03633543030555125 \n",
      "\n",
      "numSongs: 0.04073447912677798 \n",
      "\n",
      "avgSongs: 0.08375984416758935 \n",
      "\n",
      "Best parameters : max depth:20, num Trees:75\n"
     ]
    }
   ],
   "source": [
    "bestPipeline = cvModel_rf.bestModel\n",
    "\n",
    "# prints feature importances\n",
    "for i in range(len(bestPipeline.stages[0].featureImportances)):\n",
    "    print(\"{}: {} \\n\".format(features.columns[i], bestPipeline.stages[0].featureImportances[i]))\n",
    "print('Best parameters : max depth:{}, num Trees:{}'.\\\n",
    "    format(bestPipeline.stages[0].getOrDefault('maxDepth'), bestPipeline.stages[0].getNumTrees))"
   ]
  },
  {
   "cell_type": "markdown",
   "metadata": {},
   "source": [
    "**Fine tuning with f1-score**"
   ]
  },
  {
   "cell_type": "code",
   "execution_count": 71,
   "metadata": {},
   "outputs": [],
   "source": [
    "# Defining ML model and pipeline step\n",
    "rf1 = RandomForestClassifier(numTrees=10, maxDepth=5)\n",
    "\n",
    "pipeline = Pipeline(stages=[rf1])\n",
    "\n",
    "# Defining hyper-parameters tuning\n",
    "paramGrid = ParamGridBuilder() \\\n",
    "    .addGrid(rf1.numTrees,[1, 10, 75]) \\\n",
    "    .addGrid(rf1.maxDepth,[1, 5, 20]) \\\n",
    "    .build()\n",
    "\n",
    "# Defining evalutation metrics\n",
    "evaluator = MulticlassClassificationEvaluator(metricName=\"f1\")\n",
    "\n",
    "# ML pipeline initialization with Cross Validation\n",
    "crossval = CrossValidator(estimator=pipeline,\n",
    "                          estimatorParamMaps=paramGrid,\n",
    "                          evaluator=evaluator,\n",
    "                          numFolds=3)\n",
    "\n",
    "# Model fitting\n",
    "cvModel_rf1 = crossval.fit(rest)\n",
    "\n",
    "# Model testing\n",
    "results_rf1 = cvModel_rf1.transform(validation)\n",
    "results_rf1_rest = cvModel_rf1.transform(rest)"
   ]
  },
  {
   "cell_type": "code",
   "execution_count": 72,
   "metadata": {},
   "outputs": [
    {
     "name": "stdout",
     "output_type": "stream",
     "text": [
      "Total count: 86\n",
      "Accuracy: 0.7558139534883721\n",
      "Precision: 0.5\n",
      "Recall: 0.047619047619047616\n",
      "F1-score: 0.08695652173913042\n"
     ]
    }
   ],
   "source": [
    "# Evaluation 1:\n",
    "# 1.1: check counts of correct predictions on testing \n",
    "try:\n",
    "    precision = ((results_rf1.filter((results_rf1.label == results_rf1.prediction) & (results_rf1.label == 1.0)).count())/((results_rf1.filter((results_rf1.label == results_rf1.prediction) & (results_rf1.label == 1.0)).count())+(results_rf1.filter((results_rf1.prediction == 1.0) & (results_rf1.label == 0.0)).count())))\n",
    "    recall = ((results_rf1.filter((results_rf1.label == results_rf1.prediction) & (results_rf1.label == 1.0)).count())/((results_rf1.filter((results_rf1.label == results_rf1.prediction) & (results_rf1.label == 1.0)).count())+(results_rf1.filter((results_rf1.prediction == 0.0) & (results_rf1.label == 1.0)).count())))\n",
    "    f1 = 2 * ((precision*recall)/(precision+recall))\n",
    "\n",
    "    print(\"Total count: %s\" % (results_rf1.count()))\n",
    "    print(\"Accuracy: %s\" % ((results_rf1.filter(results_rf1.label == results_rf1.prediction).count())/results_rf1.count()))\n",
    "    print(\"Precision: %s\" % (precision))\n",
    "    print(\"Recall: %s\" % (recall))\n",
    "    print(\"F1-score: %s\" % (f1))\n",
    "except ZeroDivisionError:\n",
    "    print(\"Precision or Recall could not be computed: division by zero\")"
   ]
  },
  {
   "cell_type": "code",
   "execution_count": 73,
   "metadata": {},
   "outputs": [
    {
     "name": "stdout",
     "output_type": "stream",
     "text": [
      "Total count_rest: 362\n",
      "Accuracy_rest: 1.0\n",
      "Precision_rest: 1.0\n",
      "Recall_rest: 1.0\n",
      "F1-score_rest: 1.0\n"
     ]
    }
   ],
   "source": [
    "# 1.2: check counts of correct predictions on training \n",
    "try:\n",
    "    precision = ((results_rf1_rest.filter((results_rf1_rest.label == results_rf1_rest.prediction) & (results_rf1_rest.label == 1.0)).count())/((results_rf1_rest.filter((results_rf1_rest.label == results_rf1_rest.prediction) & (results_rf1_rest.label == 1.0)).count())+(results_rf1_rest.filter((results_rf1_rest.prediction == 1.0) & (results_rf1_rest.label == 0.0)).count())))\n",
    "    recall = ((results_rf1_rest.filter((results_rf1_rest.label == results_rf1_rest.prediction) & (results_rf1_rest.label == 1.0)).count())/((results_rf1_rest.filter((results_rf1_rest.label == results_rf1_rest.prediction) & (results_rf1_rest.label == 1.0)).count())+(results_rf1_rest.filter((results_rf1_rest.prediction == 0.0) & (results_rf1_rest.label == 1.0)).count())))\n",
    "    f1 = 2 * ((precision*recall)/(precision+recall))\n",
    "\n",
    "    print(\"Total count_rest: %s\" % (results_rf1_rest.count()))\n",
    "    print(\"Accuracy_rest: %s\" % ((results_rf1_rest.filter(results_rf1_rest.label == results_rf1_rest.prediction).count())/results_rf1_rest.count()))\n",
    "    print(\"Precision_rest: %s\" % (precision))\n",
    "    print(\"Recall_rest: %s\" % (recall))\n",
    "    print(\"F1-score_rest: %s\" % (f1))\n",
    "except ZeroDivisionError:\n",
    "    print(\"Precision or Recall could not be computed: division by zero\")"
   ]
  },
  {
   "cell_type": "code",
   "execution_count": 74,
   "metadata": {},
   "outputs": [
    {
     "data": {
      "text/plain": [
       "0.6705234085002137"
      ]
     },
     "execution_count": 74,
     "metadata": {},
     "output_type": "execute_result"
    }
   ],
   "source": [
    "# Evaluation 2: using f1 to evaluate model\n",
    "evaluator.evaluate(results_rf1)"
   ]
  },
  {
   "cell_type": "code",
   "execution_count": 75,
   "metadata": {},
   "outputs": [
    {
     "name": "stdout",
     "output_type": "stream",
     "text": [
      "+-----+--------------------+--------------------+--------------------+----------+\n",
      "|label|            features|       rawPrediction|         probability|prediction|\n",
      "+-----+--------------------+--------------------+--------------------+----------+\n",
      "|    1|[0.0,0.0,0.090076...|         [60.0,15.0]|           [0.8,0.2]|       0.0|\n",
      "|    1|[1.0,0.3172844150...|         [52.0,23.0]|[0.69333333333333...|       0.0|\n",
      "|    1|[0.0,0.9518532451...|         [49.0,26.0]|[0.65333333333333...|       0.0|\n",
      "|    1|[1.0,0.3172844150...|[68.2898550724637...|[0.91053140096618...|       0.0|\n",
      "|    0|(21,[3,7,8,9,10,1...|[56.9666666666666...|[0.75955555555555...|       0.0|\n",
      "|    0|[0.0,1.9037064902...|         [63.0,12.0]|         [0.84,0.16]|       0.0|\n",
      "|    1|[0.0,0.6345688300...|         [61.0,14.0]|[0.81333333333333...|       0.0|\n",
      "|    0|[0.0,0.0,0.540456...|         [55.0,20.0]|[0.73333333333333...|       0.0|\n",
      "|    0|(21,[0,9,10,18,19...|[61.5699633699633...|[0.82093284493284...|       0.0|\n",
      "|    1|[1.0,1.5864220752...|         [57.0,18.0]|         [0.76,0.24]|       0.0|\n",
      "|    0|(21,[1,2,3,6,7,9,...|         [41.0,34.0]|[0.54666666666666...|       0.0|\n",
      "|    1|[0.0,1.5864220752...|         [49.0,26.0]|[0.65333333333333...|       0.0|\n",
      "|    0|[1.0,0.0,0.090076...|          [67.0,8.0]|[0.89333333333333...|       0.0|\n",
      "|    0|[0.0,1.5864220752...|         [42.0,33.0]|         [0.56,0.44]|       0.0|\n",
      "|    0|[1.0,0.3172844150...|         [65.0,10.0]|[0.86666666666666...|       0.0|\n",
      "|    0|[1.0,2.2209909053...|          [73.0,2.0]|[0.97333333333333...|       0.0|\n",
      "|    0|(21,[8,9,18,19,20...|[68.0199633699633...|[0.90693284493284...|       0.0|\n",
      "|    0|[0.0,0.3172844150...|         [34.0,41.0]|[0.45333333333333...|       1.0|\n",
      "|    0|[1.0,0.3172844150...|         [59.0,16.0]|[0.78666666666666...|       0.0|\n",
      "|    1|[1.0,4.1246973956...|          [68.0,7.0]|[0.90666666666666...|       0.0|\n",
      "|    0|[0.0,0.3172844150...|         [52.0,23.0]|[0.69333333333333...|       0.0|\n",
      "|    0|[0.0,0.9518532451...|         [63.0,12.0]|         [0.84,0.16]|       0.0|\n",
      "|    0|[1.0,0.9518532451...|          [69.0,6.0]|         [0.92,0.08]|       0.0|\n",
      "|    1|(21,[0,3,7,8,9,10...|[38.9231884057971...|[0.51897584541062...|       0.0|\n",
      "|    0|[0.0,0.9518532451...|         [57.0,18.0]|         [0.76,0.24]|       0.0|\n",
      "|    0|[0.0,0.0,0.630532...|         [64.0,11.0]|[0.85333333333333...|       0.0|\n",
      "|    0|[0.0,0.0,0.450380...|         [52.0,23.0]|[0.69333333333333...|       0.0|\n",
      "|    1|[0.0,0.3172844150...|         [63.0,12.0]|         [0.84,0.16]|       0.0|\n",
      "|    1|[0.0,0.3172844150...|         [40.0,35.0]|[0.53333333333333...|       0.0|\n",
      "|    0|[0.0,0.3172844150...|         [61.0,14.0]|[0.81333333333333...|       0.0|\n",
      "|    1|[0.0,0.9518532451...|         [63.0,12.0]|         [0.84,0.16]|       0.0|\n",
      "|    0|[1.0,0.3172844150...|         [43.0,32.0]|[0.57333333333333...|       0.0|\n",
      "|    0|[1.0,0.3172844150...|[41.9565217391304...|[0.55942028985507...|       0.0|\n",
      "|    0|[0.0,1.9037064902...|         [65.0,10.0]|[0.86666666666666...|       0.0|\n",
      "|    1|[1.0,0.0,0.135114...|         [48.0,27.0]|         [0.64,0.36]|       0.0|\n",
      "|    0|[0.0,0.9518532451...|         [57.0,18.0]|         [0.76,0.24]|       0.0|\n",
      "|    0|[1.0,0.3172844150...|         [42.0,33.0]|         [0.56,0.44]|       0.0|\n",
      "|    1|[0.0,1.9037064902...|         [54.0,21.0]|         [0.72,0.28]|       0.0|\n",
      "|    0|[0.0,0.3172844150...|         [43.0,32.0]|[0.57333333333333...|       0.0|\n",
      "|    0|[0.0,0.3172844150...|         [49.0,26.0]|[0.65333333333333...|       0.0|\n",
      "|    0|[0.0,0.6345688300...|         [55.0,20.0]|[0.73333333333333...|       0.0|\n",
      "|    0|[0.0,0.3172844150...|         [56.0,19.0]|[0.74666666666666...|       0.0|\n",
      "|    0|[1.0,0.3172844150...|[72.9166666666666...|[0.97222222222222...|       0.0|\n",
      "|    0|[1.0,0.3172844150...|         [40.0,35.0]|[0.53333333333333...|       0.0|\n",
      "|    1|[1.0,0.0,0.045038...|[40.9565217391304...|[0.54608695652173...|       0.0|\n",
      "|    1|[1.0,0.3172844150...|         [51.0,24.0]|         [0.68,0.32]|       0.0|\n",
      "|    0|[1.0,0.0,0.090076...|         [59.0,16.0]|[0.78666666666666...|       0.0|\n",
      "|    1|[1.0,0.3172844150...|         [61.0,14.0]|[0.81333333333333...|       0.0|\n",
      "|    0|[0.0,0.6345688300...|         [60.0,15.0]|           [0.8,0.2]|       0.0|\n",
      "|    1|[0.0,0.0,0.045038...|         [35.0,40.0]|[0.46666666666666...|       1.0|\n",
      "|    0|[0.0,0.6345688300...|         [65.0,10.0]|[0.86666666666666...|       0.0|\n",
      "|    0|[0.0,0.6345688300...|         [56.0,19.0]|[0.74666666666666...|       0.0|\n",
      "|    0|[1.0,0.0,0.225190...|         [65.0,10.0]|[0.86666666666666...|       0.0|\n",
      "|    0|[1.0,0.3172844150...|         [51.0,24.0]|         [0.68,0.32]|       0.0|\n",
      "|    0|[0.0,0.3172844150...|         [58.0,17.0]|[0.77333333333333...|       0.0|\n",
      "|    0|[1.0,0.6345688300...|          [66.0,9.0]|         [0.88,0.12]|       0.0|\n",
      "|    0|[0.0,0.6345688300...|         [64.0,11.0]|[0.85333333333333...|       0.0|\n",
      "|    0|(21,[3,6,7,8,9,10...|[43.9666666666666...|[0.58622222222222...|       0.0|\n",
      "|    0|[0.0,1.5864220752...|         [56.0,19.0]|[0.74666666666666...|       0.0|\n",
      "|    0|[1.0,0.0,0.135114...|         [48.0,27.0]|         [0.64,0.36]|       0.0|\n",
      "|    0|[1.0,0.3172844150...|         [49.0,26.0]|[0.65333333333333...|       0.0|\n",
      "|    1|[0.0,1.2691376601...|         [54.0,21.0]|         [0.72,0.28]|       0.0|\n",
      "|    0|[0.0,1.5864220752...|          [68.0,7.0]|[0.90666666666666...|       0.0|\n",
      "|    0|[1.0,1.2691376601...|         [65.0,10.0]|[0.86666666666666...|       0.0|\n",
      "|    0|[1.0,0.0,0.135114...|         [56.0,19.0]|[0.74666666666666...|       0.0|\n",
      "|    0|[0.0,0.3172844150...|         [56.0,19.0]|[0.74666666666666...|       0.0|\n",
      "|    0|[0.0,0.9518532451...|         [57.0,18.0]|         [0.76,0.24]|       0.0|\n",
      "|    0|[0.0,0.3172844150...|         [55.0,20.0]|[0.73333333333333...|       0.0|\n",
      "|    0|[1.0,1.9037064902...|         [63.0,12.0]|         [0.84,0.16]|       0.0|\n",
      "|    0|[0.0,0.3172844150...|         [39.0,36.0]|         [0.52,0.48]|       0.0|\n",
      "|    0|[1.0,0.3172844150...|          [67.0,8.0]|[0.89333333333333...|       0.0|\n",
      "|    0|[1.0,0.0,0.270228...|          [66.0,9.0]|         [0.88,0.12]|       0.0|\n",
      "|    0|[0.0,0.6345688300...|         [59.0,16.0]|[0.78666666666666...|       0.0|\n",
      "|    0|[1.0,0.3172844150...|         [56.0,19.0]|[0.74666666666666...|       0.0|\n",
      "|    0|(21,[0,3,7,8,9,10...|[61.9231884057971...|[0.82564251207729...|       0.0|\n",
      "|    0|[0.0,3.1728441504...|         [56.0,19.0]|[0.74666666666666...|       0.0|\n",
      "|    0|[1.0,0.3172844150...|         [56.0,19.0]|[0.74666666666666...|       0.0|\n",
      "|    0|[0.0,2.8555597354...|         [60.0,15.0]|           [0.8,0.2]|       0.0|\n",
      "|    1|[1.0,0.0,0.045038...|         [47.0,28.0]|[0.62666666666666...|       0.0|\n",
      "|    0|(21,[0,7,9,10,16,...|[71.0636645962732...|[0.94751552795031...|       0.0|\n",
      "|    1|[1.0,0.3172844150...|          [69.0,6.0]|         [0.92,0.08]|       0.0|\n",
      "|    0|[1.0,0.0,0.135114...|[61.9565217391304...|[0.82608695652173...|       0.0|\n",
      "|    0|[0.0,0.0,0.0,0.08...|[65.9666666666666...|[0.87955555555555...|       0.0|\n",
      "|    0|[0.0,0.6345688300...|         [61.0,14.0]|[0.81333333333333...|       0.0|\n",
      "|    0|[0.0,0.0,0.0,0.05...|[39.9666666666666...|[0.53288888888888...|       0.0|\n",
      "|    0|[0.0,0.3172844150...|          [66.0,9.0]|         [0.88,0.12]|       0.0|\n",
      "+-----+--------------------+--------------------+--------------------+----------+\n",
      "\n"
     ]
    }
   ],
   "source": [
    "results_rf1.show(86)"
   ]
  },
  {
   "cell_type": "code",
   "execution_count": 76,
   "metadata": {},
   "outputs": [
    {
     "name": "stdout",
     "output_type": "stream",
     "text": [
      "+-----+--------------------+--------------------+--------------------+----------+\n",
      "|label|            features|       rawPrediction|         probability|prediction|\n",
      "+-----+--------------------+--------------------+--------------------+----------+\n",
      "|    1|(21,[2,3,7,8,9,10...|          [6.0,69.0]|         [0.08,0.92]|       1.0|\n",
      "|    0|[1.0,0.0,0.135114...|[70.9565217391304...|[0.94608695652173...|       0.0|\n",
      "|    0|[1.0,0.6345688300...|          [68.0,7.0]|[0.90666666666666...|       0.0|\n",
      "|    1|[1.0,0.0,0.135114...|         [16.0,59.0]|[0.21333333333333...|       1.0|\n",
      "|    0|(21,[0,2,7,9,10,1...|[68.9065217391304...|[0.91875362318840...|       0.0|\n",
      "|    0|[0.0,0.9518532451...|          [67.0,8.0]|[0.89333333333333...|       0.0|\n",
      "|    0|[1.0,0.9518532451...|         [63.0,12.0]|         [0.84,0.16]|       0.0|\n",
      "|    0|[1.0,1.9037064902...|          [69.0,6.0]|         [0.92,0.08]|       0.0|\n",
      "|    1|[1.0,0.9518532451...|         [23.0,52.0]|[0.30666666666666...|       1.0|\n",
      "|    0|[0.0,0.0,0.0,0.11...|[70.9666666666666...|[0.94622222222222...|       0.0|\n",
      "|    1|[0.0,0.3172844150...|         [13.0,62.0]|[0.17333333333333...|       1.0|\n",
      "|    1|[1.0,0.0,0.135114...|         [12.0,63.0]|         [0.16,0.84]|       1.0|\n",
      "|    1|[1.0,0.0,0.180152...|[22.4565217391304...|[0.29942028985507...|       1.0|\n",
      "|    0|[0.0,0.3172844150...|         [62.0,13.0]|[0.82666666666666...|       0.0|\n",
      "|    1|[1.0,0.3172844150...|         [30.0,45.0]|           [0.4,0.6]|       1.0|\n",
      "|    0|[1.0,4.4419818106...|          [73.0,2.0]|[0.97333333333333...|       0.0|\n",
      "|    1|[0.0,0.3172844150...|         [19.0,56.0]|[0.25333333333333...|       1.0|\n",
      "|    0|[0.0,0.3172844150...|          [71.0,4.0]|[0.94666666666666...|       0.0|\n",
      "|    0|[0.0,4.1246973956...|          [75.0,0.0]|           [1.0,0.0]|       0.0|\n",
      "|    0|[1.0,0.0,0.315266...|          [72.0,3.0]|         [0.96,0.04]|       0.0|\n",
      "|    0|[0.0,0.3172844150...|          [67.0,8.0]|[0.89333333333333...|       0.0|\n",
      "|    0|[1.0,0.0,0.720608...|         [59.0,16.0]|[0.78666666666666...|       0.0|\n",
      "|    0|[1.0,1.5864220752...|          [72.0,3.0]|         [0.96,0.04]|       0.0|\n",
      "|    0|[0.0,0.0,0.315266...|          [69.0,6.0]|         [0.92,0.08]|       0.0|\n",
      "|    0|[0.0,2.5382753203...|          [67.0,8.0]|[0.89333333333333...|       0.0|\n",
      "|    0|[1.0,0.6345688300...|          [70.0,5.0]|[0.93333333333333...|       0.0|\n",
      "|    0|[0.0,0.0,0.180152...|          [71.0,4.0]|[0.94666666666666...|       0.0|\n",
      "|    0|[1.0,1.5864220752...|          [69.5,5.5]|[0.92666666666666...|       0.0|\n",
      "|    0|(21,[0,7,8,9,10,1...|[72.7303312629399...|[0.96973775017253...|       0.0|\n",
      "|    0|[0.0,0.0,0.225190...|          [71.0,4.0]|[0.94666666666666...|       0.0|\n",
      "|    0|[0.0,5.3938350558...|          [74.0,1.0]|[0.98666666666666...|       0.0|\n",
      "|    0|[0.0,1.9037064902...|          [66.0,9.0]|         [0.88,0.12]|       0.0|\n",
      "|    0|[1.0,2.8555597354...|          [70.0,5.0]|[0.93333333333333...|       0.0|\n",
      "|    0|(21,[0,3,7,8,9,10...|[66.9666666666666...|[0.89288888888888...|       0.0|\n",
      "|    0|[1.0,1.2691376601...|          [68.0,7.0]|[0.90666666666666...|       0.0|\n",
      "|    0|[1.0,0.0,0.630532...|          [72.0,3.0]|         [0.96,0.04]|       0.0|\n",
      "|    1|[0.0,0.9518532451...|         [23.0,52.0]|[0.30666666666666...|       1.0|\n",
      "|    0|[1.0,0.3172844150...|          [72.0,3.0]|         [0.96,0.04]|       0.0|\n",
      "|    0|[1.0,0.6345688300...|         [61.0,14.0]|[0.81333333333333...|       0.0|\n",
      "|    0|[1.0,6.3456883009...|          [70.0,5.0]|[0.93333333333333...|       0.0|\n",
      "|    1|[1.0,0.0,0.045038...|         [13.0,62.0]|[0.17333333333333...|       1.0|\n",
      "|    0|(21,[3,6,7,8,9,10...|[72.1628205128205...|[0.96217094017094...|       0.0|\n",
      "|    0|[1.0,0.0,0.0,0.05...|[64.9666666666666...|[0.86622222222222...|       0.0|\n",
      "|    0|[1.0,0.0,0.270228...|          [70.0,5.0]|[0.93333333333333...|       0.0|\n",
      "|    0|[1.0,1.9037064902...|          [73.0,2.0]|[0.97333333333333...|       0.0|\n",
      "|    0|[1.0,2.2209909053...|          [72.0,3.0]|         [0.96,0.04]|       0.0|\n",
      "|    0|[0.0,0.0,0.810685...|          [70.0,5.0]|[0.93333333333333...|       0.0|\n",
      "|    0|[1.0,1.2691376601...|          [68.0,7.0]|[0.90666666666666...|       0.0|\n",
      "|    0|[1.0,1.2691376601...|          [67.0,8.0]|[0.89333333333333...|       0.0|\n",
      "|    0|(21,[3,6,7,8,9,10...|[64.9666666666666...|[0.86622222222222...|       0.0|\n",
      "|    1|[1.0,0.9518532451...|         [19.0,56.0]|[0.25333333333333...|       1.0|\n",
      "|    0|[0.0,0.9518532451...|          [71.0,4.0]|[0.94666666666666...|       0.0|\n",
      "|    0|[0.0,1.2691376601...|          [73.0,2.0]|[0.97333333333333...|       0.0|\n",
      "|    0|[1.0,2.5382753203...|          [69.0,6.0]|         [0.92,0.08]|       0.0|\n",
      "|    1|[0.0,0.9518532451...|         [30.0,45.0]|           [0.4,0.6]|       1.0|\n",
      "|    0|[0.0,1.5864220752...|          [73.0,2.0]|[0.97333333333333...|       0.0|\n",
      "|    0|[1.0,0.3172844150...|          [67.0,8.0]|[0.89333333333333...|       0.0|\n",
      "|    1|[0.0,0.0,0.315266...|         [23.0,52.0]|[0.30666666666666...|       1.0|\n",
      "|    0|[1.0,0.3172844150...|[64.4565217391304...|[0.85942028985507...|       0.0|\n",
      "|    0|[0.0,0.0,0.720608...|          [73.0,2.0]|[0.97333333333333...|       0.0|\n",
      "|    0|[1.0,0.0,0.180152...|          [73.0,2.0]|[0.97333333333333...|       0.0|\n",
      "|    0|[1.0,1.5864220752...|          [71.0,4.0]|[0.94666666666666...|       0.0|\n",
      "|    1|[0.0,0.9518532451...|         [29.0,46.0]|[0.38666666666666...|       1.0|\n",
      "|    0|[0.0,0.6345688300...|          [66.0,9.0]|         [0.88,0.12]|       0.0|\n",
      "|    0|[0.0,0.6345688300...|         [62.0,13.0]|[0.82666666666666...|       0.0|\n",
      "|    0|[1.0,0.9518532451...|          [68.0,7.0]|[0.90666666666666...|       0.0|\n",
      "|    0|[1.0,1.5864220752...|          [73.0,2.0]|[0.97333333333333...|       0.0|\n",
      "|    1|[1.0,0.3172844150...|         [19.0,56.0]|[0.25333333333333...|       1.0|\n",
      "|    1|[0.0,0.3172844150...|         [31.0,44.0]|[0.41333333333333...|       1.0|\n",
      "|    0|[0.0,0.0,0.495418...|          [69.0,6.0]|         [0.92,0.08]|       0.0|\n",
      "|    0|[1.0,0.0,0.225190...|          [67.0,8.0]|[0.89333333333333...|       0.0|\n",
      "|    1|[1.0,0.0,0.090076...|         [23.0,52.0]|[0.30666666666666...|       1.0|\n",
      "|    0|[1.0,0.0,0.135114...|[62.9565217391304...|[0.83942028985507...|       0.0|\n",
      "|    1|[1.0,0.6345688300...|         [19.0,56.0]|[0.25333333333333...|       1.0|\n",
      "|    0|(21,[7,8,9,16,18,...|[63.8238095238095...|[0.85098412698412...|       0.0|\n",
      "|    0|[1.0,2.5382753203...|          [72.0,3.0]|         [0.96,0.04]|       0.0|\n",
      "|    0|[0.0,2.2209909053...|          [74.0,1.0]|[0.98666666666666...|       0.0|\n",
      "|    0|[1.0,0.9518532451...|          [72.0,3.0]|         [0.96,0.04]|       0.0|\n",
      "|    0|(21,[0,1,3,4,5,7,...|[72.9231884057971...|[0.97230917874396...|       0.0|\n",
      "|    0|[0.0,0.9518532451...|          [71.0,4.0]|[0.94666666666666...|       0.0|\n",
      "|    0|[1.0,0.3172844150...|         [61.0,14.0]|[0.81333333333333...|       0.0|\n",
      "|    1|[1.0,0.0,0.225190...|         [13.0,62.0]|[0.17333333333333...|       1.0|\n",
      "|    0|[0.0,0.0,0.270228...|          [73.0,2.0]|[0.97333333333333...|       0.0|\n",
      "|    0|[1.0,0.0,0.540456...|          [73.0,2.0]|[0.97333333333333...|       0.0|\n",
      "|    0|[1.0,0.3172844150...|          [69.0,6.0]|         [0.92,0.08]|       0.0|\n",
      "|    0|[1.0,0.0,0.045038...|          [69.0,6.0]|         [0.92,0.08]|       0.0|\n",
      "|    0|[1.0,1.9037064902...|          [69.0,6.0]|         [0.92,0.08]|       0.0|\n",
      "|    0|[0.0,0.0,0.405342...|         [64.0,11.0]|[0.85333333333333...|       0.0|\n",
      "|    0|[0.0,4.1246973956...|          [73.0,2.0]|[0.97333333333333...|       0.0|\n",
      "|    0|[1.0,3.8074129805...|          [74.0,1.0]|[0.98666666666666...|       0.0|\n",
      "|    0|[1.0,0.6345688300...|          [73.0,2.0]|[0.97333333333333...|       0.0|\n",
      "|    0|[1.0,0.9518532451...|          [66.0,9.0]|         [0.88,0.12]|       0.0|\n",
      "|    0|[1.0,3.1728441504...|          [73.0,2.0]|[0.97333333333333...|       0.0|\n",
      "|    0|[1.0,1.9037064902...|          [67.0,8.0]|[0.89333333333333...|       0.0|\n",
      "|    0|(21,[0,3,7,8,9,10...|[69.9666666666666...|[0.93288888888888...|       0.0|\n",
      "|    0|[1.0,0.0,0.225190...|          [74.0,1.0]|[0.98666666666666...|       0.0|\n",
      "|    0|[0.0,0.9518532451...|          [72.0,3.0]|         [0.96,0.04]|       0.0|\n",
      "|    0|[1.0,0.9518532451...|          [71.0,4.0]|[0.94666666666666...|       0.0|\n",
      "|    0|[1.0,0.3172844150...|[69.9565217391304...|[0.93275362318840...|       0.0|\n",
      "|    0|[1.0,1.9037064902...|          [73.0,2.0]|[0.97333333333333...|       0.0|\n",
      "+-----+--------------------+--------------------+--------------------+----------+\n",
      "only showing top 100 rows\n",
      "\n"
     ]
    }
   ],
   "source": [
    "results_rf1_rest.show(100)"
   ]
  },
  {
   "cell_type": "code",
   "execution_count": 77,
   "metadata": {},
   "outputs": [
    {
     "name": "stdout",
     "output_type": "stream",
     "text": [
      "genderFeature: 0.024378266376957777 \n",
      "\n",
      "About: 0.028795733780809983 \n",
      "\n",
      "Add Friend: 0.051577701517889256 \n",
      "\n",
      "Add to Playlist: 0.053058168239224344 \n",
      "\n",
      "Downgrade: 0.04666436253666336 \n",
      "\n",
      "Error: 0.028711069858417575 \n",
      "\n",
      "Help: 0.04663811656333527 \n",
      "\n",
      "Home: 0.0659109873811948 \n",
      "\n",
      "Logout: 0.05801201246379399 \n",
      "\n",
      "NextSong: 0.045924291922543714 \n",
      "\n",
      "Roll Advert: 0.09666671700377054 \n",
      "\n",
      "Save Settings: 0.026767258732786157 \n",
      "\n",
      "Settings: 0.04839434186665214 \n",
      "\n",
      "Submit Downgrade: 0.012864078111706584 \n",
      "\n",
      "Submit Upgrade: 0.026932125959257355 \n",
      "\n",
      "Thumbs Down: 0.06382093496711767 \n",
      "\n",
      "Thumbs Up: 0.07361722719440106 \n",
      "\n",
      "Upgrade: 0.04043685192355996 \n",
      "\n",
      "numSessions: 0.03633543030555125 \n",
      "\n",
      "numSongs: 0.04073447912677798 \n",
      "\n",
      "avgSongs: 0.08375984416758935 \n",
      "\n",
      "Best parameters : max depth:20, num Trees:75\n"
     ]
    }
   ],
   "source": [
    "bestPipeline = cvModel_rf1.bestModel\n",
    "\n",
    "# prints feature importances\n",
    "for i in range(len(bestPipeline.stages[0].featureImportances)):\n",
    "    print(\"{}: {} \\n\".format(features.columns[i], bestPipeline.stages[0].featureImportances[i]))\n",
    "print('Best parameters : max depth:{}, num Trees:{}'.\\\n",
    "    format(bestPipeline.stages[0].getOrDefault('maxDepth'), bestPipeline.stages[0].getNumTrees))"
   ]
  },
  {
   "cell_type": "markdown",
   "metadata": {},
   "source": [
    "### Different Model: Gradient Boosted Decision Trees (possible advancement)"
   ]
  },
  {
   "cell_type": "code",
   "execution_count": null,
   "metadata": {},
   "outputs": [],
   "source": [
    "# Defining ML model and pipeline step\n",
    "#gbt = GBTClassifier(maxIter=10, maxDepth=5)\n",
    "\n",
    "#pipeline = Pipeline(stages=[gbt])"
   ]
  },
  {
   "cell_type": "code",
   "execution_count": null,
   "metadata": {},
   "outputs": [],
   "source": [
    "# Defining hyper-parameters tuning\n",
    "#paramGrid = ParamGridBuilder() \\\n",
    "#    .addGrid(gbt.maxIter,[10, 20]) \\\n",
    "#    .addGrid(gbt.maxDepth,[5, 20]) \\\n",
    "#    .build()"
   ]
  },
  {
   "cell_type": "code",
   "execution_count": null,
   "metadata": {},
   "outputs": [],
   "source": [
    "# Defining evalutation metrics\n",
    "#evaluator = evaluator = BinaryClassificationEvaluator()\\\n",
    "#    .setMetricName(\"areaUnderROC\")"
   ]
  },
  {
   "cell_type": "code",
   "execution_count": null,
   "metadata": {},
   "outputs": [],
   "source": [
    "# ML pipeline initialization with Cross Validation\n",
    "#crossval = CrossValidator(estimator=pipeline,\n",
    "#                          estimatorParamMaps=paramGrid,\n",
    "#                          evaluator=evaluator,\n",
    "#                          numFolds=3)"
   ]
  },
  {
   "cell_type": "code",
   "execution_count": null,
   "metadata": {},
   "outputs": [],
   "source": [
    "# Model fitting\n",
    "#cvModel_gbt = crossval.fit(rest)"
   ]
  },
  {
   "cell_type": "code",
   "execution_count": null,
   "metadata": {},
   "outputs": [],
   "source": [
    "# Model testing\n",
    "#results_gbt = cvModel_gbt.transform(validation)\n",
    "#results_gbt_test = cvModel_gbt.transform(rest)"
   ]
  },
  {
   "cell_type": "code",
   "execution_count": null,
   "metadata": {},
   "outputs": [],
   "source": [
    "# Evaluation 1:\n",
    "# 1.1: check counts of correct predictions on testing\n",
    "#print(results_gbt.filter(results_gbt.label == results_gbt.prediction).count())\n",
    "#print(results_gbt.count())\n",
    "#print((results_gbt.filter(results_gbt.label == results_gbt.prediction).count())/results_gbt.count())"
   ]
  },
  {
   "cell_type": "code",
   "execution_count": null,
   "metadata": {},
   "outputs": [],
   "source": [
    "# 1.2: check counts of correct predictions on training\n",
    "#print(results_gbt_test.filter(results_gbt_test.label == results_gbt_test.prediction).count())\n",
    "#print(results_gbt_test.count())\n",
    "#print((results_gbt_test.filter(results_gbt_test.label == results_gbt_test.prediction).count())/results_gbt_test.count())"
   ]
  },
  {
   "cell_type": "code",
   "execution_count": null,
   "metadata": {},
   "outputs": [],
   "source": [
    "# Evaluation 2: using areaUnderROC to evaluate model\n",
    "#evaluator.evaluate(results_gbt)"
   ]
  },
  {
   "cell_type": "code",
   "execution_count": null,
   "metadata": {},
   "outputs": [],
   "source": [
    "#results_gbt.show(34)"
   ]
  },
  {
   "cell_type": "code",
   "execution_count": null,
   "metadata": {},
   "outputs": [],
   "source": [
    "#results_gbt_test.show(100)"
   ]
  }
 ],
 "metadata": {
  "kernelspec": {
   "display_name": "Python 3",
   "language": "python",
   "name": "python3"
  },
  "language_info": {
   "codemirror_mode": {
    "name": "ipython",
    "version": 3
   },
   "file_extension": ".py",
   "mimetype": "text/x-python",
   "name": "python",
   "nbconvert_exporter": "python",
   "pygments_lexer": "ipython3",
   "version": "3.6.3"
  }
 },
 "nbformat": 4,
 "nbformat_minor": 2
}
