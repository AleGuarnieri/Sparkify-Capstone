{
 "cells": [
  {
   "cell_type": "markdown",
   "metadata": {},
   "source": [
    "# Sparkify Project Workspace\n",
    "This workspace contains a tiny subset (128MB) of the full dataset available (12GB). Feel free to use this workspace to build your project, or to explore a smaller subset with Spark before deploying your cluster on the cloud. Instructions for setting up your Spark cluster is included in the last lesson of the Extracurricular Spark Course content.\n",
    "\n",
    "You can follow the steps below to guide your data analysis and model building portion of this project."
   ]
  },
  {
   "cell_type": "code",
   "execution_count": 1,
   "metadata": {},
   "outputs": [],
   "source": [
    "from pyspark.sql import SparkSession\n",
    "from pyspark.sql.functions import round, sum, avg,count, countDistinct, col, concat, desc, explode, last, lit, min, max, split, udf, when, isnan\n",
    "from pyspark.sql.types import IntegerType\n",
    "from pyspark.sql.window import Window\n",
    "\n",
    "from pyspark.ml.classification import LogisticRegression\n",
    "from pyspark.ml.evaluation import MulticlassClassificationEvaluator\n",
    "from pyspark.ml.feature import CountVectorizer, IDF, Normalizer, PCA, RegexTokenizer, StandardScaler, StopWordsRemover, StringIndexer, VectorAssembler, OneHotEncoder\n",
    "from pyspark.ml.regression import LinearRegression\n",
    "from pyspark.ml.tuning import CrossValidator, ParamGridBuilder\n",
    "from pyspark.ml import Pipeline\n",
    "from pyspark.ml.evaluation import BinaryClassificationEvaluator\n",
    "\n",
    "import re"
   ]
  },
  {
   "cell_type": "code",
   "execution_count": 2,
   "metadata": {},
   "outputs": [],
   "source": [
    "import numpy as np\n",
    "import pandas as pd\n",
    "import seaborn as sns\n",
    "import matplotlib.pyplot as plt"
   ]
  },
  {
   "cell_type": "code",
   "execution_count": 3,
   "metadata": {},
   "outputs": [],
   "source": [
    "spark = SparkSession.builder \\\n",
    "    .master(\"local\") \\\n",
    "    .appName(\"Datascience Capstone Project\") \\\n",
    "    .getOrCreate()"
   ]
  },
  {
   "cell_type": "markdown",
   "metadata": {},
   "source": [
    "# Load and Clean Dataset\n",
    "In this workspace, the mini-dataset file is `mini_sparkify_event_data.json`. Load and clean the dataset, checking for invalid or missing data - for example, records without userids or sessionids. "
   ]
  },
  {
   "cell_type": "code",
   "execution_count": 4,
   "metadata": {},
   "outputs": [],
   "source": [
    "event_data = spark.read.json(\"mini_sparkify_event_data.json\")"
   ]
  },
  {
   "cell_type": "code",
   "execution_count": 5,
   "metadata": {},
   "outputs": [
    {
     "name": "stdout",
     "output_type": "stream",
     "text": [
      "root\n",
      " |-- artist: string (nullable = true)\n",
      " |-- auth: string (nullable = true)\n",
      " |-- firstName: string (nullable = true)\n",
      " |-- gender: string (nullable = true)\n",
      " |-- itemInSession: long (nullable = true)\n",
      " |-- lastName: string (nullable = true)\n",
      " |-- length: double (nullable = true)\n",
      " |-- level: string (nullable = true)\n",
      " |-- location: string (nullable = true)\n",
      " |-- method: string (nullable = true)\n",
      " |-- page: string (nullable = true)\n",
      " |-- registration: long (nullable = true)\n",
      " |-- sessionId: long (nullable = true)\n",
      " |-- song: string (nullable = true)\n",
      " |-- status: long (nullable = true)\n",
      " |-- ts: long (nullable = true)\n",
      " |-- userAgent: string (nullable = true)\n",
      " |-- userId: string (nullable = true)\n",
      "\n"
     ]
    }
   ],
   "source": [
    "event_data.printSchema()"
   ]
  },
  {
   "cell_type": "code",
   "execution_count": 6,
   "metadata": {},
   "outputs": [],
   "source": [
    "event_data = event_data.where(col('userId') != '')"
   ]
  },
  {
   "cell_type": "code",
   "execution_count": 7,
   "metadata": {},
   "outputs": [
    {
     "name": "stdout",
     "output_type": "stream",
     "text": [
      "+------+----+---------+------+-------------+--------+------+-----+--------+------+----+------------+---------+-----+------+---+---------+------+\n",
      "|artist|auth|firstName|gender|itemInSession|lastName|length|level|location|method|page|registration|sessionId| song|status| ts|userAgent|userId|\n",
      "+------+----+---------+------+-------------+--------+------+-----+--------+------+----+------------+---------+-----+------+---+---------+------+\n",
      "| 50046|   0|        0|     0|            0|       0| 50046|    0|       0|     0|   0|           0|        0|50046|     0|  0|        0|     0|\n",
      "+------+----+---------+------+-------------+--------+------+-----+--------+------+----+------------+---------+-----+------+---+---------+------+\n",
      "\n"
     ]
    }
   ],
   "source": [
    "event_data.select([count(when(isnan(c) | col(c).isNull(), c)).alias(c) for c in event_data.columns]).show()"
   ]
  },
  {
   "cell_type": "code",
   "execution_count": 8,
   "metadata": {},
   "outputs": [
    {
     "name": "stdout",
     "output_type": "stream",
     "text": [
      "+--------------------+\n",
      "|                page|\n",
      "+--------------------+\n",
      "|              Cancel|\n",
      "|    Submit Downgrade|\n",
      "|         Thumbs Down|\n",
      "|                Home|\n",
      "|           Downgrade|\n",
      "|         Roll Advert|\n",
      "|              Logout|\n",
      "|       Save Settings|\n",
      "|Cancellation Conf...|\n",
      "|               About|\n",
      "|            Settings|\n",
      "|     Add to Playlist|\n",
      "|          Add Friend|\n",
      "|           Thumbs Up|\n",
      "|                Help|\n",
      "|             Upgrade|\n",
      "|               Error|\n",
      "|      Submit Upgrade|\n",
      "+--------------------+\n",
      "\n"
     ]
    }
   ],
   "source": [
    "event_data.where(event_data.song.isNull()).select(event_data.page).distinct().show(100)\n",
    "# This is due to the fact that only when the users click on NextSong, there is an Artist/Length or Song saved in the database"
   ]
  },
  {
   "cell_type": "code",
   "execution_count": 9,
   "metadata": {},
   "outputs": [
    {
     "name": "stdout",
     "output_type": "stream",
     "text": [
      "+--------+\n",
      "|    page|\n",
      "+--------+\n",
      "|NextSong|\n",
      "+--------+\n",
      "\n"
     ]
    }
   ],
   "source": [
    "event_data.where(event_data.song.isNotNull()).select(event_data.page).distinct().show(100)"
   ]
  },
  {
   "cell_type": "markdown",
   "metadata": {},
   "source": [
    "We still have null values on artist, song and length because in those cases the action of the user was not related to a song, as shown in the previous cell."
   ]
  },
  {
   "cell_type": "markdown",
   "metadata": {},
   "source": [
    "# Exploratory Data Analysis\n",
    "When you're working with the full dataset, perform EDA by loading a small subset of the data and doing basic manipulations within Spark. In this workspace, you are already provided a small subset of data you can explore."
   ]
  },
  {
   "cell_type": "code",
   "execution_count": 10,
   "metadata": {},
   "outputs": [
    {
     "name": "stdout",
     "output_type": "stream",
     "text": [
      "+-------+------------------+---------+---------+------+------------------+--------+-----------------+------+-----------------+------+-------+--------------------+------------------+--------------------+------------------+--------------------+--------------------+-----------------+\n",
      "|summary|            artist|     auth|firstName|gender|     itemInSession|lastName|           length| level|         location|method|   page|        registration|         sessionId|                song|            status|                  ts|           userAgent|           userId|\n",
      "+-------+------------------+---------+---------+------+------------------+--------+-----------------+------+-----------------+------+-------+--------------------+------------------+--------------------+------------------+--------------------+--------------------+-----------------+\n",
      "|  count|            228108|   278154|   278154|278154|            278154|  278154|           228108|278154|           278154|278154| 278154|              278154|            278154|              228108|            278154|              278154|              278154|           278154|\n",
      "|   mean| 551.0852017937219|     null|     null|  null|114.89918174824018|    null|249.1171819778458|  null|             null|  null|   null|1.535358834084427...|1042.5616241362698|            Infinity|209.10321620397335|1.540958915431871...|                null|59682.02278593872|\n",
      "| stddev|1217.7693079161374|     null|     null|  null|  129.851729399489|    null|99.23517921058361|  null|             null|  null|   null| 3.291321616327586E9| 726.5010362219813|                 NaN|30.151388851328214|1.5068287123306298E9|                null|109091.9499991047|\n",
      "|    min|               !!!|Cancelled| Adelaida|     F|                 0|   Adams|          0.78322|  free|       Albany, OR|   GET|  About|       1521380675000|                 1|\u001c",
      "ÃÂg ÃÂtti Gr...|               200|       1538352117000|\"Mozilla/5.0 (Mac...|               10|\n",
      "|    25%|             311.0|     null|     null|  null|                27|    null|        199.88853|  null|             null|  null|   null|       1533522419000|               338|                24.0|               200|       1539698879000|                null|             51.0|\n",
      "|    50%|             311.0|     null|     null|  null|                70|    null|        234.50077|  null|             null|  null|   null|       1536663902000|              1016|               221.0|               200|       1540934307000|                null|             98.0|\n",
      "|    75%|             311.0|     null|     null|  null|               157|    null|        277.15873|  null|             null|  null|   null|       1537672236000|              1675|              1958.0|               200|       1542267679000|                null|         100004.0|\n",
      "|    max| ÃÂlafur Arnalds|Logged In|   Zyonna|     M|              1321|  Wright|       3024.66567|  paid|Winston-Salem, NC|   PUT|Upgrade|       1543247354000|              2474|ÃÂau hafa slopp...|               404|       1543799476000|Mozilla/5.0 (comp...|               99|\n",
      "+-------+------------------+---------+---------+------+------------------+--------+-----------------+------+-----------------+------+-------+--------------------+------------------+--------------------+------------------+--------------------+--------------------+-----------------+\n",
      "\n"
     ]
    }
   ],
   "source": [
    "event_data.summary().show()"
   ]
  },
  {
   "cell_type": "code",
   "execution_count": 11,
   "metadata": {},
   "outputs": [
    {
     "data": {
      "text/plain": [
       "[Row(artist='Martha Tilston', auth='Logged In', firstName='Colin', gender='M', itemInSession=50, lastName='Freeman', length=277.89016, level='paid', location='Bakersfield, CA', method='PUT', page='NextSong', registration=1538173362000, sessionId=29, song='Rockpools', status=200, ts=1538352117000, userAgent='Mozilla/5.0 (Windows NT 6.1; WOW64; rv:31.0) Gecko/20100101 Firefox/31.0', userId='30')]"
      ]
     },
     "execution_count": 11,
     "metadata": {},
     "output_type": "execute_result"
    }
   ],
   "source": [
    "event_data.take(1)"
   ]
  },
  {
   "cell_type": "code",
   "execution_count": 12,
   "metadata": {},
   "outputs": [
    {
     "name": "stdout",
     "output_type": "stream",
     "text": [
      "Number of rows of this subset: \n"
     ]
    },
    {
     "data": {
      "text/plain": [
       "278154"
      ]
     },
     "execution_count": 12,
     "metadata": {},
     "output_type": "execute_result"
    }
   ],
   "source": [
    "print(\"Number of rows of this subset: \")\n",
    "event_data.count()"
   ]
  },
  {
   "cell_type": "code",
   "execution_count": 13,
   "metadata": {},
   "outputs": [
    {
     "name": "stdout",
     "output_type": "stream",
     "text": [
      "Number of Users in this subset: \n"
     ]
    },
    {
     "data": {
      "text/plain": [
       "225"
      ]
     },
     "execution_count": 13,
     "metadata": {},
     "output_type": "execute_result"
    }
   ],
   "source": [
    "print(\"Number of Users in this subset: \")\n",
    "event_data.select(\"userId\").distinct().count()"
   ]
  },
  {
   "cell_type": "code",
   "execution_count": 14,
   "metadata": {},
   "outputs": [
    {
     "data": {
      "image/png": "[encoded data removed]",
      "text/plain": [
       "<matplotlib.figure.Figure at 0x7f8cac1c3748>"
      ]
     },
     "metadata": {
      "needs_background": "light"
     },
     "output_type": "display_data"
    }
   ],
   "source": [
    "gender_count = event_data.groupby('gender').agg(countDistinct(\"userId\").alias(\"Users Count\")).sort(col('Users Count').desc())\n",
    "sns.barplot(x='gender',y='Users Count',data=gender_count.toPandas());"
   ]
  },
  {
   "cell_type": "code",
   "execution_count": 15,
   "metadata": {},
   "outputs": [
    {
     "data": {
      "image/png": "[encoded data removed]",
      "text/plain": [
       "<matplotlib.figure.Figure at 0x7f8cd5387b00>"
      ]
     },
     "metadata": {
      "needs_background": "light"
     },
     "output_type": "display_data"
    }
   ],
   "source": [
    "location_count = event_data.groupby('location').agg(countDistinct(\"userId\").alias(\"Users Count\")).sort(col('Users Count').desc()).limit(20)\n",
    "location_plot = sns.barplot(x='location',y='Users Count',data=location_count.toPandas(), palette=\"Blues_d\")\n",
    "for item in location_plot.get_xticklabels():\n",
    "    item.set_rotation(90)"
   ]
  },
  {
   "cell_type": "code",
   "execution_count": 16,
   "metadata": {},
   "outputs": [
    {
     "name": "stdout",
     "output_type": "stream",
     "text": [
      "List of different types of pages: \n",
      "+-------------------------+\n",
      "|page                     |\n",
      "+-------------------------+\n",
      "|About                    |\n",
      "|Add Friend               |\n",
      "|Add to Playlist          |\n",
      "|Cancel                   |\n",
      "|Cancellation Confirmation|\n",
      "|Downgrade                |\n",
      "|Error                    |\n",
      "|Help                     |\n",
      "|Home                     |\n",
      "|Logout                   |\n",
      "|NextSong                 |\n",
      "|Roll Advert              |\n",
      "|Save Settings            |\n",
      "|Settings                 |\n",
      "|Submit Downgrade         |\n",
      "|Submit Upgrade           |\n",
      "|Thumbs Down              |\n",
      "|Thumbs Up                |\n",
      "|Upgrade                  |\n",
      "+-------------------------+\n",
      "\n"
     ]
    }
   ],
   "source": [
    "print(\"List of different types of pages: \")\n",
    "event_data.select(['page']).sort('page').distinct().show(23, False)"
   ]
  },
  {
   "cell_type": "code",
   "execution_count": 17,
   "metadata": {},
   "outputs": [
    {
     "name": "stdout",
     "output_type": "stream",
     "text": [
      "Number of sessions per user, ordered by sessions count: \n",
      "+------+---------------+\n",
      "|userId|sessionId Count|\n",
      "+------+---------------+\n",
      "|    39|           9632|\n",
      "|    92|           7230|\n",
      "|   140|           6880|\n",
      "|300011|           5732|\n",
      "|   124|           4825|\n",
      "|300021|           4659|\n",
      "|300017|           4428|\n",
      "|    85|           4370|\n",
      "|    42|           4257|\n",
      "|200023|           3769|\n",
      "|     6|           3761|\n",
      "|    29|           3603|\n",
      "|    54|           3437|\n",
      "|   100|           3214|\n",
      "|     9|           3191|\n",
      "|   126|           3102|\n",
      "|300015|           3051|\n",
      "|    91|           3014|\n",
      "|    98|           2891|\n",
      "|    74|           2887|\n",
      "+------+---------------+\n",
      "only showing top 20 rows\n",
      "\n"
     ]
    }
   ],
   "source": [
    "print(\"Number of sessions per user, ordered by sessions count: \")\n",
    "event_data.groupby('userId').agg(count(\"sessionId\").alias(\"sessionId Count\")).sort(col('sessionId Count').desc()).show()"
   ]
  },
  {
   "cell_type": "markdown",
   "metadata": {},
   "source": [
    "### Define Churn\n",
    "\n",
    "Once you've done some preliminary analysis, create a column `Churn` to use as the label for your model. I suggest using the `Cancellation Confirmation` events to define your churn, which happen for both paid and free users. As a bonus task, you can also look into the `Downgrade` events."
   ]
  },
  {
   "cell_type": "code",
   "execution_count": 18,
   "metadata": {},
   "outputs": [],
   "source": [
    "churn_flag = udf(lambda x: 1 if x == 'Cancellation Confirmation' else 0, IntegerType())\n",
    "\n",
    "event_data = event_data.withColumn(\"churn_flag\", churn_flag('page'))\n",
    "\n",
    "user_window = Window \\\n",
    "    .partitionBy('userId')\n",
    "\n",
    "event_data = event_data.withColumn(\"churn\", max(event_data.churn_flag).over(user_window))"
   ]
  },
  {
   "cell_type": "markdown",
   "metadata": {},
   "source": [
    "### Explore Data\n",
    "Once you've defined churn, perform some exploratory data analysis to observe the behavior for users who stayed vs users who churned. You can start by exploring aggregates on these two groups of users, observing how much of a specific action they experienced per a certain time unit or number of songs played."
   ]
  },
  {
   "cell_type": "code",
   "execution_count": 19,
   "metadata": {},
   "outputs": [
    {
     "name": "stdout",
     "output_type": "stream",
     "text": [
      "+-----+-----------+\n",
      "|churn|Users Count|\n",
      "+-----+-----------+\n",
      "|    1|         52|\n",
      "|    0|        173|\n",
      "+-----+-----------+\n",
      "\n"
     ]
    }
   ],
   "source": [
    "event_data.groupby('churn').agg(countDistinct('userId').alias(\"Users Count\")).show()"
   ]
  },
  {
   "cell_type": "code",
   "execution_count": 20,
   "metadata": {},
   "outputs": [
    {
     "name": "stdout",
     "output_type": "stream",
     "text": [
      "+------+-----+-----------+\n",
      "|gender|churn|Users Count|\n",
      "+------+-----+-----------+\n",
      "|     M|    0|         89|\n",
      "|     F|    0|         84|\n",
      "|     M|    1|         32|\n",
      "|     F|    1|         20|\n",
      "+------+-----+-----------+\n",
      "\n"
     ]
    }
   ],
   "source": [
    "event_data.groupby('gender', 'churn').agg(countDistinct(\"userId\").alias(\"Users Count\")).sort(col('Users Count').desc()).show()"
   ]
  },
  {
   "cell_type": "code",
   "execution_count": 21,
   "metadata": {},
   "outputs": [
    {
     "name": "stdout",
     "output_type": "stream",
     "text": [
      "+-----+-----+-----------+\n",
      "|level|churn|Users Count|\n",
      "+-----+-----+-----------+\n",
      "| free|    0|        149|\n",
      "| paid|    0|        129|\n",
      "| free|    1|         46|\n",
      "| paid|    1|         36|\n",
      "+-----+-----+-----------+\n",
      "\n"
     ]
    }
   ],
   "source": [
    "event_data.groupby('level', 'churn').agg(countDistinct(\"userId\").alias(\"Users Count\")).sort(col('Users Count').desc()).show()"
   ]
  },
  {
   "cell_type": "markdown",
   "metadata": {},
   "source": [
    "The same user can pass from free to paid or from paid to free, so the total counts exceed the total number of users in the dataset"
   ]
  },
  {
   "cell_type": "code",
   "execution_count": 22,
   "metadata": {},
   "outputs": [
    {
     "name": "stdout",
     "output_type": "stream",
     "text": [
      "+---------+-----+-----------+\n",
      "|     auth|churn|Users Count|\n",
      "+---------+-----+-----------+\n",
      "|Logged In|    0|        173|\n",
      "|Cancelled|    1|         52|\n",
      "|Logged In|    1|         52|\n",
      "+---------+-----+-----------+\n",
      "\n"
     ]
    }
   ],
   "source": [
    "event_data.groupby('auth', 'churn').agg(countDistinct(\"userId\").alias(\"Users Count\")).sort(col('Users Count').desc()).show()"
   ]
  },
  {
   "cell_type": "markdown",
   "metadata": {},
   "source": [
    "Of course the users who churned are not anymore logged in and they end up in \"Cancelled\" type of authentication"
   ]
  },
  {
   "cell_type": "code",
   "execution_count": 23,
   "metadata": {},
   "outputs": [
    {
     "name": "stdout",
     "output_type": "stream",
     "text": [
      "+------+-----+-----------+\n",
      "|status|churn|Users Count|\n",
      "+------+-----+-----------+\n",
      "|   200|    0|        173|\n",
      "|   307|    0|        171|\n",
      "|   404|    0|         95|\n",
      "|   307|    1|         52|\n",
      "|   200|    1|         52|\n",
      "|   404|    1|         22|\n",
      "+------+-----+-----------+\n",
      "\n"
     ]
    }
   ],
   "source": [
    "event_data.groupby('status', 'churn').agg(countDistinct(\"userId\").alias(\"Users Count\")).sort(col('Users Count').desc()).show()"
   ]
  },
  {
   "cell_type": "markdown",
   "metadata": {},
   "source": [
    "Ratio for Users Count churn or not-churn does not seem to be affected by status"
   ]
  },
  {
   "cell_type": "markdown",
   "metadata": {},
   "source": [
    "# Feature Engineering\n",
    "Once you've familiarized yourself with the data, build out the features you find promising to train your model on. To work with the full dataset, you can follow the following steps.\n",
    "- Write a script to extract the necessary features from the smaller subset of data\n",
    "- Ensure that your script is scalable, using the best practices discussed in Lesson 3\n",
    "- Try your script on the full data set, debugging your script if necessary\n",
    "\n",
    "If you are working in the classroom workspace, you can just extract features based on the small subset of data contained here. Be sure to transfer over this work to the larger dataset when you work on your Spark cluster."
   ]
  },
  {
   "cell_type": "markdown",
   "metadata": {},
   "source": [
    "### Categorical Features"
   ]
  },
  {
   "cell_type": "code",
   "execution_count": 24,
   "metadata": {},
   "outputs": [],
   "source": [
    "event_data_agg = event_data.select([\"userId\", \"gender\"]).distinct()\n",
    "\n",
    "stringIndexer = StringIndexer(inputCol=\"gender\", outputCol=\"genderIndexed\")\n",
    "stringIndexer = stringIndexer.fit(event_data_agg)\n",
    "event_data_agg = stringIndexer.transform(event_data_agg)\n",
    "   \n",
    "encoder = OneHotEncoder(inputCol=\"genderIndexed\", outputCol=\"genderFeature\")\n",
    "event_data_agg_cat = encoder.transform(event_data_agg)"
   ]
  },
  {
   "cell_type": "code",
   "execution_count": 25,
   "metadata": {},
   "outputs": [
    {
     "name": "stdout",
     "output_type": "stream",
     "text": [
      "+------+------+-------------+-------------+\n",
      "|userId|gender|genderIndexed|genderFeature|\n",
      "+------+------+-------------+-------------+\n",
      "|    44|     F|          1.0|    (1,[],[])|\n",
      "|    46|     F|          1.0|    (1,[],[])|\n",
      "|    41|     F|          1.0|    (1,[],[])|\n",
      "|    72|     F|          1.0|    (1,[],[])|\n",
      "|300023|     F|          1.0|    (1,[],[])|\n",
      "|    39|     F|          1.0|    (1,[],[])|\n",
      "|100010|     F|          1.0|    (1,[],[])|\n",
      "|    40|     F|          1.0|    (1,[],[])|\n",
      "|    94|     F|          1.0|    (1,[],[])|\n",
      "|    35|     F|          1.0|    (1,[],[])|\n",
      "+------+------+-------------+-------------+\n",
      "only showing top 10 rows\n",
      "\n"
     ]
    }
   ],
   "source": [
    "event_data_agg_cat.show(10)"
   ]
  },
  {
   "cell_type": "code",
   "execution_count": 37,
   "metadata": {},
   "outputs": [
    {
     "data": {
      "text/plain": [
       "225"
      ]
     },
     "execution_count": 37,
     "metadata": {},
     "output_type": "execute_result"
    }
   ],
   "source": [
    "event_data_agg_cat.count()"
   ]
  },
  {
   "cell_type": "markdown",
   "metadata": {},
   "source": [
    "#### Side note on data leakage"
   ]
  },
  {
   "cell_type": "code",
   "execution_count": 26,
   "metadata": {},
   "outputs": [],
   "source": [
    "# it would be useful to use the last value of level, but this could be an example of data leakage \n",
    "# as we are using an information that we might not have in production as it is in the future\n",
    "spec = Window\\\n",
    "    .partitionBy('userId')\\\n",
    "    .orderBy(col('ts').desc())\\\n",
    "    .rowsBetween(Window.unboundedPreceding, Window.unboundedFollowing)\n",
    "\n",
    "event_data_agg_1 = event_data.withColumn('lastLevel', last('level').over(spec)).select(['userId', 'lastLevel']).distinct()"
   ]
  },
  {
   "cell_type": "markdown",
   "metadata": {},
   "source": [
    "### Numerical Features"
   ]
  },
  {
   "cell_type": "code",
   "execution_count": 27,
   "metadata": {},
   "outputs": [],
   "source": [
    "#count of page actions for each uers\n",
    "event_data_agg_2 = event_data.groupby('userId').pivot('page').count()\n",
    "event_data_agg_2 = event_data_agg_2.fillna(0)"
   ]
  },
  {
   "cell_type": "code",
   "execution_count": 28,
   "metadata": {},
   "outputs": [],
   "source": [
    "#number of sessions per user\n",
    "event_data_agg_3 = event_data.groupby('userId').agg(count('sessionId').alias('numSessions'))\n",
    "\n",
    "#number of songs per user\n",
    "event_data_agg_4 = event_data.groupby('userId').agg(count('song').alias('numSongs'))\n",
    "\n",
    "#average number of songs per user per session\n",
    "event_data_agg_5 = event_data.groupby('userId', 'sessionId').agg(count('song').alias('numSongs')).groupby('userId').agg(round(avg('numSongs'), 1).alias('avgSongs'))"
   ]
  },
  {
   "cell_type": "code",
   "execution_count": 29,
   "metadata": {},
   "outputs": [],
   "source": [
    "event_data_agg_num = event_data_agg_2.join(event_data_agg_3, ['userId'])\\\n",
    "                                     .join(event_data_agg_4, ['userId'])\\\n",
    "                                     .join(event_data_agg_5, ['userId'])"
   ]
  },
  {
   "cell_type": "code",
   "execution_count": 30,
   "metadata": {},
   "outputs": [],
   "source": [
    "num_features = [\"About\",\"Add Friend\",\"Add to Playlist\",\"Cancel\",\"Cancellation Confirmation\",\"Downgrade\",\"Error\",\"Help\",\"Home\",\"Logout\",\"NextSong\",\"Roll Advert\",\"Save Settings\",\"Settings\",\"Submit Downgrade\",\"Submit Upgrade\",\"Thumbs Down\",\"Thumbs Up\",\"Upgrade\",\"numSessions\",\"numSongs\",\"avgSongs\"]\n",
    "\n",
    "assembler = VectorAssembler(inputCols=num_features, outputCol=\"NumFeatures\")\n",
    "event_data_agg_num = assembler.transform(event_data_agg_num)"
   ]
  },
  {
   "cell_type": "code",
   "execution_count": 31,
   "metadata": {},
   "outputs": [],
   "source": [
    "scaler = StandardScaler(inputCol=\"NumFeatures\", outputCol=\"ScaledNumFeatures\", withStd=True)\n",
    "scalerModel = scaler.fit(event_data_agg_num)\n",
    "event_data_agg_num = scalerModel.transform(event_data_agg_num)"
   ]
  },
  {
   "cell_type": "code",
   "execution_count": 36,
   "metadata": {},
   "outputs": [
    {
     "data": {
      "text/plain": [
       "225"
      ]
     },
     "execution_count": 36,
     "metadata": {},
     "output_type": "execute_result"
    }
   ],
   "source": [
    "event_data_agg_num.count()"
   ]
  },
  {
   "cell_type": "markdown",
   "metadata": {},
   "source": [
    "### Final Joins"
   ]
  },
  {
   "cell_type": "code",
   "execution_count": 39,
   "metadata": {},
   "outputs": [],
   "source": [
    "event_data_agg_final = event_data_agg_cat.join(event_data_agg_num, ['userId']).join(event_data.select(\"userId\", \"churn\").distinct(), [\"userId\"])"
   ]
  },
  {
   "cell_type": "code",
   "execution_count": 41,
   "metadata": {},
   "outputs": [],
   "source": [
    "event_data_final = event_data_agg_final.select(col(\"churn\").alias(\"label\"), col(\"ScaledNumFeatures\"), col(\"genderFeature\"))\n",
    "\n",
    "assembler2 = VectorAssembler(inputCols=['genderFeature', 'ScaledNumFeatures'], outputCol='all_features')\n",
    "event_data_final = assembler2.transform(event_data_final)\n",
    "event_data_final = event_data_final.select(event_data_final.label, event_data_final.all_features.alias('features'))"
   ]
  },
  {
   "cell_type": "markdown",
   "metadata": {},
   "source": [
    "# Modeling\n",
    "Split the full dataset into train, test, and validation sets. Test out several of the machine learning methods you learned. Evaluate the accuracy of the various models, tuning parameters as necessary. Determine your winning model based on test accuracy and report results on the validation set. Since the churned users are a fairly small subset, I suggest using F1 score as the metric to optimize."
   ]
  },
  {
   "cell_type": "code",
   "execution_count": 45,
   "metadata": {},
   "outputs": [],
   "source": [
    "rest, validation = event_data_final.randomSplit([0.9, 0.1], seed=42)"
   ]
  },
  {
   "cell_type": "code",
   "execution_count": 46,
   "metadata": {},
   "outputs": [],
   "source": [
    "# Defining ML model and pipeline step\n",
    "lr = LogisticRegression(maxIter=10, regParam=0.0, elasticNetParam=0)\n",
    "\n",
    "pipeline = Pipeline(stages=[lr])"
   ]
  },
  {
   "cell_type": "code",
   "execution_count": 47,
   "metadata": {},
   "outputs": [],
   "source": [
    "# Defining hyper-parameters tuining\n",
    "paramGrid = ParamGridBuilder() \\\n",
    "    .addGrid(lr.regParam,[0.0, 0.1]) \\\n",
    "    .addGrid(lr.elasticNetParam,[0.0, 0.5, 1.0]) \\\n",
    "    .build()"
   ]
  },
  {
   "cell_type": "code",
   "execution_count": 48,
   "metadata": {},
   "outputs": [],
   "source": [
    "# Defining evalutation metrics\n",
    "evaluator = BinaryClassificationEvaluator()\\\n",
    "    .setMetricName(\"areaUnderROC\")"
   ]
  },
  {
   "cell_type": "code",
   "execution_count": 49,
   "metadata": {},
   "outputs": [],
   "source": [
    "# ML pipeline initialization with Cross Validation\n",
    "crossval = CrossValidator(estimator=pipeline,\n",
    "                          estimatorParamMaps=paramGrid,\n",
    "                          evaluator=evaluator,\n",
    "                          numFolds=3)"
   ]
  },
  {
   "cell_type": "code",
   "execution_count": null,
   "metadata": {},
   "outputs": [],
   "source": [
    "# Model fitting\n",
    "cvModel_q1 = crossval.fit(rest)"
   ]
  },
  {
   "cell_type": "code",
   "execution_count": 141,
   "metadata": {},
   "outputs": [],
   "source": [
    "# Model testing\n",
    "results = cvModel_q1.transform(validation)"
   ]
  },
  {
   "cell_type": "code",
   "execution_count": 142,
   "metadata": {},
   "outputs": [
    {
     "name": "stdout",
     "output_type": "stream",
     "text": [
      "27897\n",
      "27897\n"
     ]
    }
   ],
   "source": [
    "# Evaluation 1: check counts of correct predictions\n",
    "print(results.filter(results.label == results.prediction).count())\n",
    "print(results.count())"
   ]
  },
  {
   "cell_type": "code",
   "execution_count": null,
   "metadata": {},
   "outputs": [],
   "source": [
    "# Evaluation 2: using areaUnderROC to evaluate model\n",
    "evaluator.evaluate(results)"
   ]
  },
  {
   "cell_type": "markdown",
   "metadata": {},
   "source": [
    "# Final Steps\n",
    "Clean up your code, adding comments and renaming variables to make the code easier to read and maintain. Refer to the Spark Project Overview page and Data Scientist Capstone Project Rubric to make sure you are including all components of the capstone project and meet all expectations. Remember, this includes thorough documentation in a README file in a Github repository, as well as a web app or blog post."
   ]
  },
  {
   "cell_type": "code",
   "execution_count": null,
   "metadata": {},
   "outputs": [],
   "source": []
  }
 ],
 "metadata": {
  "kernelspec": {
   "display_name": "Python 3",
   "language": "python",
   "name": "python3"
  },
  "language_info": {
   "codemirror_mode": {
    "name": "ipython",
    "version": 3
   },
   "file_extension": ".py",
   "mimetype": "text/x-python",
   "name": "python",
   "nbconvert_exporter": "python",
   "pygments_lexer": "ipython3",
   "version": "3.6.3"
  }
 },
 "nbformat": 4,
 "nbformat_minor": 2
}
