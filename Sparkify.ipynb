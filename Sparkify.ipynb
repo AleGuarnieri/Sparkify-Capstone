{
 "cells": [
  {
   "cell_type": "markdown",
   "metadata": {},
   "source": [
    "# Sparkify Project Workspace\n",
    "This workspace contains a tiny subset (128MB) of the full dataset available (12GB). Feel free to use this workspace to build your project, or to explore a smaller subset with Spark before deploying your cluster on the cloud. Instructions for setting up your Spark cluster is included in the last lesson of the Extracurricular Spark Course content.\n",
    "\n",
    "You can follow the steps below to guide your data analysis and model building portion of this project."
   ]
  },
  {
   "cell_type": "code",
   "execution_count": 1,
   "metadata": {},
   "outputs": [],
   "source": [
    "from pyspark.sql import SparkSession\n",
    "from pyspark.sql.functions import round, sum, avg,count, countDistinct, col, concat, desc, explode, last, lit, min, max, split, udf, when, isnan\n",
    "from pyspark.sql.types import IntegerType\n",
    "from pyspark.sql.window import Window\n",
    "\n",
    "from pyspark.ml.classification import LogisticRegression, RandomForestClassifier, GBTClassifier\n",
    "from pyspark.ml.evaluation import MulticlassClassificationEvaluator\n",
    "from pyspark.ml.feature import CountVectorizer, IDF, Normalizer, PCA, RegexTokenizer, StandardScaler, StopWordsRemover, StringIndexer, VectorAssembler, OneHotEncoder\n",
    "from pyspark.ml.regression import LinearRegression\n",
    "from pyspark.ml.tuning import CrossValidator, ParamGridBuilder\n",
    "from pyspark.ml import Pipeline\n",
    "from pyspark.ml.evaluation import BinaryClassificationEvaluator\n",
    "from pyspark.mllib.evaluation import MulticlassMetrics\n",
    "\n",
    "import re"
   ]
  },
  {
   "cell_type": "code",
   "execution_count": 2,
   "metadata": {},
   "outputs": [],
   "source": [
    "import numpy as np\n",
    "import pandas as pd\n",
    "import seaborn as sns\n",
    "import matplotlib.pyplot as plt"
   ]
  },
  {
   "cell_type": "code",
   "execution_count": 3,
   "metadata": {},
   "outputs": [],
   "source": [
    "spark = SparkSession.builder \\\n",
    "    .master(\"local\") \\\n",
    "    .appName(\"Datascience Capstone Project\") \\\n",
    "    .getOrCreate()"
   ]
  },
  {
   "cell_type": "markdown",
   "metadata": {},
   "source": [
    "# Load and Clean Dataset\n",
    "In this workspace, the mini-dataset file is `mini_sparkify_event_data.json`. Load and clean the dataset, checking for invalid or missing data - for example, records without userids or sessionids. "
   ]
  },
  {
   "cell_type": "code",
   "execution_count": 4,
   "metadata": {},
   "outputs": [],
   "source": [
    "event_data = spark.read.json(\"mini_sparkify_event_data.json\")\n",
    "#event_data = spark.read.json(\"medium-sparkify-event-data.json\")"
   ]
  },
  {
   "cell_type": "code",
   "execution_count": 5,
   "metadata": {},
   "outputs": [
    {
     "name": "stdout",
     "output_type": "stream",
     "text": [
      "root\n",
      " |-- artist: string (nullable = true)\n",
      " |-- auth: string (nullable = true)\n",
      " |-- firstName: string (nullable = true)\n",
      " |-- gender: string (nullable = true)\n",
      " |-- itemInSession: long (nullable = true)\n",
      " |-- lastName: string (nullable = true)\n",
      " |-- length: double (nullable = true)\n",
      " |-- level: string (nullable = true)\n",
      " |-- location: string (nullable = true)\n",
      " |-- method: string (nullable = true)\n",
      " |-- page: string (nullable = true)\n",
      " |-- registration: long (nullable = true)\n",
      " |-- sessionId: long (nullable = true)\n",
      " |-- song: string (nullable = true)\n",
      " |-- status: long (nullable = true)\n",
      " |-- ts: long (nullable = true)\n",
      " |-- userAgent: string (nullable = true)\n",
      " |-- userId: string (nullable = true)\n",
      "\n"
     ]
    }
   ],
   "source": [
    "event_data.printSchema()"
   ]
  },
  {
   "cell_type": "code",
   "execution_count": 6,
   "metadata": {},
   "outputs": [],
   "source": [
    "event_data = event_data.where(col('userId') != '')"
   ]
  },
  {
   "cell_type": "code",
   "execution_count": 9,
   "metadata": {},
   "outputs": [
    {
     "name": "stdout",
     "output_type": "stream",
     "text": [
      "+------+----+---------+------+-------------+--------+------+-----+--------+------+----+------------+---------+-----+------+---+---------+------+\n",
      "|artist|auth|firstName|gender|itemInSession|lastName|length|level|location|method|page|registration|sessionId| song|status| ts|userAgent|userId|\n",
      "+------+----+---------+------+-------------+--------+------+-----+--------+------+----+------------+---------+-----+------+---+---------+------+\n",
      "| 50046|   0|        0|     0|            0|       0| 50046|    0|       0|     0|   0|           0|        0|50046|     0|  0|        0|     0|\n",
      "+------+----+---------+------+-------------+--------+------+-----+--------+------+----+------------+---------+-----+------+---+---------+------+\n",
      "\n"
     ]
    }
   ],
   "source": [
    "event_data.select([count(when(isnan(c) | col(c).isNull(), c)).alias(c) for c in event_data.columns]).show()"
   ]
  },
  {
   "cell_type": "code",
   "execution_count": 10,
   "metadata": {},
   "outputs": [
    {
     "name": "stdout",
     "output_type": "stream",
     "text": [
      "+--------------------+\n",
      "|                page|\n",
      "+--------------------+\n",
      "|              Cancel|\n",
      "|    Submit Downgrade|\n",
      "|         Thumbs Down|\n",
      "|                Home|\n",
      "|           Downgrade|\n",
      "|         Roll Advert|\n",
      "|              Logout|\n",
      "|       Save Settings|\n",
      "|Cancellation Conf...|\n",
      "|               About|\n",
      "|            Settings|\n",
      "|     Add to Playlist|\n",
      "|          Add Friend|\n",
      "|           Thumbs Up|\n",
      "|                Help|\n",
      "|             Upgrade|\n",
      "|               Error|\n",
      "|      Submit Upgrade|\n",
      "+--------------------+\n",
      "\n"
     ]
    }
   ],
   "source": [
    "event_data.where(event_data.song.isNull()).select(event_data.page).distinct().show(100)\n",
    "# This is due to the fact that only when the users click on NextSong, there is an Artist/Length or Song saved in the database"
   ]
  },
  {
   "cell_type": "code",
   "execution_count": 11,
   "metadata": {},
   "outputs": [
    {
     "name": "stdout",
     "output_type": "stream",
     "text": [
      "+--------+\n",
      "|    page|\n",
      "+--------+\n",
      "|NextSong|\n",
      "+--------+\n",
      "\n"
     ]
    }
   ],
   "source": [
    "event_data.where(event_data.song.isNotNull()).select(event_data.page).distinct().show(100)"
   ]
  },
  {
   "cell_type": "markdown",
   "metadata": {},
   "source": [
    "We still have null values on artist, song and length because in those cases the action of the user was not related to a song, as shown in the previous cell."
   ]
  },
  {
   "cell_type": "markdown",
   "metadata": {},
   "source": [
    "# Exploratory Data Analysis\n",
    "When you're working with the full dataset, perform EDA by loading a small subset of the data and doing basic manipulations within Spark. In this workspace, you are already provided a small subset of data you can explore."
   ]
  },
  {
   "cell_type": "code",
   "execution_count": 12,
   "metadata": {},
   "outputs": [
    {
     "name": "stdout",
     "output_type": "stream",
     "text": [
      "+-------+------------------+---------+---------+------+------------------+--------+-----------------+------+-----------------+------+-------+--------------------+------------------+--------------------+------------------+--------------------+--------------------+-----------------+\n",
      "|summary|            artist|     auth|firstName|gender|     itemInSession|lastName|           length| level|         location|method|   page|        registration|         sessionId|                song|            status|                  ts|           userAgent|           userId|\n",
      "+-------+------------------+---------+---------+------+------------------+--------+-----------------+------+-----------------+------+-------+--------------------+------------------+--------------------+------------------+--------------------+--------------------+-----------------+\n",
      "|  count|            228108|   278154|   278154|278154|            278154|  278154|           228108|278154|           278154|278154| 278154|              278154|            278154|              228108|            278154|              278154|              278154|           278154|\n",
      "|   mean| 551.0852017937219|     null|     null|  null|114.89918174824018|    null|249.1171819778458|  null|             null|  null|   null|1.535358834084427...|1042.5616241362698|            Infinity|209.10321620397335|1.540958915431871...|                null|59682.02278593872|\n",
      "| stddev|1217.7693079161374|     null|     null|  null|  129.851729399489|    null|99.23517921058361|  null|             null|  null|   null| 3.291321616327586E9| 726.5010362219813|                 NaN|30.151388851328214|1.5068287123306298E9|                null|109091.9499991047|\n",
      "|    min|               !!!|Cancelled| Adelaida|     F|                 0|   Adams|          0.78322|  free|       Albany, OR|   GET|  About|       1521380675000|                 1|\u001c",
      "ÃÂg ÃÂtti Gr...|               200|       1538352117000|\"Mozilla/5.0 (Mac...|               10|\n",
      "|    25%|             311.0|     null|     null|  null|                27|    null|        199.88853|  null|             null|  null|   null|       1533522419000|               338|                24.0|               200|       1539698879000|                null|             51.0|\n",
      "|    50%|             311.0|     null|     null|  null|                70|    null|        234.50077|  null|             null|  null|   null|       1536663902000|              1016|               221.0|               200|       1540934307000|                null|             98.0|\n",
      "|    75%|             311.0|     null|     null|  null|               157|    null|        277.15873|  null|             null|  null|   null|       1537672236000|              1675|              1958.0|               200|       1542267679000|                null|         100004.0|\n",
      "|    max| ÃÂlafur Arnalds|Logged In|   Zyonna|     M|              1321|  Wright|       3024.66567|  paid|Winston-Salem, NC|   PUT|Upgrade|       1543247354000|              2474|ÃÂau hafa slopp...|               404|       1543799476000|Mozilla/5.0 (comp...|               99|\n",
      "+-------+------------------+---------+---------+------+------------------+--------+-----------------+------+-----------------+------+-------+--------------------+------------------+--------------------+------------------+--------------------+--------------------+-----------------+\n",
      "\n"
     ]
    }
   ],
   "source": [
    "event_data.summary().show()"
   ]
  },
  {
   "cell_type": "code",
   "execution_count": 13,
   "metadata": {},
   "outputs": [
    {
     "name": "stdout",
     "output_type": "stream",
     "text": [
      "+-------+--------------------+-----------------+------+------------------+\n",
      "|summary|                song|           length| level|     itemInSession|\n",
      "+-------+--------------------+-----------------+------+------------------+\n",
      "|  count|              228108|           228108|278154|            278154|\n",
      "|   mean|            Infinity|249.1171819778458|  null|114.89918174824018|\n",
      "| stddev|                 NaN|99.23517921058361|  null|  129.851729399489|\n",
      "|    min|\u001c",
      "ÃÂg ÃÂtti Gr...|          0.78322|  free|                 0|\n",
      "|    25%|                24.0|        199.88853|  null|                27|\n",
      "|    50%|               221.0|        234.50077|  null|                70|\n",
      "|    75%|              1958.0|        277.15873|  null|               157|\n",
      "|    max|ÃÂau hafa slopp...|       3024.66567|  paid|              1321|\n",
      "+-------+--------------------+-----------------+------+------------------+\n",
      "\n"
     ]
    }
   ],
   "source": [
    "event_data.select(\"song\", \"length\", \"level\", \"itemInSession\").summary().show()"
   ]
  },
  {
   "cell_type": "code",
   "execution_count": 14,
   "metadata": {},
   "outputs": [
    {
     "data": {
      "text/plain": [
       "[Row(artist='Martha Tilston', auth='Logged In', firstName='Colin', gender='M', itemInSession=50, lastName='Freeman', length=277.89016, level='paid', location='Bakersfield, CA', method='PUT', page='NextSong', registration=1538173362000, sessionId=29, song='Rockpools', status=200, ts=1538352117000, userAgent='Mozilla/5.0 (Windows NT 6.1; WOW64; rv:31.0) Gecko/20100101 Firefox/31.0', userId='30')]"
      ]
     },
     "execution_count": 14,
     "metadata": {},
     "output_type": "execute_result"
    }
   ],
   "source": [
    "event_data.take(1)"
   ]
  },
  {
   "cell_type": "code",
   "execution_count": 15,
   "metadata": {},
   "outputs": [
    {
     "name": "stdout",
     "output_type": "stream",
     "text": [
      "Number of rows of this subset: \n"
     ]
    },
    {
     "data": {
      "text/plain": [
       "278154"
      ]
     },
     "execution_count": 15,
     "metadata": {},
     "output_type": "execute_result"
    }
   ],
   "source": [
    "print(\"Number of rows of this subset: \")\n",
    "event_data.count()"
   ]
  },
  {
   "cell_type": "code",
   "execution_count": 16,
   "metadata": {},
   "outputs": [
    {
     "name": "stdout",
     "output_type": "stream",
     "text": [
      "Number of Users in this subset: \n"
     ]
    },
    {
     "data": {
      "text/plain": [
       "225"
      ]
     },
     "execution_count": 16,
     "metadata": {},
     "output_type": "execute_result"
    }
   ],
   "source": [
    "print(\"Number of Users in this subset: \")\n",
    "event_data.select(\"userId\").distinct().count()"
   ]
  },
  {
   "cell_type": "code",
   "execution_count": 17,
   "metadata": {},
   "outputs": [
    {
     "data": {
      "image/png": "[encoded data removed]",
      "text/plain": [
       "<matplotlib.figure.Figure at 0x7fe6333b68d0>"
      ]
     },
     "metadata": {
      "needs_background": "light"
     },
     "output_type": "display_data"
    }
   ],
   "source": [
    "gender_count = event_data.groupby('gender').agg(countDistinct(\"userId\").alias(\"Users Count\")).sort(col('Users Count').desc())\n",
    "sns.barplot(x='gender',y='Users Count',data=gender_count.toPandas());"
   ]
  },
  {
   "cell_type": "code",
   "execution_count": 18,
   "metadata": {},
   "outputs": [
    {
     "data": {
      "image/png": "[encoded data removed]",
      "text/plain": [
       "<matplotlib.figure.Figure at 0x7fe6312a9278>"
      ]
     },
     "metadata": {
      "needs_background": "light"
     },
     "output_type": "display_data"
    }
   ],
   "source": [
    "location_count = event_data.groupby('location').agg(countDistinct(\"userId\").alias(\"Users Count\")).sort(col('Users Count').desc()).limit(20)\n",
    "location_plot = sns.barplot(x='location',y='Users Count',data=location_count.toPandas(), palette=\"Blues_d\")\n",
    "for item in location_plot.get_xticklabels():\n",
    "    item.set_rotation(90)"
   ]
  },
  {
   "cell_type": "code",
   "execution_count": 19,
   "metadata": {},
   "outputs": [
    {
     "name": "stdout",
     "output_type": "stream",
     "text": [
      "List of different types of pages: \n",
      "+-------------------------+\n",
      "|page                     |\n",
      "+-------------------------+\n",
      "|About                    |\n",
      "|Add Friend               |\n",
      "|Add to Playlist          |\n",
      "|Cancel                   |\n",
      "|Cancellation Confirmation|\n",
      "|Downgrade                |\n",
      "|Error                    |\n",
      "|Help                     |\n",
      "|Home                     |\n",
      "|Logout                   |\n",
      "|NextSong                 |\n",
      "|Roll Advert              |\n",
      "|Save Settings            |\n",
      "|Settings                 |\n",
      "|Submit Downgrade         |\n",
      "|Submit Upgrade           |\n",
      "|Thumbs Down              |\n",
      "|Thumbs Up                |\n",
      "|Upgrade                  |\n",
      "+-------------------------+\n",
      "\n"
     ]
    }
   ],
   "source": [
    "print(\"List of different types of pages: \")\n",
    "event_data.select(['page']).sort('page').distinct().show(23, False)"
   ]
  },
  {
   "cell_type": "code",
   "execution_count": 20,
   "metadata": {},
   "outputs": [
    {
     "name": "stdout",
     "output_type": "stream",
     "text": [
      "Number of sessions per user, ordered by sessions count: \n",
      "+------+---------------+\n",
      "|userId|sessionId Count|\n",
      "+------+---------------+\n",
      "|    39|           9632|\n",
      "|    92|           7230|\n",
      "|   140|           6880|\n",
      "|300011|           5732|\n",
      "|   124|           4825|\n",
      "|300021|           4659|\n",
      "|300017|           4428|\n",
      "|    85|           4370|\n",
      "|    42|           4257|\n",
      "|200023|           3769|\n",
      "|     6|           3761|\n",
      "|    29|           3603|\n",
      "|    54|           3437|\n",
      "|   100|           3214|\n",
      "|     9|           3191|\n",
      "|   126|           3102|\n",
      "|300015|           3051|\n",
      "|    91|           3014|\n",
      "|    98|           2891|\n",
      "|    74|           2887|\n",
      "+------+---------------+\n",
      "only showing top 20 rows\n",
      "\n"
     ]
    }
   ],
   "source": [
    "print(\"Number of sessions per user, ordered by sessions count: \")\n",
    "event_data.groupby('userId').agg(count(\"sessionId\").alias(\"sessionId Count\")).sort(col('sessionId Count').desc()).show()"
   ]
  },
  {
   "cell_type": "markdown",
   "metadata": {},
   "source": [
    "### Define Churn\n",
    "\n",
    "Once you've done some preliminary analysis, create a column `Churn` to use as the label for your model. I suggest using the `Cancellation Confirmation` events to define your churn, which happen for both paid and free users. As a bonus task, you can also look into the `Downgrade` events."
   ]
  },
  {
   "cell_type": "code",
   "execution_count": 21,
   "metadata": {},
   "outputs": [],
   "source": [
    "churn_flag = udf(lambda x: 1 if x == 'Cancellation Confirmation' else 0, IntegerType())\n",
    "\n",
    "event_data = event_data.withColumn(\"churn_flag\", churn_flag('page'))\n",
    "\n",
    "user_window = Window \\\n",
    "    .partitionBy('userId')\n",
    "\n",
    "event_data = event_data.withColumn(\"churn\", max(event_data.churn_flag).over(user_window))"
   ]
  },
  {
   "cell_type": "markdown",
   "metadata": {},
   "source": [
    "### Explore Data\n",
    "Once you've defined churn, perform some exploratory data analysis to observe the behavior for users who stayed vs users who churned. You can start by exploring aggregates on these two groups of users, observing how much of a specific action they experienced per a certain time unit or number of songs played."
   ]
  },
  {
   "cell_type": "code",
   "execution_count": 22,
   "metadata": {},
   "outputs": [
    {
     "name": "stdout",
     "output_type": "stream",
     "text": [
      "+-----+-----------+\n",
      "|churn|Users Count|\n",
      "+-----+-----------+\n",
      "|    1|         52|\n",
      "|    0|        173|\n",
      "+-----+-----------+\n",
      "\n"
     ]
    }
   ],
   "source": [
    "event_data.groupby('churn').agg(countDistinct('userId').alias(\"Users Count\")).show()"
   ]
  },
  {
   "cell_type": "code",
   "execution_count": 23,
   "metadata": {},
   "outputs": [
    {
     "name": "stdout",
     "output_type": "stream",
     "text": [
      "+------+-----+-----------+\n",
      "|gender|churn|Users Count|\n",
      "+------+-----+-----------+\n",
      "|     M|    0|         89|\n",
      "|     F|    0|         84|\n",
      "|     M|    1|         32|\n",
      "|     F|    1|         20|\n",
      "+------+-----+-----------+\n",
      "\n"
     ]
    }
   ],
   "source": [
    "event_data.groupby('gender', 'churn').agg(countDistinct(\"userId\").alias(\"Users Count\")).sort(col('Users Count').desc()).show()"
   ]
  },
  {
   "cell_type": "code",
   "execution_count": 24,
   "metadata": {},
   "outputs": [
    {
     "name": "stdout",
     "output_type": "stream",
     "text": [
      "+-----+-----+-----------+\n",
      "|level|churn|Users Count|\n",
      "+-----+-----+-----------+\n",
      "| free|    0|        149|\n",
      "| paid|    0|        129|\n",
      "| free|    1|         46|\n",
      "| paid|    1|         36|\n",
      "+-----+-----+-----------+\n",
      "\n"
     ]
    }
   ],
   "source": [
    "event_data.groupby('level', 'churn').agg(countDistinct(\"userId\").alias(\"Users Count\")).sort(col('Users Count').desc()).show()"
   ]
  },
  {
   "cell_type": "markdown",
   "metadata": {},
   "source": [
    "The same user can pass from free to paid or from paid to free, so the total counts exceed the total number of users in the dataset"
   ]
  },
  {
   "cell_type": "code",
   "execution_count": 25,
   "metadata": {},
   "outputs": [
    {
     "name": "stdout",
     "output_type": "stream",
     "text": [
      "+---------+-----+-----------+\n",
      "|     auth|churn|Users Count|\n",
      "+---------+-----+-----------+\n",
      "|Logged In|    0|        173|\n",
      "|Cancelled|    1|         52|\n",
      "|Logged In|    1|         52|\n",
      "+---------+-----+-----------+\n",
      "\n"
     ]
    }
   ],
   "source": [
    "event_data.groupby('auth', 'churn').agg(countDistinct(\"userId\").alias(\"Users Count\")).sort(col('Users Count').desc()).show()"
   ]
  },
  {
   "cell_type": "markdown",
   "metadata": {},
   "source": [
    "Of course the users who churned are not anymore logged in and they end up in \"Cancelled\" type of authentication"
   ]
  },
  {
   "cell_type": "code",
   "execution_count": 26,
   "metadata": {},
   "outputs": [
    {
     "name": "stdout",
     "output_type": "stream",
     "text": [
      "+------+-----+-----------+\n",
      "|status|churn|Users Count|\n",
      "+------+-----+-----------+\n",
      "|   200|    0|        173|\n",
      "|   307|    0|        171|\n",
      "|   404|    0|         95|\n",
      "|   307|    1|         52|\n",
      "|   200|    1|         52|\n",
      "|   404|    1|         22|\n",
      "+------+-----+-----------+\n",
      "\n"
     ]
    }
   ],
   "source": [
    "event_data.groupby('status', 'churn').agg(countDistinct(\"userId\").alias(\"Users Count\")).sort(col('Users Count').desc()).show()"
   ]
  },
  {
   "cell_type": "markdown",
   "metadata": {},
   "source": [
    "Ratio for Users Count churn or not-churn does not seem to be affected by status"
   ]
  },
  {
   "cell_type": "markdown",
   "metadata": {},
   "source": [
    "# Feature Engineering\n",
    "Once you've familiarized yourself with the data, build out the features you find promising to train your model on. To work with the full dataset, you can follow the following steps.\n",
    "- Write a script to extract the necessary features from the smaller subset of data\n",
    "- Ensure that your script is scalable, using the best practices discussed in Lesson 3\n",
    "- Try your script on the full data set, debugging your script if necessary\n",
    "\n",
    "If you are working in the classroom workspace, you can just extract features based on the small subset of data contained here. Be sure to transfer over this work to the larger dataset when you work on your Spark cluster."
   ]
  },
  {
   "cell_type": "markdown",
   "metadata": {},
   "source": [
    "### Categorical Features"
   ]
  },
  {
   "cell_type": "code",
   "execution_count": 27,
   "metadata": {},
   "outputs": [],
   "source": [
    "event_data_agg = event_data.select([\"userId\", \"gender\"]).distinct()\n",
    "\n",
    "stringIndexer = StringIndexer(inputCol=\"gender\", outputCol=\"genderIndexed\")\n",
    "stringIndexer = stringIndexer.fit(event_data_agg)\n",
    "event_data_agg = stringIndexer.transform(event_data_agg)\n",
    "   \n",
    "encoder = OneHotEncoder(inputCol=\"genderIndexed\", outputCol=\"genderFeature\")\n",
    "event_data_agg_cat = encoder.transform(event_data_agg)"
   ]
  },
  {
   "cell_type": "code",
   "execution_count": 28,
   "metadata": {},
   "outputs": [
    {
     "name": "stdout",
     "output_type": "stream",
     "text": [
      "+------+------+-------------+-------------+\n",
      "|userId|gender|genderIndexed|genderFeature|\n",
      "+------+------+-------------+-------------+\n",
      "|    44|     F|          1.0|    (1,[],[])|\n",
      "|    46|     F|          1.0|    (1,[],[])|\n",
      "|    41|     F|          1.0|    (1,[],[])|\n",
      "|    72|     F|          1.0|    (1,[],[])|\n",
      "|300023|     F|          1.0|    (1,[],[])|\n",
      "|    39|     F|          1.0|    (1,[],[])|\n",
      "|100010|     F|          1.0|    (1,[],[])|\n",
      "|    40|     F|          1.0|    (1,[],[])|\n",
      "|    94|     F|          1.0|    (1,[],[])|\n",
      "|    35|     F|          1.0|    (1,[],[])|\n",
      "+------+------+-------------+-------------+\n",
      "only showing top 10 rows\n",
      "\n"
     ]
    }
   ],
   "source": [
    "event_data_agg_cat.show(10)"
   ]
  },
  {
   "cell_type": "code",
   "execution_count": 29,
   "metadata": {},
   "outputs": [
    {
     "data": {
      "text/plain": [
       "225"
      ]
     },
     "execution_count": 29,
     "metadata": {},
     "output_type": "execute_result"
    }
   ],
   "source": [
    "event_data_agg_cat.count()"
   ]
  },
  {
   "cell_type": "markdown",
   "metadata": {},
   "source": [
    "#### Side note on data leakage"
   ]
  },
  {
   "cell_type": "code",
   "execution_count": 30,
   "metadata": {},
   "outputs": [],
   "source": [
    "# it would be useful to use the last value of level\n",
    "spec = Window\\\n",
    "    .partitionBy('userId')\\\n",
    "    .orderBy(col('ts').desc())\\\n",
    "    .rowsBetween(Window.unboundedPreceding, Window.unboundedFollowing)\n",
    "\n",
    "event_data_agg_1 = event_data.withColumn('lastLevel', last('level').over(spec)).select(['userId', 'lastLevel']).distinct()"
   ]
  },
  {
   "cell_type": "markdown",
   "metadata": {},
   "source": [
    "### Numerical Features"
   ]
  },
  {
   "cell_type": "code",
   "execution_count": 31,
   "metadata": {},
   "outputs": [
    {
     "name": "stdout",
     "output_type": "stream",
     "text": [
      "+------+-----+----------+---------------+------+-------------------------+---------+-----+----+----+------+--------+-----------+-------------+--------+----------------+--------------+-----------+---------+-------+\n",
      "|userId|About|Add Friend|Add to Playlist|Cancel|Cancellation Confirmation|Downgrade|Error|Help|Home|Logout|NextSong|Roll Advert|Save Settings|Settings|Submit Downgrade|Submit Upgrade|Thumbs Down|Thumbs Up|Upgrade|\n",
      "+------+-----+----------+---------------+------+-------------------------+---------+-----+----+----+------+--------+-----------+-------------+--------+----------------+--------------+-----------+---------+-------+\n",
      "|     0|   70|        19|             10|   173|                      173|       71|  108|  33|   2|    12|       0|         18|           93|      30|             176|            94|         22|        5|     57|\n",
      "+------+-----+----------+---------------+------+-------------------------+---------+-----+----+----+------+--------+-----------+-------------+--------+----------------+--------------+-----------+---------+-------+\n",
      "\n"
     ]
    }
   ],
   "source": [
    "#count of page actions for each uers\n",
    "event_data_agg_2 = event_data.groupby('userId').pivot('page').count()\n",
    "event_data_agg_2.select([count(when(isnan(c) | col(c).isNull(), c)).alias(c) for c in event_data_agg_2.columns]).show()"
   ]
  },
  {
   "cell_type": "code",
   "execution_count": 32,
   "metadata": {},
   "outputs": [
    {
     "name": "stdout",
     "output_type": "stream",
     "text": [
      "+------+-----+----------+---------------+------+-------------------------+---------+-----+----+----+------+--------+-----------+-------------+--------+----------------+--------------+-----------+---------+-------+\n",
      "|userId|About|Add Friend|Add to Playlist|Cancel|Cancellation Confirmation|Downgrade|Error|Help|Home|Logout|NextSong|Roll Advert|Save Settings|Settings|Submit Downgrade|Submit Upgrade|Thumbs Down|Thumbs Up|Upgrade|\n",
      "+------+-----+----------+---------------+------+-------------------------+---------+-----+----+----+------+--------+-----------+-------------+--------+----------------+--------------+-----------+---------+-------+\n",
      "|200002|    3|         4|              8|  null|                     null|        5| null|   2|  20|     5|     387|          7|         null|       3|            null|             1|          6|       21|      2|\n",
      "|100010|    1|         4|              7|  null|                     null|     null| null|   2|  11|     5|     275|         52|         null|    null|            null|          null|          5|       17|      2|\n",
      "|   125| null|      null|           null|     1|                        1|     null| null|null|null|  null|       8|          1|         null|    null|            null|          null|       null|     null|   null|\n",
      "|    51|    2|        28|             52|     1|                        1|       23|    1|  12|  75|    24|    2111|       null|            1|      12|            null|          null|         21|      100|   null|\n",
      "|   124|    7|        74|            118|  null|                     null|       41|    6|  23| 176|    59|    4079|          4|            6|      20|            null|          null|         41|      171|   null|\n",
      "|     7| null|         1|              5|  null|                     null|     null|    1|   1|  10|     3|     150|         16|            1|       3|            null|          null|          1|        7|      2|\n",
      "|    54|    5|        33|             72|     1|                        1|       39|    1|  17| 129|    36|    2841|         47|            3|      17|               1|             1|         29|      163|      1|\n",
      "|    15|    2|        31|             59|  null|                     null|       28|    2|   8|  93|    27|    1914|          1|            2|      16|            null|          null|         14|       81|   null|\n",
      "|   155|    2|        11|             24|  null|                     null|       12|    3|   9|  30|    14|     820|          8|         null|       5|            null|             1|          3|       58|      2|\n",
      "|   132|    4|        41|             38|  null|                     null|       19|    3|  16|  83|    34|    1928|          2|            4|      17|            null|             1|         17|       96|      1|\n",
      "|100014| null|         6|              7|     1|                        1|        3| null|   2|   7|     3|     257|          2|         null|       1|            null|          null|          3|       17|   null|\n",
      "|   154| null|         3|              1|  null|                     null|     null| null|   1|   6|     2|      84|         10|         null|    null|            null|          null|       null|       11|   null|\n",
      "|    11|    7|         6|             20|  null|                     null|        5|    1|   3|  37|    14|     647|         39|            2|       6|               1|             2|          9|       40|      9|\n",
      "|   101|    2|        29|             61|     1|                        1|       22|    3|  12|  74|    24|    1797|          8|            2|       9|            null|             1|         16|       86|      1|\n",
      "|   138|    8|        41|             67|  null|                     null|       21|    1|  13|  71|    18|    2070|         17|            4|      17|            null|             1|         24|       95|      1|\n",
      "|300017|    3|        63|            113|  null|                     null|       25|    5|  27| 151|    41|    3632|         11|            3|      23|            null|          null|         28|      303|   null|\n",
      "|    29|    2|        47|             89|     1|                        1|       18| null|  28| 121|    41|    3028|         22|            4|      19|            null|             1|         22|      154|      5|\n",
      "|100021|    1|         7|              7|     1|                        1|     null|    2|null|  15|     7|     230|         30|         null|    null|            null|          null|          5|       11|      2|\n",
      "|    69|    3|        12|             33|  null|                     null|        9|    4|   7|  49|    10|    1125|          3|            1|       3|            null|             1|          9|       72|      1|\n",
      "|    42|    6|        52|            104|  null|                     null|       37|    7|  20| 176|    44|    3573|         10|            7|      28|            null|             1|         25|      166|      1|\n",
      "+------+-----+----------+---------------+------+-------------------------+---------+-----+----+----+------+--------+-----------+-------------+--------+----------------+--------------+-----------+---------+-------+\n",
      "only showing top 20 rows\n",
      "\n"
     ]
    }
   ],
   "source": [
    "event_data_agg_2.show()"
   ]
  },
  {
   "cell_type": "code",
   "execution_count": 33,
   "metadata": {},
   "outputs": [],
   "source": [
    "#replacing null values with 0 as in this case when the count is null, it means the user did not click on that page action\n",
    "event_data_agg_2 = event_data_agg_2.fillna(0)"
   ]
  },
  {
   "cell_type": "code",
   "execution_count": 34,
   "metadata": {},
   "outputs": [],
   "source": [
    "#number of sessions per user\n",
    "event_data_agg_3 = event_data.groupby('userId').agg(count('sessionId').alias('numSessions'))\n",
    "\n",
    "#number of songs per user\n",
    "event_data_agg_4 = event_data.groupby('userId').agg(count('song').alias('numSongs'))\n",
    "\n",
    "#average number of songs per user per session\n",
    "event_data_agg_5 = event_data.groupby('userId', 'sessionId').agg(count('song').alias('numSongs')).groupby('userId').agg(round(avg('numSongs'), 1).alias('avgSongs'))"
   ]
  },
  {
   "cell_type": "code",
   "execution_count": 35,
   "metadata": {},
   "outputs": [],
   "source": [
    "event_data_agg_num = event_data_agg_2.join(event_data_agg_3, ['userId'])\\\n",
    "                                     .join(event_data_agg_4, ['userId'])\\\n",
    "                                     .join(event_data_agg_5, ['userId'])\n",
    "\n",
    "# we cannot use \"Cancellation Confirmation\"  and \"Cancel\" as it would result in data leakage, as this information was used to build the churn column\n",
    "event_data_agg_num = event_data_agg_num.drop(\"Cancellation Confirmation\", \"Cancel\")\n",
    "\n",
    "num_features = [\"About\",\"Add Friend\",\"Add to Playlist\",\"Downgrade\",\"Error\",\"Help\",\"Home\",\"Logout\",\"NextSong\",\"Roll Advert\",\"Save Settings\",\"Settings\",\"Submit Downgrade\",\"Submit Upgrade\",\"Thumbs Down\",\"Thumbs Up\",\"Upgrade\",\"numSessions\",\"numSongs\",\"avgSongs\"]\n",
    "assembler = VectorAssembler(inputCols=num_features, outputCol=\"NumFeatures\")\n",
    "event_data_agg_num = assembler.transform(event_data_agg_num)"
   ]
  },
  {
   "cell_type": "code",
   "execution_count": 36,
   "metadata": {},
   "outputs": [],
   "source": [
    "scaler = StandardScaler(inputCol=\"NumFeatures\", outputCol=\"ScaledNumFeatures\", withStd=True)\n",
    "scalerModel = scaler.fit(event_data_agg_num)\n",
    "event_data_agg_num = scalerModel.transform(event_data_agg_num)"
   ]
  },
  {
   "cell_type": "code",
   "execution_count": 37,
   "metadata": {},
   "outputs": [
    {
     "data": {
      "text/plain": [
       "225"
      ]
     },
     "execution_count": 37,
     "metadata": {},
     "output_type": "execute_result"
    }
   ],
   "source": [
    "event_data_agg_num.count()"
   ]
  },
  {
   "cell_type": "markdown",
   "metadata": {},
   "source": [
    "### Final Joins"
   ]
  },
  {
   "cell_type": "code",
   "execution_count": 38,
   "metadata": {},
   "outputs": [],
   "source": [
    "event_data_agg_final = event_data_agg_cat.join(event_data_agg_num, ['userId']).join(event_data.select(\"userId\", \"churn\").distinct(), [\"userId\"])"
   ]
  },
  {
   "cell_type": "code",
   "execution_count": 39,
   "metadata": {},
   "outputs": [],
   "source": [
    "features = event_data_agg_final.drop('userId', 'gender', 'genderIndexed', 'Cancel', 'Cancellation Confirmation', 'NumFeatures', 'ScaledNumFeatures', 'churn')"
   ]
  },
  {
   "cell_type": "code",
   "execution_count": 40,
   "metadata": {},
   "outputs": [],
   "source": [
    "event_data_final = event_data_agg_final.select(col(\"churn\").alias(\"label\"), col(\"ScaledNumFeatures\"), col(\"genderFeature\"))\n",
    "\n",
    "assembler2 = VectorAssembler(inputCols=['genderFeature', 'ScaledNumFeatures'], outputCol='all_features')\n",
    "event_data_final = assembler2.transform(event_data_final)\n",
    "event_data_final = event_data_final.select(event_data_final.label, event_data_final.all_features.alias('features'))"
   ]
  },
  {
   "cell_type": "code",
   "execution_count": 41,
   "metadata": {},
   "outputs": [
    {
     "data": {
      "text/plain": [
       "225"
      ]
     },
     "execution_count": 41,
     "metadata": {},
     "output_type": "execute_result"
    }
   ],
   "source": [
    "event_data_final.count()"
   ]
  },
  {
   "cell_type": "markdown",
   "metadata": {},
   "source": [
    "# Modeling\n",
    "Split the full dataset into train, test, and validation sets. Test out several of the machine learning methods you learned. Evaluate the accuracy of the various models, tuning parameters as necessary. Determine your winning model based on test accuracy and report results on the validation set. Since the churned users are a fairly small subset, I suggest using F1 score as the metric to optimize."
   ]
  },
  {
   "cell_type": "code",
   "execution_count": 65,
   "metadata": {},
   "outputs": [],
   "source": [
    "rest, validation = event_data_final.randomSplit([0.8, 0.2], seed=42)"
   ]
  },
  {
   "cell_type": "markdown",
   "metadata": {},
   "source": [
    "### First model: Logistic Regression"
   ]
  },
  {
   "cell_type": "code",
   "execution_count": 66,
   "metadata": {},
   "outputs": [],
   "source": [
    "# Defining ML model and pipeline step\n",
    "lr = LogisticRegression(maxIter=10, regParam=0.0, elasticNetParam=0)\n",
    "\n",
    "pipeline = Pipeline(stages=[lr])"
   ]
  },
  {
   "cell_type": "code",
   "execution_count": 67,
   "metadata": {},
   "outputs": [],
   "source": [
    "# Defining hyper-parameters tuning\n",
    "paramGrid = ParamGridBuilder() \\\n",
    "    .addGrid(lr.regParam,[0.0, 0.1,]) \\\n",
    "    .addGrid(lr.elasticNetParam,[0.0, 0.5, 1.0]) \\\n",
    "    .build()"
   ]
  },
  {
   "cell_type": "code",
   "execution_count": 68,
   "metadata": {},
   "outputs": [],
   "source": [
    "# Defining evalutation metrics\n",
    "evaluator = MulticlassClassificationEvaluator(metricName=\"f1\")"
   ]
  },
  {
   "cell_type": "code",
   "execution_count": 69,
   "metadata": {},
   "outputs": [],
   "source": [
    "# ML pipeline initialization with Cross Validation\n",
    "crossval = CrossValidator(estimator=pipeline,\n",
    "                          estimatorParamMaps=paramGrid,\n",
    "                          evaluator=evaluator,\n",
    "                          numFolds=3)"
   ]
  },
  {
   "cell_type": "code",
   "execution_count": 70,
   "metadata": {},
   "outputs": [],
   "source": [
    "# Model fitting\n",
    "cvModel_lr = crossval.fit(rest)"
   ]
  },
  {
   "cell_type": "code",
   "execution_count": 71,
   "metadata": {},
   "outputs": [],
   "source": [
    "# Model testing\n",
    "results = cvModel_lr.transform(validation)\n",
    "results_rest = cvModel_lr.transform(rest)"
   ]
  },
  {
   "cell_type": "code",
   "execution_count": 72,
   "metadata": {},
   "outputs": [
    {
     "name": "stdout",
     "output_type": "stream",
     "text": [
      "Precision or Recall could not be computed: division by zero\n"
     ]
    }
   ],
   "source": [
    "# Evaluation 1:\n",
    "# 1.1: check counts of correct predictions on testing\n",
    "try: \n",
    "    precision = ((results.filter((results.label == results.prediction) & (results.label == 1.0)).count())/((results.filter((results.label == results.prediction) & (results.label == 1.0)).count())+(results.filter((results.prediction == 1.0) & (results.label == 0.0)).count())))\n",
    "    recall = ((results.filter((results.label == results.prediction) & (results.label == 1.0)).count())/((results.filter((results.label == results.prediction) & (results.label == 1.0)).count())+(results.filter((results.prediction == 0.0) & (results.label == 1.0)).count())))\n",
    "    f1 = 2 * ((precision*recall)/(precision+recall))\n",
    "\n",
    "    print(\"Total count: %s\" % (results.count()))\n",
    "    print(\"Accuracy: %s\" % ((results.filter(results.label == results.prediction).count())/results.count()))\n",
    "    print(\"Precision: %s\" % (precision))\n",
    "    print(\"Recall: %s\" % (recall))\n",
    "    print(\"F1-score: %s\" % (f1))\n",
    "except ZeroDivisionError:\n",
    "    print(\"Precision or Recall could not be computed: division by zero\")"
   ]
  },
  {
   "cell_type": "code",
   "execution_count": 117,
   "metadata": {},
   "outputs": [
    {
     "name": "stdout",
     "output_type": "stream",
     "text": [
      "Total count: 34\n",
      "Accuracy: 0.7058823529411765\n",
      "Precision: 0\n",
      "Recall: 0\n",
      "F1-score: 0\n"
     ]
    }
   ],
   "source": [
    "print(\"Total count: %s\" % (results.count()))\n",
    "print(\"Accuracy: %s\" % ((results.filter(results.label == results.prediction).count())/results.count()))\n",
    "print(\"Precision: 0\")\n",
    "print(\"Recall: 0\")\n",
    "print(\"F1-score: 0\")"
   ]
  },
  {
   "cell_type": "code",
   "execution_count": 73,
   "metadata": {},
   "outputs": [
    {
     "name": "stdout",
     "output_type": "stream",
     "text": [
      "Precision or Recall could not be computed: division by zero\n"
     ]
    }
   ],
   "source": [
    "# 1.2: check counts of correct predictions on training \n",
    "try:\n",
    "    precision = ((results_rest.filter((results_rest.label == results_rest.prediction) & (results_rest.label == 1.0)).count())/((results_rest.filter((results_rest.label == results_rest.prediction) & (results_rest.label == 1.0)).count())+(results_rest.filter((results_rest.prediction == 1.0) & (results_rest.label == 0.0)).count())))\n",
    "    recall = ((results_rest.filter((results_rest.label == results_rest.prediction) & (results_rest.label == 1.0)).count())/((results_rest.filter((results_rest.label == results_rest.prediction) & (results_rest.label == 1.0)).count())+(results_rest.filter((results_rest.prediction == 0.0) & (results_rest.label == 1.0)).count())))\n",
    "    f1 = 2 * ((precision*recall)/(precision+recall))\n",
    "\n",
    "    print(\"Total count_rest: %s\" % (results_rest.count()))\n",
    "    print(\"Accuracy_rest: %s\" % ((results_rest.filter(results_rest.label == results_rest.prediction).count())/results_rest.count()))\n",
    "    print(\"Precision_rest: %s\" % (precision))\n",
    "    print(\"Recall_rest: %s\" % (recall))\n",
    "    print(\"F1-score_rest: %s\" % (f1))\n",
    "except ZeroDivisionError:\n",
    "    print(\"Precision or Recall could not be computed: division by zero\")"
   ]
  },
  {
   "cell_type": "code",
   "execution_count": 74,
   "metadata": {},
   "outputs": [
    {
     "data": {
      "text/plain": [
       "0.5841784989858012"
      ]
     },
     "execution_count": 74,
     "metadata": {},
     "output_type": "execute_result"
    }
   ],
   "source": [
    "# Evaluation 2: using f1 to evaluate model\n",
    "evaluator.evaluate(results)"
   ]
  },
  {
   "cell_type": "code",
   "execution_count": 75,
   "metadata": {},
   "outputs": [
    {
     "name": "stdout",
     "output_type": "stream",
     "text": [
      "+-----+--------------------+--------------------+--------------------+----------+\n",
      "|label|            features|       rawPrediction|         probability|prediction|\n",
      "+-----+--------------------+--------------------+--------------------+----------+\n",
      "|    0|[1.0,0.9616499582...|[1.14589793409766...|[0.75876086045273...|       0.0|\n",
      "|    0|[1.0,0.0,0.048586...|[0.95363130722544...|[0.72184487653589...|       0.0|\n",
      "|    0|[1.0,0.6410999721...|[1.18621210311993...|[0.76606291750400...|       0.0|\n",
      "|    1|[1.0,0.3205499860...|[0.96580866154012...|[0.72428328734541...|       0.0|\n",
      "|    0|(21,[0,3,7,8,9,10...|[0.89656169418908...|[0.71024241756563...|       0.0|\n",
      "|    0|(21,[2,7,9,10,16,...|[1.14337936734534...|[0.75829955450710...|       0.0|\n",
      "|    1|[0.0,0.3205499860...|[0.81353323446816...|[0.69286190366246...|       0.0|\n",
      "|    0|[1.0,3.8465998329...|[2.61994623212367...|[0.93213430514927...|       0.0|\n",
      "|    1|[1.0,0.0,0.145760...|[0.83083028006615...|[0.69653045955120...|       0.0|\n",
      "|    0|[0.0,1.6027499304...|[1.70074381284277...|[0.84563185618247...|       0.0|\n",
      "|    0|[0.0,2.2438499025...|[2.31937929076175...|[0.91046935649994...|       0.0|\n",
      "|    0|[1.0,0.9616499582...|[1.41987385825289...|[0.80531864060040...|       0.0|\n",
      "|    0|[1.0,0.3205499860...|[0.65253345375495...|[0.65758114337735...|       0.0|\n",
      "|    0|[0.0,8.0137496520...|[4.95611843353784...|[0.99300901606141...|       0.0|\n",
      "|    0|[0.0,0.0,0.680215...|[1.03442701420779...|[0.73777326424359...|       0.0|\n",
      "|    1|[0.0,1.2821999443...|[1.62899500997487...|[0.83603191870252...|       0.0|\n",
      "|    0|[1.0,0.0,0.971736...|[0.64459850361873...|[0.65579221758723...|       0.0|\n",
      "|    1|(21,[0,7,9,10,12,...|[0.87899199297609...|[0.70661329373350...|       0.0|\n",
      "|    1|[0.0,0.0,0.048586...|[1.14205022551947...|[0.75805586398486...|       0.0|\n",
      "|    1|[1.0,0.0,0.388694...|[0.86215678631514...|[0.70311107176756...|       0.0|\n",
      "|    1|[1.0,0.3205499860...|[0.93430371194008...|[0.71794759905551...|       0.0|\n",
      "|    0|[0.0,1.6027499304...|[1.78823016125537...|[0.85671015202150...|       0.0|\n",
      "|    1|[0.0,0.0,1.409017...|[1.26763951960669...|[0.78033840482884...|       0.0|\n",
      "|    0|[1.0,0.0,0.0,0.06...|[0.88718725193116...|[0.70830937923861...|       0.0|\n",
      "|    0|[0.0,2.8849498747...|[2.27249985751628...|[0.90657373549651...|       0.0|\n",
      "|    0|[1.0,1.9232999164...|[1.52569243538864...|[0.82137519167548...|       0.0|\n",
      "|    1|[1.0,0.6410999721...|[0.99752403640859...|[0.73057149623424...|       0.0|\n",
      "|    0|[1.0,0.9616499582...|[1.60610855819664...|[0.83287040970460...|       0.0|\n",
      "|    0|[0.0,0.3205499860...|[1.27392627179814...|[0.78141412000041...|       0.0|\n",
      "|    0|[1.0,0.0,0.291520...|[0.83955050400372...|[0.69837053850591...|       0.0|\n",
      "|    0|[1.0,0.6410999721...|[1.28339210413022...|[0.78302663435214...|       0.0|\n",
      "|    0|[0.0,0.3205499860...|[1.17603818346866...|[0.76423471102532...|       0.0|\n",
      "|    0|(21,[2,3,4,7,8,9,...|[1.09970509238926...|[0.75020484471356...|       0.0|\n",
      "|    0|[1.0,0.3205499860...|[1.04819135357188...|[0.74042743820793...|       0.0|\n",
      "+-----+--------------------+--------------------+--------------------+----------+\n",
      "\n"
     ]
    }
   ],
   "source": [
    "results.show(86)"
   ]
  },
  {
   "cell_type": "code",
   "execution_count": 76,
   "metadata": {},
   "outputs": [
    {
     "name": "stdout",
     "output_type": "stream",
     "text": [
      "+-----+--------------------+--------------------+--------------------+----------+\n",
      "|label|            features|       rawPrediction|         probability|prediction|\n",
      "+-----+--------------------+--------------------+--------------------+----------+\n",
      "|    0|[0.0,0.3205499860...|[1.05073199923591...|[0.74091543835142...|       0.0|\n",
      "|    1|(21,[0,9,10,18,19...|[0.90407397827721...|[0.71178598637890...|       0.0|\n",
      "|    0|[0.0,2.2438499025...|[2.44660141719536...|[0.92031256352982...|       0.0|\n",
      "|    1|[1.0,0.6410999721...|[0.99634043669908...|[0.73033845670225...|       0.0|\n",
      "|    1|[0.0,1.6027499304...|[1.52593881288996...|[0.82141133682417...|       0.0|\n",
      "|    0|[0.0,0.6410999721...|[1.66015110132598...|[0.84025828556866...|       0.0|\n",
      "|    0|(21,[2,3,6,7,8,9,...|[1.12555870041125...|[0.75501834197293...|       0.0|\n",
      "|    0|[0.0,1.2821999443...|[1.85809300065258...|[0.86507451686870...|       0.0|\n",
      "|    1|[1.0,0.0,0.291520...|[0.88327135648356...|[0.70749966757332...|       0.0|\n",
      "|    0|[0.0,2.2438499025...|[2.01682411877402...|[0.88255221670159...|       0.0|\n",
      "|    1|[1.0,0.6410999721...|[1.31084650821613...|[0.78765477285757...|       0.0|\n",
      "|    0|[0.0,0.9616499582...|[2.35158798134258...|[0.91306036603126...|       0.0|\n",
      "|    0|[1.0,2.5643998886...|[1.67675373033167...|[0.84247419284601...|       0.0|\n",
      "|    0|[0.0,0.9616499582...|[1.92791017555714...|[0.87301792744409...|       0.0|\n",
      "|    1|[1.0,0.3205499860...|[1.17268200504323...|[0.76362945855676...|       0.0|\n",
      "|    1|[1.0,0.6410999721...|[1.08152330024697...|[0.74678214551124...|       0.0|\n",
      "|    0|[0.0,1.9232999164...|[2.50597226959457...|[0.92455943916555...|       0.0|\n",
      "|    0|[1.0,0.3205499860...|[0.90875058897607...|[0.71274442658721...|       0.0|\n",
      "|    1|[0.0,0.3205499860...|[1.33295024540616...|[0.79132822124137...|       0.0|\n",
      "|    1|[1.0,0.3205499860...|[1.03198432243896...|[0.73730041723138...|       0.0|\n",
      "|    0|(21,[0,2,3,6,7,8,...|[0.94377124504373...|[0.71986080152256...|       0.0|\n",
      "|    0|[0.0,0.0,0.388694...|[1.18277415342576...|[0.76544623726131...|       0.0|\n",
      "|    0|[0.0,0.3205499860...|[1.65745661575263...|[0.83989628846359...|       0.0|\n",
      "|    0|[1.0,0.9616499582...|[1.30603108487836...|[0.78684825490576...|       0.0|\n",
      "|    0|(21,[0,2,3,7,8,9,...|[0.89876964930515...|[0.71069659957204...|       0.0|\n",
      "|    0|[1.0,0.0,0.777388...|[1.49239057997453...|[0.81643681445896...|       0.0|\n",
      "|    0|[1.0,0.3205499860...|[1.04910340977556...|[0.74060269208560...|       0.0|\n",
      "|    0|[1.0,0.3205499860...|[0.97876928442413...|[0.72686394722605...|       0.0|\n",
      "|    0|[0.0,0.3205499860...|[1.46986077530127...|[0.81303622364136...|       0.0|\n",
      "|    0|[1.0,0.9616499582...|[1.50248887080486...|[0.81794538908215...|       0.0|\n",
      "|    1|[0.0,0.9616499582...|[1.36885142695759...|[0.79719452092963...|       0.0|\n",
      "|    0|[1.0,0.0,0.777388...|[0.91480948672982...|[0.71398332343180...|       0.0|\n",
      "|    0|[1.0,1.9232999164...|[1.85061114830585...|[0.86419884283450...|       0.0|\n",
      "|    0|[0.0,0.3205499860...|[1.20906919000108...|[0.77013421150638...|       0.0|\n",
      "|    0|[0.0,1.2821999443...|[1.59036201870583...|[0.83066703046499...|       0.0|\n",
      "|    0|[0.0,1.6027499304...|[2.31866503769229...|[0.91041111715506...|       0.0|\n",
      "|    0|[0.0,0.6410999721...|[1.84087339543514...|[0.86305196962134...|       0.0|\n",
      "|    0|[1.0,0.3205499860...|[1.13627608811908...|[0.75699526838518...|       0.0|\n",
      "|    0|[1.0,0.0,0.388694...|[0.94450448091244...|[0.72000864292811...|       0.0|\n",
      "|    0|[1.0,0.9616499582...|[1.45047205345924...|[0.81007107283937...|       0.0|\n",
      "|    0|[0.0,0.6410999721...|[1.37858034040994...|[0.79876289991628...|       0.0|\n",
      "|    0|[0.0,0.9616499582...|[1.51138489375051...|[0.81926635734550...|       0.0|\n",
      "|    0|[1.0,0.0,0.0,0.09...|[0.82564070203552...|[0.69543239098817...|       0.0|\n",
      "|    1|[0.0,0.3205499860...|[1.22253680069465...|[0.77250967108867...|       0.0|\n",
      "|    0|[0.0,0.0,0.097173...|[1.04054595818165...|[0.73895533534592...|       0.0|\n",
      "|    0|[1.0,0.3205499860...|[0.99902106806699...|[0.73086606540083...|       0.0|\n",
      "|    0|[1.0,0.3205499860...|[1.07027494205017...|[0.74464919868658...|       0.0|\n",
      "|    0|[0.0,0.6410999721...|[1.79953214710424...|[0.85809197413176...|       0.0|\n",
      "|    0|[0.0,0.9616499582...|[1.72704646651283...|[0.84903424094211...|       0.0|\n",
      "|    0|[0.0,0.0,0.145760...|[1.04503604451466...|[0.73982054479794...|       0.0|\n",
      "|    1|[1.0,0.0,0.194347...|[0.82384480042844...|[0.69505187447773...|       0.0|\n",
      "|    0|[1.0,0.0,0.145760...|[0.88357223182587...|[0.70756192799897...|       0.0|\n",
      "|    1|(21,[2,3,7,8,9,10...|[1.11147889747645...|[0.75240472082606...|       0.0|\n",
      "|    1|[1.0,0.3205499860...|[1.01707827254249...|[0.73440309179981...|       0.0|\n",
      "|    1|[1.0,0.6410999721...|[1.35436926636540...|[0.79484303182607...|       0.0|\n",
      "|    0|[1.0,0.0,0.340107...|[0.85329467865503...|[0.70125781948381...|       0.0|\n",
      "|    0|[1.0,0.3205499860...|[1.49553796938501...|[0.81690803690161...|       0.0|\n",
      "|    0|[0.0,0.9616499582...|[1.66461212887666...|[0.84085615536590...|       0.0|\n",
      "|    0|[0.0,2.8849498747...|[3.34608201341277...|[0.96597630178363...|       0.0|\n",
      "|    0|[1.0,1.6027499304...|[2.11333118223859...|[0.89219216288109...|       0.0|\n",
      "|    0|[1.0,2.2438499025...|[1.72829710444163...|[0.84919447161795...|       0.0|\n",
      "|    1|[0.0,0.6410999721...|[1.16104951206618...|[0.76152336434826...|       0.0|\n",
      "|    0|[1.0,0.0,0.291520...|[0.86503743069664...|[0.70371204241207...|       0.0|\n",
      "|    1|[0.0,0.0,0.825975...|[1.08551083779106...|[0.74753544088847...|       0.0|\n",
      "|    0|(21,[2,5,6,7,8,9,...|[1.25856279399904...|[0.77877860155844...|       0.0|\n",
      "|    0|[0.0,0.9616499582...|[1.34643562830620...|[0.79354628609769...|       0.0|\n",
      "|    0|[0.0,0.6410999721...|[1.43566690509528...|[0.80778274988488...|       0.0|\n",
      "|    0|[1.0,0.0,0.728802...|[0.92624933511791...|[0.71631373775957...|       0.0|\n",
      "|    1|[0.0,0.3205499860...|[1.64662204668865...|[0.83843398759436...|       0.0|\n",
      "|    0|[0.0,0.0,0.097173...|[1.05554965381718...|[0.74183916022598...|       0.0|\n",
      "|    0|[1.0,1.2821999443...|[2.16993635932447...|[0.89751711302543...|       0.0|\n",
      "|    0|[0.0,1.9232999164...|[1.91746510546013...|[0.87185549326598...|       0.0|\n",
      "|    0|[1.0,0.6410999721...|[0.99207004445312...|[0.72949660093758...|       0.0|\n",
      "|    0|[0.0,0.6410999721...|[1.37650667076063...|[0.79842937022985...|       0.0|\n",
      "|    0|[1.0,0.6410999721...|[1.27636472980381...|[0.78183033766379...|       0.0|\n",
      "|    1|[1.0,0.3205499860...|[0.93431338550768...|[0.71794955793763...|       0.0|\n",
      "|    0|(21,[0,6,7,8,9,10...|[0.89288428064574...|[0.70948502802950...|       0.0|\n",
      "|    0|(21,[2,7,8,9,10,1...|[1.17486537775979...|[0.76402332939009...|       0.0|\n",
      "|    0|[0.0,0.0,0.923149...|[1.35661605668089...|[0.79520916779941...|       0.0|\n",
      "|    0|[0.0,0.9616499582...|[1.34099748758787...|[0.79265393005115...|       0.0|\n",
      "|    0|[1.0,0.9616499582...|[1.52172668313154...|[0.82079260274787...|       0.0|\n",
      "|    0|(21,[2,3,7,8,9,12...|[1.09768024161775...|[0.74982520046036...|       0.0|\n",
      "|    0|[0.0,0.6410999721...|[1.20798411442442...|[0.76994206697951...|       0.0|\n",
      "|    0|[0.0,1.9232999164...|[2.48325136930664...|[0.92295930602653...|       0.0|\n",
      "|    0|[0.0,0.3205499860...|[1.14046628426612...|[0.75776523906963...|       0.0|\n",
      "|    0|[0.0,0.9616499582...|[1.48329347293189...|[0.81506952503224...|       0.0|\n",
      "|    0|[1.0,0.9616499582...|[1.40542142475812...|[0.80304277759715...|       0.0|\n",
      "|    1|[1.0,0.0,0.437281...|[0.78149463170088...|[0.68600215185681...|       0.0|\n",
      "|    0|[1.0,0.0,0.0,0.03...|[0.95477298922663...|[0.72207405091677...|       0.0|\n",
      "|    0|[1.0,0.3205499860...|[1.08005216445702...|[0.74650385484993...|       0.0|\n",
      "|    0|[0.0,2.8849498747...|[1.87198567855028...|[0.86668786987493...|       0.0|\n",
      "|    0|[0.0,0.3205499860...|[1.56752407637827...|[0.82743035927398...|       0.0|\n",
      "|    0|[1.0,0.3205499860...|[1.24127575369606...|[0.77578599959573...|       0.0|\n",
      "|    1|(21,[3,6,7,8,9,10...|[1.09246019591630...|[0.74884470938909...|       0.0|\n",
      "|    0|[0.0,1.2821999443...|[2.09891476056573...|[0.89079765452240...|       0.0|\n",
      "|    0|[1.0,0.6410999721...|[1.02395430127806...|[0.73574213340239...|       0.0|\n",
      "|    0|[0.0,0.6410999721...|[1.33465648609342...|[0.79160982907868...|       0.0|\n",
      "|    0|[1.0,0.0,0.145760...|[0.94381895070535...|[0.71987042180395...|       0.0|\n",
      "|    0|[1.0,0.3205499860...|[1.41263928674423...|[0.80418189471897...|       0.0|\n",
      "|    1|[0.0,0.3205499860...|[1.36173743340391...|[0.79604193106668...|       0.0|\n",
      "+-----+--------------------+--------------------+--------------------+----------+\n",
      "only showing top 100 rows\n",
      "\n"
     ]
    }
   ],
   "source": [
    "results_rest.show(100)"
   ]
  },
  {
   "cell_type": "code",
   "execution_count": 77,
   "metadata": {},
   "outputs": [
    {
     "name": "stdout",
     "output_type": "stream",
     "text": [
      "Best parameters : regParam:0.1, elasticNetParam:0.0\n"
     ]
    }
   ],
   "source": [
    "bestPipeline = cvModel_lr.bestModel\n",
    "\n",
    "print('Best parameters : regParam:{}, elasticNetParam:{}'.\\\n",
    "    format(bestPipeline.stages[0].getOrDefault('regParam'), bestPipeline.stages[0].getOrDefault('elasticNetParam')))"
   ]
  },
  {
   "cell_type": "markdown",
   "metadata": {},
   "source": [
    "#### Fine tuning with areaUnderPR score"
   ]
  },
  {
   "cell_type": "code",
   "execution_count": 85,
   "metadata": {},
   "outputs": [],
   "source": [
    "# Defining ML model and pipeline step\n",
    "lr1 = LogisticRegression(maxIter=10, regParam=0.0, elasticNetParam=0)\n",
    "\n",
    "pipeline = Pipeline(stages=[lr1])\n",
    "\n",
    "# Defining hyper-parameters tuning\n",
    "paramGrid = ParamGridBuilder() \\\n",
    "    .addGrid(lr1.regParam,[0.0, 0.1]) \\\n",
    "    .addGrid(lr1.elasticNetParam,[0.0, 0.5, 1.0]) \\\n",
    "    .build()\n",
    "\n",
    "# Defining evalutation metrics\n",
    "evaluator = BinaryClassificationEvaluator()\\\n",
    "    .setMetricName(\"areaUnderPR\")\n",
    "\n",
    "\n",
    "# ML pipeline initialization with Cross Validation\n",
    "crossval = CrossValidator(estimator=pipeline,\n",
    "                          estimatorParamMaps=paramGrid,\n",
    "                          evaluator=evaluator,\n",
    "                          numFolds=3)\n",
    "\n",
    "# Model fitting\n",
    "cvModel_lr1 = crossval.fit(rest)\n",
    "\n",
    "# Model testing\n",
    "results1 = cvModel_lr1.transform(validation)\n",
    "results_rest1 = cvModel_lr1.transform(rest)"
   ]
  },
  {
   "cell_type": "code",
   "execution_count": 86,
   "metadata": {},
   "outputs": [
    {
     "name": "stdout",
     "output_type": "stream",
     "text": [
      "Precision or Recall could not be computed: division by zero\n"
     ]
    }
   ],
   "source": [
    "# Evaluation 1:\n",
    "# 1.1: check counts of correct predictions on testing\n",
    "try: \n",
    "    precision = ((results1.filter((results1.label == results1.prediction) & (results1.label == 1.0)).count())/((results1.filter((results1.label == results1.prediction) & (results1.label == 1.0)).count())+(results1.filter((results1.prediction == 1.0) & (results1.label == 0.0)).count())))\n",
    "    recall = ((results1.filter((results1.label == results1.prediction) & (results1.label == 1.0)).count())/((results1.filter((results1.label == results1.prediction) & (results1.label == 1.0)).count())+(results1.filter((results1.prediction == 0.0) & (results1.label == 1.0)).count())))\n",
    "    f1 = 2 * ((precision*recall)/(precision+recall))\n",
    "\n",
    "    print(\"Total count: %s\" % (results1.count()))\n",
    "    print(\"Accuracy: %s\" % ((results1.filter(results1.label == results1.prediction).count())/results1.count()))\n",
    "    print(\"Precision: %s\" % (precision))\n",
    "    print(\"Recall: %s\" % (recall))\n",
    "    print(\"F1-score: %s\" % (f1))\n",
    "except ZeroDivisionError:\n",
    "    print(\"Precision or Recall could not be computed: division by zero\")"
   ]
  },
  {
   "cell_type": "code",
   "execution_count": 87,
   "metadata": {},
   "outputs": [
    {
     "name": "stdout",
     "output_type": "stream",
     "text": [
      "Precision or Recall could not be computed: division by zero\n"
     ]
    }
   ],
   "source": [
    "# 1.2: check counts of correct predictions on training \n",
    "try:\n",
    "    precision = ((results_rest1.filter((results_rest1.label == results_rest1.prediction) & (results_rest1.label == 1.0)).count())/((results_rest1.filter((results_rest1.label == results_rest1.prediction) & (results_rest1.label == 1.0)).count())+(results_rest1.filter((results_rest1.prediction == 1.0) & (results_rest1.label == 0.0)).count())))\n",
    "    recall = ((results_rest1.filter((results_rest1.label == results_rest1.prediction) & (results_rest1.label == 1.0)).count())/((results_rest1.filter((results_rest1.label == results_rest1.prediction) & (results_rest1.label == 1.0)).count())+(results_rest1.filter((results_rest1.prediction == 0.0) & (results_rest1.label == 1.0)).count())))\n",
    "    f1 = 2 * ((precision*recall)/(precision+recall))\n",
    "\n",
    "    print(\"Total count_rest: %s\" % (results_rest1.count()))\n",
    "    print(\"Accuracy_rest: %s\" % ((results_rest1.filter(results_rest1.label == results_rest1.prediction).count())/results_rest1.count()))\n",
    "    print(\"Precision_rest: %s\" % (precision))\n",
    "    print(\"Recall_rest: %s\" % (recall))\n",
    "    print(\"F1-score_rest: %s\" % (f1))\n",
    "except ZeroDivisionError:\n",
    "    print(\"Precision or Recall could not be computed: division by zero\")"
   ]
  },
  {
   "cell_type": "code",
   "execution_count": 88,
   "metadata": {},
   "outputs": [
    {
     "data": {
      "text/plain": [
       "0.42320771956801373"
      ]
     },
     "execution_count": 88,
     "metadata": {},
     "output_type": "execute_result"
    }
   ],
   "source": [
    "# Evaluation 2: using f1-score to evaluate model\n",
    "evaluator.evaluate(results)"
   ]
  },
  {
   "cell_type": "code",
   "execution_count": 89,
   "metadata": {},
   "outputs": [
    {
     "name": "stdout",
     "output_type": "stream",
     "text": [
      "+-----+--------------------+--------------------+--------------------+----------+\n",
      "|label|            features|       rawPrediction|         probability|prediction|\n",
      "+-----+--------------------+--------------------+--------------------+----------+\n",
      "|    0|[1.0,0.9616499582...|[1.30359863947279...|[0.78644000518392...|       0.0|\n",
      "|    0|[1.0,0.0,0.048586...|[1.17227155008357...|[0.76355536362162...|       0.0|\n",
      "|    0|[1.0,0.6410999721...|[1.29962178288184...|[0.78577132283951...|       0.0|\n",
      "|    1|[1.0,0.3205499860...|[1.20012771059779...|[0.76854750172526...|       0.0|\n",
      "|    0|(21,[0,3,7,8,9,10...|[1.14839224616030...|[0.75921713163157...|       0.0|\n",
      "|    0|(21,[2,7,9,10,16,...|[1.14839224616030...|[0.75921713163157...|       0.0|\n",
      "|    1|[0.0,0.3205499860...|[1.22400701452107...|[0.77276794070897...|       0.0|\n",
      "|    0|[1.0,3.8465998329...|[1.84085573118009...|[0.86304988181193...|       0.0|\n",
      "|    1|[1.0,0.0,0.145760...|[1.14839224616030...|[0.75921713163157...|       0.0|\n",
      "|    0|[0.0,1.6027499304...|[1.43094887227106...|[0.80704911800421...|       0.0|\n",
      "|    0|[0.0,2.2438499025...|[1.55829910506933...|[0.82610915013661...|       0.0|\n",
      "|    0|[1.0,0.9616499582...|[1.39911585516588...|[0.80204355064066...|       0.0|\n",
      "|    0|[1.0,0.3205499860...|[1.20012771059779...|[0.76854750172526...|       0.0|\n",
      "|    0|[0.0,8.0137496520...|[2.48953746494429...|[0.92340509481671...|       0.0|\n",
      "|    0|[0.0,0.0,0.680215...|[1.14839224616030...|[0.75921713163157...|       0.0|\n",
      "|    1|[0.0,1.2821999443...|[1.37921340783356...|[0.79886464038957...|       0.0|\n",
      "|    0|[1.0,0.0,0.971736...|[1.14839224616030...|[0.75921713163157...|       0.0|\n",
      "|    1|(21,[0,7,9,10,12,...|[1.14839224616030...|[0.75921713163157...|       0.0|\n",
      "|    1|[0.0,0.0,0.048586...|[1.14839224616030...|[0.75921713163157...|       0.0|\n",
      "|    1|[1.0,0.0,0.388694...|[1.17227155008357...|[0.76355536362162...|       0.0|\n",
      "|    1|[1.0,0.3205499860...|[1.20012771059779...|[0.76854750172526...|       0.0|\n",
      "|    0|[0.0,1.6027499304...|[1.43094887227106...|[0.80704911800421...|       0.0|\n",
      "|    1|[0.0,0.0,1.409017...|[1.14839224616030...|[0.75921713163157...|       0.0|\n",
      "|    0|[1.0,0.0,0.0,0.06...|[1.14839224616030...|[0.75921713163157...|       0.0|\n",
      "|    0|[0.0,2.8849498747...|[1.66177003394432...|[0.84047546598224...|       0.0|\n",
      "|    0|[1.0,1.9232999164...|[1.45880503278529...|[0.81134983962398...|       0.0|\n",
      "|    1|[1.0,0.6410999721...|[1.25186317503529...|[0.77762221905021...|       0.0|\n",
      "|    0|[1.0,0.9616499582...|[1.39911585516588...|[0.80204355064066...|       0.0|\n",
      "|    0|[0.0,0.3205499860...|[1.20012771059779...|[0.76854750172526...|       0.0|\n",
      "|    0|[1.0,0.0,0.291520...|[1.17227155008357...|[0.76355536362162...|       0.0|\n",
      "|    0|[1.0,0.6410999721...|[1.29962178288184...|[0.78577132283951...|       0.0|\n",
      "|    0|[0.0,0.3205499860...|[1.20012771059779...|[0.76854750172526...|       0.0|\n",
      "|    0|(21,[2,3,4,7,8,9,...|[1.14839224616030...|[0.75921713163157...|       0.0|\n",
      "|    0|[1.0,0.3205499860...|[1.20012771059779...|[0.76854750172526...|       0.0|\n",
      "+-----+--------------------+--------------------+--------------------+----------+\n",
      "\n"
     ]
    }
   ],
   "source": [
    "results1.show(86)"
   ]
  },
  {
   "cell_type": "code",
   "execution_count": 90,
   "metadata": {},
   "outputs": [
    {
     "name": "stdout",
     "output_type": "stream",
     "text": [
      "+-----+--------------------+--------------------+--------------------+----------+\n",
      "|label|            features|       rawPrediction|         probability|prediction|\n",
      "+-----+--------------------+--------------------+--------------------+----------+\n",
      "|    0|[0.0,0.3205499860...|[1.20012771059779...|[0.76854750172526...|       0.0|\n",
      "|    1|(21,[0,9,10,18,19...|[1.14839224616030...|[0.75921713163157...|       0.0|\n",
      "|    0|[0.0,2.2438499025...|[1.65381632076241...|[0.83940617023526...|       0.0|\n",
      "|    1|[1.0,0.6410999721...|[1.27574247895856...|[0.78172418069047...|       0.0|\n",
      "|    1|[0.0,1.6027499304...|[1.43094887227106...|[0.80704911800421...|       0.0|\n",
      "|    0|[0.0,0.6410999721...|[1.32350108680511...|[0.78976360639138...|       0.0|\n",
      "|    0|(21,[2,3,6,7,8,9,...|[1.14839224616030...|[0.75921713163157...|       0.0|\n",
      "|    0|[0.0,1.2821999443...|[1.42697201568010...|[0.80642908225629...|       0.0|\n",
      "|    1|[1.0,0.0,0.291520...|[1.14839224616030...|[0.75921713163157...|       0.0|\n",
      "|    0|[0.0,2.2438499025...|[1.53441980114606...|[0.82265206378109...|       0.0|\n",
      "|    1|[1.0,0.6410999721...|[1.32350108680511...|[0.78976360639138...|       0.0|\n",
      "|    0|[0.0,0.9616499582...|[1.42299515908915...|[0.80580753348503...|       0.0|\n",
      "|    0|[1.0,2.5643998886...|[1.58615526558355...|[0.83007448807949...|       0.0|\n",
      "|    0|[0.0,0.9616499582...|[1.39911585516588...|[0.80204355064066...|       0.0|\n",
      "|    1|[1.0,0.3205499860...|[1.24788631844434...|[0.77693375833401...|       0.0|\n",
      "|    1|[1.0,0.6410999721...|[1.25186317503529...|[0.77762221905021...|       0.0|\n",
      "|    0|[0.0,1.9232999164...|[1.62596016024819...|[0.83561546938626...|       0.0|\n",
      "|    0|[1.0,0.3205499860...|[1.20012771059779...|[0.76854750172526...|       0.0|\n",
      "|    1|[0.0,0.3205499860...|[1.22400701452107...|[0.77276794070897...|       0.0|\n",
      "|    1|[1.0,0.3205499860...|[1.20012771059779...|[0.76854750172526...|       0.0|\n",
      "|    0|(21,[0,2,3,6,7,8,...|[1.14839224616030...|[0.75921713163157...|       0.0|\n",
      "|    0|[0.0,0.0,0.388694...|[1.17227155008357...|[0.76355536362162...|       0.0|\n",
      "|    0|[0.0,0.3205499860...|[1.27176562236761...|[0.78104484352251...|       0.0|\n",
      "|    0|[1.0,0.9616499582...|[1.32747794339606...|[0.79042315104319...|       0.0|\n",
      "|    0|(21,[0,2,3,7,8,9,...|[1.14839224616030...|[0.75921713163157...|       0.0|\n",
      "|    0|[1.0,0.0,0.777388...|[1.24390946185338...|[0.77624377950872...|       0.0|\n",
      "|    0|[1.0,0.3205499860...|[1.22400701452107...|[0.77276794070897...|       0.0|\n",
      "|    0|[1.0,0.3205499860...|[1.22400701452107...|[0.77276794070897...|       0.0|\n",
      "|    0|[0.0,0.3205499860...|[1.24788631844434...|[0.77693375833401...|       0.0|\n",
      "|    0|[1.0,0.9616499582...|[1.35135724731933...|[0.79435143294554...|       0.0|\n",
      "|    1|[0.0,0.9616499582...|[1.32747794339606...|[0.79042315104319...|       0.0|\n",
      "|    0|[1.0,0.0,0.777388...|[1.14839224616030...|[0.75921713163157...|       0.0|\n",
      "|    0|[1.0,1.9232999164...|[1.50656364063183...|[0.81855138009715...|       0.0|\n",
      "|    0|[0.0,0.3205499860...|[1.20012771059779...|[0.76854750172526...|       0.0|\n",
      "|    0|[0.0,1.2821999443...|[1.35533410391029...|[0.79500032079888...|       0.0|\n",
      "|    0|[0.0,1.6027499304...|[1.47870748011760...|[0.81437727383278...|       0.0|\n",
      "|    0|[0.0,0.6410999721...|[1.32350108680511...|[0.78976360639138...|       0.0|\n",
      "|    0|[1.0,0.3205499860...|[1.22400701452107...|[0.77276794070897...|       0.0|\n",
      "|    0|[1.0,0.0,0.388694...|[1.14839224616030...|[0.75921713163157...|       0.0|\n",
      "|    0|[1.0,0.9616499582...|[1.37523655124261...|[0.79822487982493...|       0.0|\n",
      "|    0|[0.0,0.6410999721...|[1.25186317503529...|[0.77762221905021...|       0.0|\n",
      "|    0|[0.0,0.9616499582...|[1.30359863947279...|[0.78644000518392...|       0.0|\n",
      "|    0|[1.0,0.0,0.0,0.09...|[1.14839224616030...|[0.75921713163157...|       0.0|\n",
      "|    1|[0.0,0.3205499860...|[1.22400701452107...|[0.77276794070897...|       0.0|\n",
      "|    0|[0.0,0.0,0.097173...|[1.14839224616030...|[0.75921713163157...|       0.0|\n",
      "|    0|[1.0,0.3205499860...|[1.20012771059779...|[0.76854750172526...|       0.0|\n",
      "|    0|[1.0,0.3205499860...|[1.20012771059779...|[0.76854750172526...|       0.0|\n",
      "|    0|[0.0,0.6410999721...|[1.27574247895856...|[0.78172418069047...|       0.0|\n",
      "|    0|[0.0,0.9616499582...|[1.35135724731933...|[0.79435143294554...|       0.0|\n",
      "|    0|[0.0,0.0,0.145760...|[1.14839224616030...|[0.75921713163157...|       0.0|\n",
      "|    1|[1.0,0.0,0.194347...|[1.14839224616030...|[0.75921713163157...|       0.0|\n",
      "|    0|[1.0,0.0,0.145760...|[1.14839224616030...|[0.75921713163157...|       0.0|\n",
      "|    1|(21,[2,3,7,8,9,10...|[1.14839224616030...|[0.75921713163157...|       0.0|\n",
      "|    1|[1.0,0.3205499860...|[1.20012771059779...|[0.76854750172526...|       0.0|\n",
      "|    1|[1.0,0.6410999721...|[1.29962178288184...|[0.78577132283951...|       0.0|\n",
      "|    0|[1.0,0.0,0.340107...|[1.14839224616030...|[0.75921713163157...|       0.0|\n",
      "|    0|[1.0,0.3205499860...|[1.24788631844434...|[0.77693375833401...|       0.0|\n",
      "|    0|[0.0,0.9616499582...|[1.32747794339606...|[0.79042315104319...|       0.0|\n",
      "|    0|[0.0,2.8849498747...|[1.78116655356068...|[0.85584085187757...|       0.0|\n",
      "|    0|[1.0,1.6027499304...|[1.50258678404087...|[0.81795996895966...|       0.0|\n",
      "|    0|[1.0,2.2438499025...|[1.55829910506933...|[0.82610915013661...|       0.0|\n",
      "|    1|[0.0,0.6410999721...|[1.25186317503529...|[0.77762221905021...|       0.0|\n",
      "|    0|[1.0,0.0,0.291520...|[1.14839224616030...|[0.75921713163157...|       0.0|\n",
      "|    1|[0.0,0.0,0.825975...|[1.14839224616030...|[0.75921713163157...|       0.0|\n",
      "|    0|(21,[2,5,6,7,8,9,...|[1.17227155008357...|[0.76355536362162...|       0.0|\n",
      "|    0|[0.0,0.9616499582...|[1.30359863947279...|[0.78644000518392...|       0.0|\n",
      "|    0|[0.0,0.6410999721...|[1.25186317503529...|[0.77762221905021...|       0.0|\n",
      "|    0|[1.0,0.0,0.728802...|[1.14839224616030...|[0.75921713163157...|       0.0|\n",
      "|    1|[0.0,0.3205499860...|[1.27176562236761...|[0.78104484352251...|       0.0|\n",
      "|    0|[0.0,0.0,0.097173...|[1.14839224616030...|[0.75921713163157...|       0.0|\n",
      "|    0|[1.0,1.2821999443...|[1.45085131960338...|[0.81012941832252...|       0.0|\n",
      "|    0|[0.0,1.9232999164...|[1.45880503278529...|[0.81134983962398...|       0.0|\n",
      "|    0|[1.0,0.6410999721...|[1.25186317503529...|[0.77762221905021...|       0.0|\n",
      "|    0|[0.0,0.6410999721...|[1.29962178288184...|[0.78577132283951...|       0.0|\n",
      "|    0|[1.0,0.6410999721...|[1.25186317503529...|[0.77762221905021...|       0.0|\n",
      "|    1|[1.0,0.3205499860...|[1.20012771059779...|[0.76854750172526...|       0.0|\n",
      "|    0|(21,[0,6,7,8,9,10...|[1.14839224616030...|[0.75921713163157...|       0.0|\n",
      "|    0|(21,[2,7,8,9,10,1...|[1.14839224616030...|[0.75921713163157...|       0.0|\n",
      "|    0|[0.0,0.0,0.923149...|[1.19615085400684...|[0.76783933419760...|       0.0|\n",
      "|    0|[0.0,0.9616499582...|[1.32747794339606...|[0.79042315104319...|       0.0|\n",
      "|    0|[1.0,0.9616499582...|[1.35135724731933...|[0.79435143294554...|       0.0|\n",
      "|    0|(21,[2,3,7,8,9,12...|[1.14839224616030...|[0.75921713163157...|       0.0|\n",
      "|    0|[0.0,0.6410999721...|[1.25186317503529...|[0.77762221905021...|       0.0|\n",
      "|    0|[0.0,1.9232999164...|[1.53044294455510...|[0.82207111304471...|       0.0|\n",
      "|    0|[0.0,0.3205499860...|[1.20012771059779...|[0.76854750172526...|       0.0|\n",
      "|    0|[0.0,0.9616499582...|[1.32747794339606...|[0.79042315104319...|       0.0|\n",
      "|    0|[1.0,0.9616499582...|[1.35135724731933...|[0.79435143294554...|       0.0|\n",
      "|    1|[1.0,0.0,0.437281...|[1.17227155008357...|[0.76355536362162...|       0.0|\n",
      "|    0|[1.0,0.0,0.0,0.03...|[1.17227155008357...|[0.76355536362162...|       0.0|\n",
      "|    0|[1.0,0.3205499860...|[1.22400701452107...|[0.77276794070897...|       0.0|\n",
      "|    0|[0.0,2.8849498747...|[1.68564933786759...|[0.84365114824354...|       0.0|\n",
      "|    0|[0.0,0.3205499860...|[1.24788631844434...|[0.77693375833401...|       0.0|\n",
      "|    0|[1.0,0.3205499860...|[1.22400701452107...|[0.77276794070897...|       0.0|\n",
      "|    1|(21,[3,6,7,8,9,10...|[1.14839224616030...|[0.75921713163157...|       0.0|\n",
      "|    0|[0.0,1.2821999443...|[1.47473062352665...|[0.81377535288375...|       0.0|\n",
      "|    0|[1.0,0.6410999721...|[1.25186317503529...|[0.77762221905021...|       0.0|\n",
      "|    0|[0.0,0.6410999721...|[1.25186317503529...|[0.77762221905021...|       0.0|\n",
      "|    0|[1.0,0.0,0.145760...|[1.14839224616030...|[0.75921713163157...|       0.0|\n",
      "|    0|[1.0,0.3205499860...|[1.27176562236761...|[0.78104484352251...|       0.0|\n",
      "|    1|[0.0,0.3205499860...|[1.20012771059779...|[0.76854750172526...|       0.0|\n",
      "+-----+--------------------+--------------------+--------------------+----------+\n",
      "only showing top 100 rows\n",
      "\n"
     ]
    }
   ],
   "source": [
    "results_rest1.show(100)"
   ]
  },
  {
   "cell_type": "code",
   "execution_count": 91,
   "metadata": {},
   "outputs": [
    {
     "name": "stdout",
     "output_type": "stream",
     "text": [
      "Best parameters : regParam:0.1, elasticNetParam:0.0\n"
     ]
    }
   ],
   "source": [
    "bestPipeline = cvModel_lr.bestModel\n",
    "\n",
    "print('Best parameters : regParam:{}, elasticNetParam:{}'.\\\n",
    "    format(bestPipeline.stages[0].getOrDefault('regParam'), bestPipeline.stages[0].getOrDefault('elasticNetParam')))"
   ]
  },
  {
   "cell_type": "markdown",
   "metadata": {},
   "source": [
    "### Second model: Random Forest"
   ]
  },
  {
   "cell_type": "code",
   "execution_count": 92,
   "metadata": {},
   "outputs": [],
   "source": [
    "# Defining ML model and pipeline step\n",
    "rf = RandomForestClassifier(numTrees=10, maxDepth=5)\n",
    "\n",
    "pipeline = Pipeline(stages=[rf])"
   ]
  },
  {
   "cell_type": "code",
   "execution_count": 93,
   "metadata": {},
   "outputs": [],
   "source": [
    "# Defining hyper-parameters tuning\n",
    "paramGrid = ParamGridBuilder() \\\n",
    "    .addGrid(rf.numTrees,[10, 50]) \\\n",
    "    .addGrid(rf.maxDepth,[5, 15]) \\\n",
    "    .build()"
   ]
  },
  {
   "cell_type": "code",
   "execution_count": 94,
   "metadata": {},
   "outputs": [],
   "source": [
    "# Defining evalutation metrics\n",
    "evaluator = BinaryClassificationEvaluator()\\\n",
    "    .setMetricName(\"areaUnderPR\")"
   ]
  },
  {
   "cell_type": "code",
   "execution_count": 95,
   "metadata": {},
   "outputs": [],
   "source": [
    "# ML pipeline initialization with Cross Validation\n",
    "crossval = CrossValidator(estimator=pipeline,\n",
    "                          estimatorParamMaps=paramGrid,\n",
    "                          evaluator=evaluator,\n",
    "                          numFolds=3)"
   ]
  },
  {
   "cell_type": "code",
   "execution_count": 96,
   "metadata": {},
   "outputs": [],
   "source": [
    "# Model fitting\n",
    "cvModel_rf = crossval.fit(rest)"
   ]
  },
  {
   "cell_type": "code",
   "execution_count": 97,
   "metadata": {},
   "outputs": [],
   "source": [
    "# Model testing\n",
    "results_rf = cvModel_rf.transform(validation)\n",
    "results_rf_rest = cvModel_rf.transform(rest)"
   ]
  },
  {
   "cell_type": "code",
   "execution_count": 98,
   "metadata": {},
   "outputs": [
    {
     "name": "stdout",
     "output_type": "stream",
     "text": [
      "Precision or Recall could not be computed: division by zero\n"
     ]
    }
   ],
   "source": [
    "# Evaluation 1:\n",
    "# 1.1: check counts of correct predictions on testing \n",
    "try:\n",
    "    precision = ((results_rf.filter((results_rf.label == results_rf.prediction) & (results_rf.label == 1.0)).count())/((results_rf.filter((results_rf.label == results_rf.prediction) & (results_rf.label == 1.0)).count())+(results_rf.filter((results_rf.prediction == 1.0) & (results_rf.label == 0.0)).count())))\n",
    "    recall = ((results_rf.filter((results_rf.label == results_rf.prediction) & (results_rf.label == 1.0)).count())/((results_rf.filter((results_rf.label == results_rf.prediction) & (results_rf.label == 1.0)).count())+(results_rf.filter((results_rf.prediction == 0.0) & (results_rf.label == 1.0)).count())))\n",
    "    f1 = 2 * ((precision*recall)/(precision+recall))\n",
    "\n",
    "    print(\"Total count: %s\" % (results_rf.count()))\n",
    "    print(\"Accuracy: %s\" % ((results_rf.filter(results_rf.label == results_rf.prediction).count())/results_rf.count()))\n",
    "    print(\"Precision: %s\" % (precision))\n",
    "    print(\"Recall: %s\" % (recall))\n",
    "    print(\"F1-score: %s\" % (f1))\n",
    "except ZeroDivisionError:\n",
    "    print(\"Precision or Recall could not be computed: division by zero\")"
   ]
  },
  {
   "cell_type": "code",
   "execution_count": 99,
   "metadata": {},
   "outputs": [
    {
     "name": "stdout",
     "output_type": "stream",
     "text": [
      "Total count_rest: 191\n",
      "Accuracy_rest: 0.8586387434554974\n",
      "Precision_rest: 1.0\n",
      "Recall_rest: 0.35714285714285715\n",
      "F1-score_rest: 0.5263157894736842\n"
     ]
    }
   ],
   "source": [
    "# 1.2: check counts of correct predictions on training \n",
    "try:\n",
    "    precision = ((results_rf_rest.filter((results_rf_rest.label == results_rf_rest.prediction) & (results_rf_rest.label == 1.0)).count())/((results_rf_rest.filter((results_rf_rest.label == results_rf_rest.prediction) & (results_rf_rest.label == 1.0)).count())+(results_rf_rest.filter((results_rf_rest.prediction == 1.0) & (results_rf_rest.label == 0.0)).count())))\n",
    "    recall = ((results_rf_rest.filter((results_rf_rest.label == results_rf_rest.prediction) & (results_rf_rest.label == 1.0)).count())/((results_rf_rest.filter((results_rf_rest.label == results_rf_rest.prediction) & (results_rf_rest.label == 1.0)).count())+(results_rf_rest.filter((results_rf_rest.prediction == 0.0) & (results_rf_rest.label == 1.0)).count())))\n",
    "    f1 = 2 * ((precision*recall)/(precision+recall))\n",
    "\n",
    "    print(\"Total count_rest: %s\" % (results_rf_rest.count()))\n",
    "    print(\"Accuracy_rest: %s\" % ((results_rf_rest.filter(results_rf_rest.label == results_rf_rest.prediction).count())/results_rf_rest.count()))\n",
    "    print(\"Precision_rest: %s\" % (precision))\n",
    "    print(\"Recall_rest: %s\" % (recall))\n",
    "    print(\"F1-score_rest: %s\" % (f1))\n",
    "except ZeroDivisionError:\n",
    "    print(\"Precision or Recall could not be computed: division by zero\")"
   ]
  },
  {
   "cell_type": "code",
   "execution_count": 100,
   "metadata": {},
   "outputs": [
    {
     "data": {
      "text/plain": [
       "0.4393879962001779"
      ]
     },
     "execution_count": 100,
     "metadata": {},
     "output_type": "execute_result"
    }
   ],
   "source": [
    "# Evaluation 2: using areaUnderPR to evaluate model\n",
    "evaluator.evaluate(results_rf)"
   ]
  },
  {
   "cell_type": "code",
   "execution_count": 101,
   "metadata": {},
   "outputs": [
    {
     "name": "stdout",
     "output_type": "stream",
     "text": [
      "+-----+--------------------+--------------------+--------------------+----------+\n",
      "|label|            features|       rawPrediction|         probability|prediction|\n",
      "+-----+--------------------+--------------------+--------------------+----------+\n",
      "|    0|[1.0,0.9616499582...|[7.43741137873156...|[0.74374113787315...|       0.0|\n",
      "|    0|[1.0,0.0,0.048586...|[7.92128473686520...|[0.79212847368652...|       0.0|\n",
      "|    0|[1.0,0.6410999721...|[9.32265179078491...|[0.93226517907849...|       0.0|\n",
      "|    1|[1.0,0.3205499860...|[8.01206575661174...|[0.80120657566117...|       0.0|\n",
      "|    0|(21,[0,3,7,8,9,10...|[6.30295208332085...|[0.63029520833208...|       0.0|\n",
      "|    0|(21,[2,7,9,10,16,...|[8.69698326275458...|[0.86969832627545...|       0.0|\n",
      "|    1|[0.0,0.3205499860...|[5.39285714285714...|[0.53928571428571...|       0.0|\n",
      "|    0|[1.0,3.8465998329...|[8.72941500091692...|[0.87294150009169...|       0.0|\n",
      "|    1|[1.0,0.0,0.145760...|[8.74945011154221...|[0.87494501115422...|       0.0|\n",
      "|    0|[0.0,1.6027499304...|[9.29078365891678...|[0.92907836589167...|       0.0|\n",
      "|    0|[0.0,2.2438499025...|[9.61941173187475...|[0.96194117318747...|       0.0|\n",
      "|    0|[1.0,0.9616499582...|[9.20560547710740...|[0.92056054771074...|       0.0|\n",
      "|    0|[1.0,0.3205499860...|[6.83432871476349...|[0.68343287147634...|       0.0|\n",
      "|    0|[0.0,8.0137496520...|[7.79332477535301...|[0.77933247753530...|       0.0|\n",
      "|    0|[0.0,0.0,0.680215...|[7.21894409937888...|[0.72189440993788...|       0.0|\n",
      "|    1|[0.0,1.2821999443...|[8.25882505175983...|[0.82588250517598...|       0.0|\n",
      "|    0|[1.0,0.0,0.971736...|[6.83432871476349...|[0.68343287147634...|       0.0|\n",
      "|    1|(21,[0,7,9,10,12,...|[6.68528735632183...|[0.66852873563218...|       0.0|\n",
      "|    1|[0.0,0.0,0.048586...|[6.65299385441525...|[0.66529938544152...|       0.0|\n",
      "|    1|[1.0,0.0,0.388694...|[5.58767528490618...|[0.55876752849061...|       0.0|\n",
      "|    1|[1.0,0.3205499860...|[5.90490606752982...|[0.59049060675298...|       0.0|\n",
      "|    0|[0.0,1.6027499304...|[9.05691173187475...|[0.90569117318747...|       0.0|\n",
      "|    1|[0.0,0.0,1.409017...|[9.39872090254108...|[0.93987209025410...|       0.0|\n",
      "|    0|[1.0,0.0,0.0,0.06...|[4.73194122283631...|[0.47319412228363...|       1.0|\n",
      "|    0|[0.0,2.8849498747...|[9.29078365891678...|[0.92907836589167...|       0.0|\n",
      "|    0|[1.0,1.9232999164...|[8.87027083840396...|[0.88702708384039...|       0.0|\n",
      "|    1|[1.0,0.6410999721...|[5.11596790890269...|[0.51159679089026...|       0.0|\n",
      "|    0|[1.0,0.9616499582...|[9.91752577319587...|[0.99175257731958...|       0.0|\n",
      "|    0|[0.0,0.3205499860...|[8.31623242327841...|[0.83162324232784...|       0.0|\n",
      "|    0|[1.0,0.0,0.291520...|[4.37990606752983...|[0.43799060675298...|       1.0|\n",
      "|    0|[1.0,0.6410999721...|[8.53755913419033...|[0.85375591341903...|       0.0|\n",
      "|    0|[0.0,0.3205499860...|[7.77136448168179...|[0.77713644816817...|       0.0|\n",
      "|    0|(21,[2,3,4,7,8,9,...|[7.88350695908743...|[0.78835069590874...|       0.0|\n",
      "|    0|[1.0,0.3205499860...|[7.11596790890269...|[0.71159679089026...|       0.0|\n",
      "+-----+--------------------+--------------------+--------------------+----------+\n",
      "\n"
     ]
    }
   ],
   "source": [
    "results_rf.show(86)"
   ]
  },
  {
   "cell_type": "code",
   "execution_count": 102,
   "metadata": {},
   "outputs": [
    {
     "name": "stdout",
     "output_type": "stream",
     "text": [
      "+-----+--------------------+--------------------+--------------------+----------+\n",
      "|label|            features|       rawPrediction|         probability|prediction|\n",
      "+-----+--------------------+--------------------+--------------------+----------+\n",
      "|    0|[0.0,0.3205499860...|[7.81586212822332...|[0.78158621282233...|       0.0|\n",
      "|    1|(21,[0,9,10,18,19...|[5.68528735632183...|[0.56852873563218...|       0.0|\n",
      "|    0|[0.0,2.2438499025...|[9.95121951219512...|[0.99512195121951...|       0.0|\n",
      "|    1|[1.0,0.6410999721...|[4.97218415828904...|[0.49721841582890...|       1.0|\n",
      "|    1|[0.0,1.6027499304...|[5.46919243362914...|[0.54691924336291...|       0.0|\n",
      "|    0|[0.0,0.6410999721...|[8.37683848388447...|[0.83768384838844...|       0.0|\n",
      "|    0|(21,[2,3,6,7,8,9,...|[6.57564443404011...|[0.65756444340401...|       0.0|\n",
      "|    0|[0.0,1.2821999443...|[9.71085054854889...|[0.97108505485488...|       0.0|\n",
      "|    1|[1.0,0.0,0.291520...|[7.70056122265332...|[0.77005612226533...|       0.0|\n",
      "|    0|[0.0,2.2438499025...|[8.86264416276792...|[0.88626441627679...|       0.0|\n",
      "|    1|[1.0,0.6410999721...|[3.98895434462444...|[0.39889543446244...|       1.0|\n",
      "|    0|[0.0,0.9616499582...|[8.20560547710740...|[0.82056054771074...|       0.0|\n",
      "|    0|[1.0,2.5643998886...|[8.87027083840396...|[0.88702708384039...|       0.0|\n",
      "|    0|[0.0,0.9616499582...|[9.41682932052574...|[0.94168293205257...|       0.0|\n",
      "|    1|[1.0,0.3205499860...|[5.86874674360794...|[0.58687467436079...|       0.0|\n",
      "|    1|[1.0,0.6410999721...|[4.19332477535301...|[0.41933247753530...|       1.0|\n",
      "|    0|[0.0,1.9232999164...|[9.20560547710740...|[0.92056054771074...|       0.0|\n",
      "|    0|[1.0,0.3205499860...|[8.83192433834633...|[0.88319243383463...|       0.0|\n",
      "|    1|[0.0,0.3205499860...|[5.58650027433208...|[0.55865002743320...|       0.0|\n",
      "|    1|[1.0,0.3205499860...|[7.20800436123016...|[0.72080043612301...|       0.0|\n",
      "|    0|(21,[0,2,3,6,7,8,...|[7.77439231179902...|[0.77743923117990...|       0.0|\n",
      "|    0|[0.0,0.0,0.388694...|[7.28016369902999...|[0.72801636990299...|       0.0|\n",
      "|    0|[0.0,0.3205499860...|[9.49656483426317...|[0.94965648342631...|       0.0|\n",
      "|    0|[1.0,0.9616499582...|[8.10844911191021...|[0.81084491119102...|       0.0|\n",
      "|    0|(21,[0,2,3,7,8,9,...|[7.55733804823313...|[0.75573380482331...|       0.0|\n",
      "|    0|[1.0,0.0,0.777388...|[8.25932696314714...|[0.82593269631471...|       0.0|\n",
      "|    0|[1.0,0.3205499860...|[8.41206575661174...|[0.84120657566117...|       0.0|\n",
      "|    0|[1.0,0.3205499860...|[9.0002357378595,...|[0.90002357378595...|       0.0|\n",
      "|    0|[0.0,0.3205499860...|[9.10056122265332...|[0.91005612226533...|       0.0|\n",
      "|    0|[1.0,0.9616499582...|[9.58571799287550...|[0.95857179928755...|       0.0|\n",
      "|    1|[0.0,0.9616499582...|[5.03633372729482...|[0.50363337272948...|       0.0|\n",
      "|    0|[1.0,0.0,0.777388...|[9.28541391966888...|[0.92854139196688...|       0.0|\n",
      "|    0|[1.0,1.9232999164...|[9.69835910029580...|[0.96983591002958...|       0.0|\n",
      "|    0|[0.0,0.3205499860...|[9.41206575661174...|[0.94120657566117...|       0.0|\n",
      "|    0|[0.0,1.2821999443...|[7.94563823857302...|[0.79456382385730...|       0.0|\n",
      "|    0|[0.0,1.6027499304...|[9.28712406015037...|[0.92871240601503...|       0.0|\n",
      "|    0|[0.0,0.6410999721...|[8.83252480924754...|[0.88325248092475...|       0.0|\n",
      "|    0|[1.0,0.3205499860...|[8.89578668684430...|[0.88957866868443...|       0.0|\n",
      "|    0|[1.0,0.0,0.388694...|[8.29578668684430...|[0.82957866868443...|       0.0|\n",
      "|    0|[1.0,0.9616499582...|[8.23358166758359...|[0.82335816675835...|       0.0|\n",
      "|    0|[0.0,0.6410999721...|[9.10056122265332...|[0.91005612226533...|       0.0|\n",
      "|    0|[0.0,0.9616499582...|[9.34157804539822...|[0.93415780453982...|       0.0|\n",
      "|    0|[1.0,0.0,0.0,0.09...|[7.08270633209038...|[0.70827063320903...|       0.0|\n",
      "|    1|[0.0,0.3205499860...|[2.41452145214521...|[0.24145214521452...|       1.0|\n",
      "|    0|[0.0,0.0,0.097173...|[9.06095464550063...|[0.90609546455006...|       0.0|\n",
      "|    0|[1.0,0.3205499860...|[8.74945011154221...|[0.87494501115422...|       0.0|\n",
      "|    0|[1.0,0.3205499860...|[8.39995335351097...|[0.83999533535109...|       0.0|\n",
      "|    0|[0.0,0.6410999721...|[8.65861176576928...|[0.86586117657692...|       0.0|\n",
      "|    0|[0.0,0.9616499582...|[9.39408036221348...|[0.93940803622134...|       0.0|\n",
      "|    0|[0.0,0.0,0.145760...|[8.74945011154221...|[0.87494501115422...|       0.0|\n",
      "|    1|[1.0,0.0,0.194347...|[2.43601932871881...|[0.24360193287188...|       1.0|\n",
      "|    0|[1.0,0.0,0.145760...|[8.74945011154221...|[0.87494501115422...|       0.0|\n",
      "|    1|(21,[2,3,7,8,9,10...|[7.77439231179902...|[0.77743923117990...|       0.0|\n",
      "|    1|[1.0,0.3205499860...|[7.29578668684430...|[0.72957866868443...|       0.0|\n",
      "|    1|[1.0,0.6410999721...|[7.45861176576928...|[0.74586117657692...|       0.0|\n",
      "|    0|[1.0,0.0,0.340107...|[8.26942433834633...|[0.82694243383463...|       0.0|\n",
      "|    0|[1.0,0.3205499860...|[7.34952054048163...|[0.73495205404816...|       0.0|\n",
      "|    0|[0.0,0.9616499582...|[8.60218410600428...|[0.86021841060042...|       0.0|\n",
      "|    0|[0.0,2.8849498747...|[8.95121951219512...|[0.89512195121951...|       0.0|\n",
      "|    0|[1.0,1.6027499304...|[8.87697740414943...|[0.88769774041494...|       0.0|\n",
      "|    0|[1.0,2.2438499025...|[7.46919243362914...|[0.74691924336291...|       0.0|\n",
      "|    1|[0.0,0.6410999721...|[6.37813884433526...|[0.63781388443352...|       0.0|\n",
      "|    0|[1.0,0.0,0.291520...|[8.94303544945744...|[0.89430354494574...|       0.0|\n",
      "|    1|[0.0,0.0,0.825975...|[5.79249379631397...|[0.57924937963139...|       0.0|\n",
      "|    0|(21,[2,5,6,7,8,9,...|[8.66589067981208...|[0.86658906798120...|       0.0|\n",
      "|    0|[0.0,0.9616499582...|[9.49969963395459...|[0.94996996339545...|       0.0|\n",
      "|    0|[0.0,0.6410999721...|[9.06095464550063...|[0.90609546455006...|       0.0|\n",
      "|    0|[1.0,0.0,0.728802...|[9.51623242327841...|[0.95162324232784...|       0.0|\n",
      "|    1|[0.0,0.3205499860...|[6.83252480924754...|[0.68325248092475...|       0.0|\n",
      "|    0|[0.0,0.0,0.097173...|[9.10572918130965...|[0.91057291813096...|       0.0|\n",
      "|    0|[1.0,1.2821999443...|[9.78979791696994...|[0.97897979169699...|       0.0|\n",
      "|    0|[0.0,1.9232999164...|[7.52099598719240...|[0.75209959871924...|       0.0|\n",
      "|    0|[1.0,0.6410999721...|[9.29455423587441...|[0.92945542358744...|       0.0|\n",
      "|    0|[0.0,0.6410999721...|[7.99300195743866...|[0.79930019574386...|       0.0|\n",
      "|    0|[1.0,0.6410999721...|[9.28541391966888...|[0.92854139196688...|       0.0|\n",
      "|    1|[1.0,0.3205499860...|[3.44657273419649...|[0.34465727341964...|       1.0|\n",
      "|    0|(21,[0,6,7,8,9,10...|[8.41150471489980...|[0.84115047148998...|       0.0|\n",
      "|    0|(21,[2,7,8,9,10,1...|[8.88294494337797...|[0.88829449433779...|       0.0|\n",
      "|    0|[0.0,0.0,0.923149...|[8.11596790890269...|[0.81159679089026...|       0.0|\n",
      "|    0|[0.0,0.9616499582...|[7.93456740953043...|[0.79345674095304...|       0.0|\n",
      "|    0|[1.0,0.9616499582...|[8.26813557529309...|[0.82681355752930...|       0.0|\n",
      "|    0|(21,[2,3,7,8,9,12...|[7.98912265220906...|[0.79891226522090...|       0.0|\n",
      "|    0|[0.0,0.6410999721...|[8.42088790141920...|[0.84208879014192...|       0.0|\n",
      "|    0|[0.0,1.9232999164...|[9.75963103635377...|[0.97596310363537...|       0.0|\n",
      "|    0|[0.0,0.3205499860...|[8.52382211711598...|[0.85238221171159...|       0.0|\n",
      "|    0|[0.0,0.9616499582...|[9.20587789728828...|[0.92058778972882...|       0.0|\n",
      "|    0|[1.0,0.9616499582...|[9.14792651605964...|[0.91479265160596...|       0.0|\n",
      "|    1|[1.0,0.0,0.437281...|[1.56538461538461...|[0.15653846153846...|       1.0|\n",
      "|    0|[1.0,0.0,0.0,0.03...|[7.08270633209038...|[0.70827063320903...|       0.0|\n",
      "|    0|[1.0,0.3205499860...|[7.43124674360794...|[0.74312467436079...|       0.0|\n",
      "|    0|[0.0,2.8849498747...|[9.46469670239504...|[0.94646967023950...|       0.0|\n",
      "|    0|[0.0,0.3205499860...|[9.39872090254108...|[0.93987209025410...|       0.0|\n",
      "|    0|[1.0,0.3205499860...|[9.41206575661174...|[0.94120657566117...|       0.0|\n",
      "|    1|(21,[3,6,7,8,9,10...|[6.63628541665418...|[0.66362854166541...|       0.0|\n",
      "|    0|[0.0,1.2821999443...|[9.42374698472259...|[0.94237469847225...|       0.0|\n",
      "|    0|[1.0,0.6410999721...|[7.98502581337538...|[0.79850258133753...|       0.0|\n",
      "|    0|[0.0,0.6410999721...|[7.25753336099445...|[0.72575333609944...|       0.0|\n",
      "|    0|[1.0,0.0,0.145760...|[7.38438503554387...|[0.73843850355438...|       0.0|\n",
      "|    0|[1.0,0.3205499860...|[8.29919147591421...|[0.82991914759142...|       0.0|\n",
      "|    1|[0.0,0.3205499860...|[6.20422580085700...|[0.62042258008570...|       0.0|\n",
      "+-----+--------------------+--------------------+--------------------+----------+\n",
      "only showing top 100 rows\n",
      "\n"
     ]
    }
   ],
   "source": [
    "results_rf_rest.show(100)"
   ]
  },
  {
   "cell_type": "code",
   "execution_count": 103,
   "metadata": {},
   "outputs": [
    {
     "name": "stdout",
     "output_type": "stream",
     "text": [
      "genderFeature: 0.005891984373041866 \n",
      "\n",
      "About: 0.03298279591792657 \n",
      "\n",
      "Add Friend: 0.10949949122111165 \n",
      "\n",
      "Add to Playlist: 0.04290457154739157 \n",
      "\n",
      "Downgrade: 0.06196571318444825 \n",
      "\n",
      "Error: 0.01695374164933957 \n",
      "\n",
      "Help: 0.034116790507908196 \n",
      "\n",
      "Home: 0.014342053309556105 \n",
      "\n",
      "Logout: 0.08983096149448451 \n",
      "\n",
      "NextSong: 0.03762060724319913 \n",
      "\n",
      "Roll Advert: 0.10586312530847267 \n",
      "\n",
      "Save Settings: 0.01711108606651059 \n",
      "\n",
      "Settings: 0.0453504815955646 \n",
      "\n",
      "Submit Downgrade: 0.006798338490791188 \n",
      "\n",
      "Submit Upgrade: 0.008094649479487435 \n",
      "\n",
      "Thumbs Down: 0.10474768397916537 \n",
      "\n",
      "Thumbs Up: 0.04533379855721795 \n",
      "\n",
      "Upgrade: 0.022437911986391487 \n",
      "\n",
      "numSessions: 0.06968965521157068 \n",
      "\n",
      "numSongs: 0.06181174537010849 \n",
      "\n",
      "avgSongs: 0.06665281350631203 \n",
      "\n",
      "Best parameters : max depth:5, num Trees:10\n"
     ]
    }
   ],
   "source": [
    "bestPipeline = cvModel_rf.bestModel\n",
    "\n",
    "# prints feature importances\n",
    "for i in range(len(bestPipeline.stages[0].featureImportances)):\n",
    "    print(\"{}: {} \\n\".format(features.columns[i], bestPipeline.stages[0].featureImportances[i]))\n",
    "print('Best parameters : max depth:{}, num Trees:{}'.\\\n",
    "    format(bestPipeline.stages[0].getOrDefault('maxDepth'), bestPipeline.stages[0].getNumTrees))"
   ]
  },
  {
   "cell_type": "markdown",
   "metadata": {},
   "source": [
    "**Fine tuning with f1-score**"
   ]
  },
  {
   "cell_type": "code",
   "execution_count": 78,
   "metadata": {},
   "outputs": [],
   "source": [
    "# Defining ML model and pipeline step\n",
    "rf1 = RandomForestClassifier(numTrees=50, maxDepth=15)\n",
    "\n",
    "pipeline = Pipeline(stages=[rf1])\n",
    "\n",
    "# Defining hyper-parameters tuning\n",
    "paramGrid = ParamGridBuilder() \\\n",
    "    .addGrid(rf1.numTrees,[20, 50]) \\\n",
    "    .addGrid(rf1.maxDepth,[5, 15]) \\\n",
    "    .build()\n",
    "\n",
    "# Defining evalutation metrics\n",
    "evaluator = MulticlassClassificationEvaluator(metricName=\"f1\")\n",
    "\n",
    "# ML pipeline initialization with Cross Validation\n",
    "crossval = CrossValidator(estimator=pipeline,\n",
    "                          estimatorParamMaps=paramGrid,\n",
    "                          evaluator=evaluator,\n",
    "                          numFolds=3)\n",
    "\n",
    "# Model fitting\n",
    "cvModel_rf1 = crossval.fit(rest)\n",
    "\n",
    "# Model testing\n",
    "results_rf1 = cvModel_rf1.transform(validation)\n",
    "results_rf1_rest = cvModel_rf1.transform(rest)"
   ]
  },
  {
   "cell_type": "code",
   "execution_count": 79,
   "metadata": {},
   "outputs": [
    {
     "name": "stdout",
     "output_type": "stream",
     "text": [
      "Total count: 34\n",
      "Accuracy: 0.7058823529411765\n",
      "Precision: 0.5\n",
      "Recall: 0.2\n",
      "F1-score: 0.28571428571428575\n"
     ]
    }
   ],
   "source": [
    "# Evaluation 1:\n",
    "# 1.1: check counts of correct predictions on testing \n",
    "try:\n",
    "    precision = ((results_rf1.filter((results_rf1.label == results_rf1.prediction) & (results_rf1.label == 1.0)).count())/((results_rf1.filter((results_rf1.label == results_rf1.prediction) & (results_rf1.label == 1.0)).count())+(results_rf1.filter((results_rf1.prediction == 1.0) & (results_rf1.label == 0.0)).count())))\n",
    "    recall = ((results_rf1.filter((results_rf1.label == results_rf1.prediction) & (results_rf1.label == 1.0)).count())/((results_rf1.filter((results_rf1.label == results_rf1.prediction) & (results_rf1.label == 1.0)).count())+(results_rf1.filter((results_rf1.prediction == 0.0) & (results_rf1.label == 1.0)).count())))\n",
    "    f1 = 2 * ((precision*recall)/(precision+recall))\n",
    "\n",
    "    print(\"Total count: %s\" % (results_rf1.count()))\n",
    "    print(\"Accuracy: %s\" % ((results_rf1.filter(results_rf1.label == results_rf1.prediction).count())/results_rf1.count()))\n",
    "    print(\"Precision: %s\" % (precision))\n",
    "    print(\"Recall: %s\" % (recall))\n",
    "    print(\"F1-score: %s\" % (f1))\n",
    "except ZeroDivisionError:\n",
    "    print(\"Precision or Recall could not be computed: division by zero\")"
   ]
  },
  {
   "cell_type": "code",
   "execution_count": 80,
   "metadata": {},
   "outputs": [
    {
     "name": "stdout",
     "output_type": "stream",
     "text": [
      "Total count_rest: 191\n",
      "Accuracy_rest: 0.9947643979057592\n",
      "Precision_rest: 1.0\n",
      "Recall_rest: 0.9761904761904762\n",
      "F1-score_rest: 0.9879518072289156\n"
     ]
    }
   ],
   "source": [
    "# 1.2: check counts of correct predictions on training \n",
    "try:\n",
    "    precision = ((results_rf1_rest.filter((results_rf1_rest.label == results_rf1_rest.prediction) & (results_rf1_rest.label == 1.0)).count())/((results_rf1_rest.filter((results_rf1_rest.label == results_rf1_rest.prediction) & (results_rf1_rest.label == 1.0)).count())+(results_rf1_rest.filter((results_rf1_rest.prediction == 1.0) & (results_rf1_rest.label == 0.0)).count())))\n",
    "    recall = ((results_rf1_rest.filter((results_rf1_rest.label == results_rf1_rest.prediction) & (results_rf1_rest.label == 1.0)).count())/((results_rf1_rest.filter((results_rf1_rest.label == results_rf1_rest.prediction) & (results_rf1_rest.label == 1.0)).count())+(results_rf1_rest.filter((results_rf1_rest.prediction == 0.0) & (results_rf1_rest.label == 1.0)).count())))\n",
    "    f1 = 2 * ((precision*recall)/(precision+recall))\n",
    "\n",
    "    print(\"Total count_rest: %s\" % (results_rf1_rest.count()))\n",
    "    print(\"Accuracy_rest: %s\" % ((results_rf1_rest.filter(results_rf1_rest.label == results_rf1_rest.prediction).count())/results_rf1_rest.count()))\n",
    "    print(\"Precision_rest: %s\" % (precision))\n",
    "    print(\"Recall_rest: %s\" % (recall))\n",
    "    print(\"F1-score_rest: %s\" % (f1))\n",
    "except ZeroDivisionError:\n",
    "    print(\"Precision or Recall could not be computed: division by zero\")"
   ]
  },
  {
   "cell_type": "code",
   "execution_count": 81,
   "metadata": {},
   "outputs": [
    {
     "data": {
      "text/plain": [
       "0.6591970121381886"
      ]
     },
     "execution_count": 81,
     "metadata": {},
     "output_type": "execute_result"
    }
   ],
   "source": [
    "# Evaluation 2: using f1 to evaluate model\n",
    "evaluator.evaluate(results_rf1)"
   ]
  },
  {
   "cell_type": "code",
   "execution_count": 82,
   "metadata": {},
   "outputs": [
    {
     "name": "stdout",
     "output_type": "stream",
     "text": [
      "+-----+--------------------+--------------------+--------------------+----------+\n",
      "|label|            features|       rawPrediction|         probability|prediction|\n",
      "+-----+--------------------+--------------------+--------------------+----------+\n",
      "|    0|[1.0,0.9616499582...|          [42.0,8.0]|         [0.84,0.16]|       0.0|\n",
      "|    0|[1.0,0.0,0.048586...|          [46.0,4.0]|         [0.92,0.08]|       0.0|\n",
      "|    0|[1.0,0.6410999721...|         [37.0,13.0]|         [0.74,0.26]|       0.0|\n",
      "|    1|[1.0,0.3205499860...|          [41.0,9.0]|         [0.82,0.18]|       0.0|\n",
      "|    0|(21,[0,3,7,8,9,10...|[27.0444444444444...|[0.54088888888888...|       0.0|\n",
      "|    0|(21,[2,7,9,10,16,...|[26.0746031746031...|[0.52149206349206...|       0.0|\n",
      "|    1|[0.0,0.3205499860...|         [26.0,24.0]|         [0.52,0.48]|       0.0|\n",
      "|    0|[1.0,3.8465998329...|          [45.0,5.0]|           [0.9,0.1]|       0.0|\n",
      "|    1|[1.0,0.0,0.145760...|          [44.0,6.0]|         [0.88,0.12]|       0.0|\n",
      "|    0|[0.0,1.6027499304...|          [45.0,5.0]|           [0.9,0.1]|       0.0|\n",
      "|    0|[0.0,2.2438499025...|          [47.0,3.0]|         [0.94,0.06]|       0.0|\n",
      "|    0|[1.0,0.9616499582...|          [48.0,2.0]|         [0.96,0.04]|       0.0|\n",
      "|    0|[1.0,0.3205499860...|         [27.0,23.0]|         [0.54,0.46]|       0.0|\n",
      "|    0|[0.0,8.0137496520...|          [43.0,7.0]|         [0.86,0.14]|       0.0|\n",
      "|    0|[0.0,0.0,0.680215...|         [26.0,24.0]|         [0.52,0.48]|       0.0|\n",
      "|    1|[0.0,1.2821999443...|         [31.0,19.0]|         [0.62,0.38]|       0.0|\n",
      "|    0|[1.0,0.0,0.971736...|         [23.0,27.0]|         [0.46,0.54]|       1.0|\n",
      "|    1|(21,[0,7,9,10,12,...|[24.7634920634920...|[0.49526984126984...|       1.0|\n",
      "|    1|[0.0,0.0,0.048586...|         [24.5,25.5]|         [0.49,0.51]|       1.0|\n",
      "|    1|[1.0,0.0,0.388694...|         [35.0,15.0]|           [0.7,0.3]|       0.0|\n",
      "|    1|[1.0,0.3205499860...|         [25.0,25.0]|           [0.5,0.5]|       0.0|\n",
      "|    0|[0.0,1.6027499304...|          [45.0,5.0]|           [0.9,0.1]|       0.0|\n",
      "|    1|[0.0,0.0,1.409017...|          [48.0,2.0]|         [0.96,0.04]|       0.0|\n",
      "|    0|[1.0,0.0,0.0,0.06...|         [19.6,30.4]|       [0.392,0.608]|       1.0|\n",
      "|    0|[0.0,2.8849498747...|          [44.0,6.0]|         [0.88,0.12]|       0.0|\n",
      "|    0|[1.0,1.9232999164...|          [48.0,2.0]|         [0.96,0.04]|       0.0|\n",
      "|    1|[1.0,0.6410999721...|          [44.0,6.0]|         [0.88,0.12]|       0.0|\n",
      "|    0|[1.0,0.9616499582...|         [40.0,10.0]|           [0.8,0.2]|       0.0|\n",
      "|    0|[0.0,0.3205499860...|         [36.0,14.0]|         [0.72,0.28]|       0.0|\n",
      "|    0|[1.0,0.0,0.291520...|         [38.0,12.0]|         [0.76,0.24]|       0.0|\n",
      "|    0|[1.0,0.6410999721...|          [41.0,9.0]|         [0.82,0.18]|       0.0|\n",
      "|    0|[0.0,0.3205499860...|         [39.0,11.0]|         [0.78,0.22]|       0.0|\n",
      "|    0|(21,[2,3,4,7,8,9,...|[39.8888888888888...|[0.79777777777777...|       0.0|\n",
      "|    0|[1.0,0.3205499860...|         [37.0,13.0]|         [0.74,0.26]|       0.0|\n",
      "+-----+--------------------+--------------------+--------------------+----------+\n",
      "\n"
     ]
    }
   ],
   "source": [
    "results_rf1.show(50)"
   ]
  },
  {
   "cell_type": "code",
   "execution_count": 83,
   "metadata": {},
   "outputs": [
    {
     "name": "stdout",
     "output_type": "stream",
     "text": [
      "+-----+--------------------+--------------------+--------------------+----------+\n",
      "|label|            features|       rawPrediction|         probability|prediction|\n",
      "+-----+--------------------+--------------------+--------------------+----------+\n",
      "|    0|[0.0,0.3205499860...|          [45.0,5.0]|           [0.9,0.1]|       0.0|\n",
      "|    1|(21,[0,9,10,18,19...|[25.3468253968253...|[0.50693650793650...|       0.0|\n",
      "|    0|[0.0,2.2438499025...|          [49.0,1.0]|         [0.98,0.02]|       0.0|\n",
      "|    1|[1.0,0.6410999721...|         [15.0,35.0]|           [0.3,0.7]|       1.0|\n",
      "|    1|[0.0,1.6027499304...|         [11.0,39.0]|         [0.22,0.78]|       1.0|\n",
      "|    0|[0.0,0.6410999721...|          [47.0,3.0]|         [0.94,0.06]|       0.0|\n",
      "|    0|(21,[2,3,6,7,8,9,...|[46.8174603174603...|[0.93634920634920...|       0.0|\n",
      "|    0|[0.0,1.2821999443...|          [49.0,1.0]|         [0.98,0.02]|       0.0|\n",
      "|    1|[1.0,0.0,0.291520...|         [19.0,31.0]|         [0.38,0.62]|       1.0|\n",
      "|    0|[0.0,2.2438499025...|         [37.0,13.0]|         [0.74,0.26]|       0.0|\n",
      "|    1|[1.0,0.6410999721...|         [11.0,39.0]|         [0.22,0.78]|       1.0|\n",
      "|    0|[0.0,0.9616499582...|          [47.0,3.0]|         [0.94,0.06]|       0.0|\n",
      "|    0|[1.0,2.5643998886...|          [48.0,2.0]|         [0.96,0.04]|       0.0|\n",
      "|    0|[0.0,0.9616499582...|          [49.0,1.0]|         [0.98,0.02]|       0.0|\n",
      "|    1|[1.0,0.3205499860...|         [21.0,29.0]|         [0.42,0.58]|       1.0|\n",
      "|    1|[1.0,0.6410999721...|         [15.0,35.0]|           [0.3,0.7]|       1.0|\n",
      "|    0|[0.0,1.9232999164...|          [49.0,1.0]|         [0.98,0.02]|       0.0|\n",
      "|    0|[1.0,0.3205499860...|          [44.0,6.0]|         [0.88,0.12]|       0.0|\n",
      "|    1|[0.0,0.3205499860...|         [15.0,35.0]|           [0.3,0.7]|       1.0|\n",
      "|    1|[1.0,0.3205499860...|         [11.0,39.0]|         [0.22,0.78]|       1.0|\n",
      "|    0|(21,[0,2,3,6,7,8,...|[41.2777777777777...|[0.82555555555555...|       0.0|\n",
      "|    0|[0.0,0.0,0.388694...|          [45.0,5.0]|           [0.9,0.1]|       0.0|\n",
      "|    0|[0.0,0.3205499860...|          [47.0,3.0]|         [0.94,0.06]|       0.0|\n",
      "|    0|[1.0,0.9616499582...|          [46.0,4.0]|         [0.92,0.08]|       0.0|\n",
      "|    0|(21,[0,2,3,7,8,9,...|[44.7968253968253...|[0.89593650793650...|       0.0|\n",
      "|    0|[1.0,0.0,0.777388...|          [48.0,2.0]|         [0.96,0.04]|       0.0|\n",
      "|    0|[1.0,0.3205499860...|         [39.0,11.0]|         [0.78,0.22]|       0.0|\n",
      "|    0|[1.0,0.3205499860...|          [45.0,5.0]|           [0.9,0.1]|       0.0|\n",
      "|    0|[0.0,0.3205499860...|          [47.0,3.0]|         [0.94,0.06]|       0.0|\n",
      "|    0|[1.0,0.9616499582...|          [47.0,3.0]|         [0.94,0.06]|       0.0|\n",
      "|    1|[0.0,0.9616499582...|         [16.0,34.0]|         [0.32,0.68]|       1.0|\n",
      "|    0|[1.0,0.0,0.777388...|          [46.0,4.0]|         [0.92,0.08]|       0.0|\n",
      "|    0|[1.0,1.9232999164...|          [46.0,4.0]|         [0.92,0.08]|       0.0|\n",
      "|    0|[0.0,0.3205499860...|          [49.0,1.0]|         [0.98,0.02]|       0.0|\n",
      "|    0|[0.0,1.2821999443...|          [48.0,2.0]|         [0.96,0.04]|       0.0|\n",
      "|    0|[0.0,1.6027499304...|          [44.0,6.0]|         [0.88,0.12]|       0.0|\n",
      "|    0|[0.0,0.6410999721...|          [48.0,2.0]|         [0.96,0.04]|       0.0|\n",
      "|    0|[1.0,0.3205499860...|          [44.0,6.0]|         [0.88,0.12]|       0.0|\n",
      "|    0|[1.0,0.0,0.388694...|          [48.0,2.0]|         [0.96,0.04]|       0.0|\n",
      "|    0|[1.0,0.9616499582...|          [49.0,1.0]|         [0.98,0.02]|       0.0|\n",
      "|    0|[0.0,0.6410999721...|          [48.0,2.0]|         [0.96,0.04]|       0.0|\n",
      "|    0|[0.0,0.9616499582...|          [45.0,5.0]|           [0.9,0.1]|       0.0|\n",
      "|    0|[1.0,0.0,0.0,0.09...|          [42.0,8.0]|         [0.84,0.16]|       0.0|\n",
      "|    1|[0.0,0.3205499860...|         [11.0,39.0]|         [0.22,0.78]|       1.0|\n",
      "|    0|[0.0,0.0,0.097173...|          [49.0,1.0]|         [0.98,0.02]|       0.0|\n",
      "|    0|[1.0,0.3205499860...|          [48.0,2.0]|         [0.96,0.04]|       0.0|\n",
      "|    0|[1.0,0.3205499860...|          [50.0,0.0]|           [1.0,0.0]|       0.0|\n",
      "|    0|[0.0,0.6410999721...|          [46.0,4.0]|         [0.92,0.08]|       0.0|\n",
      "|    0|[0.0,0.9616499582...|          [49.0,1.0]|         [0.98,0.02]|       0.0|\n",
      "|    0|[0.0,0.0,0.145760...|          [48.0,2.0]|         [0.96,0.04]|       0.0|\n",
      "|    1|[1.0,0.0,0.194347...|         [14.0,36.0]|         [0.28,0.72]|       1.0|\n",
      "|    0|[1.0,0.0,0.145760...|          [47.0,3.0]|         [0.94,0.06]|       0.0|\n",
      "|    1|(21,[2,3,7,8,9,10...|         [11.5,38.5]|         [0.23,0.77]|       1.0|\n",
      "|    1|[1.0,0.3205499860...|         [11.0,39.0]|         [0.22,0.78]|       1.0|\n",
      "|    1|[1.0,0.6410999721...|         [14.0,36.0]|         [0.28,0.72]|       1.0|\n",
      "|    0|[1.0,0.0,0.340107...|          [48.0,2.0]|         [0.96,0.04]|       0.0|\n",
      "|    0|[1.0,0.3205499860...|          [47.0,3.0]|         [0.94,0.06]|       0.0|\n",
      "|    0|[0.0,0.9616499582...|          [50.0,0.0]|           [1.0,0.0]|       0.0|\n",
      "|    0|[0.0,2.8849498747...|          [49.0,1.0]|         [0.98,0.02]|       0.0|\n",
      "|    0|[1.0,1.6027499304...|          [48.0,2.0]|         [0.96,0.04]|       0.0|\n",
      "|    0|[1.0,2.2438499025...|          [44.0,6.0]|         [0.88,0.12]|       0.0|\n",
      "|    1|[0.0,0.6410999721...|         [16.0,34.0]|         [0.32,0.68]|       1.0|\n",
      "|    0|[1.0,0.0,0.291520...|          [45.0,5.0]|           [0.9,0.1]|       0.0|\n",
      "|    1|[0.0,0.0,0.825975...|         [18.0,32.0]|         [0.36,0.64]|       1.0|\n",
      "|    0|(21,[2,5,6,7,8,9,...|[47.4634920634920...|[0.94926984126984...|       0.0|\n",
      "|    0|[0.0,0.9616499582...|          [49.0,1.0]|         [0.98,0.02]|       0.0|\n",
      "|    0|[0.0,0.6410999721...|          [45.0,5.0]|           [0.9,0.1]|       0.0|\n",
      "|    0|[1.0,0.0,0.728802...|          [50.0,0.0]|           [1.0,0.0]|       0.0|\n",
      "|    1|[0.0,0.3205499860...|         [17.0,33.0]|         [0.34,0.66]|       1.0|\n",
      "|    0|[0.0,0.0,0.097173...|          [48.0,2.0]|         [0.96,0.04]|       0.0|\n",
      "|    0|[1.0,1.2821999443...|          [50.0,0.0]|           [1.0,0.0]|       0.0|\n",
      "|    0|[0.0,1.9232999164...|          [45.0,5.0]|           [0.9,0.1]|       0.0|\n",
      "|    0|[1.0,0.6410999721...|          [48.0,2.0]|         [0.96,0.04]|       0.0|\n",
      "|    0|[0.0,0.6410999721...|         [40.0,10.0]|           [0.8,0.2]|       0.0|\n",
      "|    0|[1.0,0.6410999721...|          [48.0,2.0]|         [0.96,0.04]|       0.0|\n",
      "|    1|[1.0,0.3205499860...|         [15.0,35.0]|           [0.3,0.7]|       1.0|\n",
      "|    0|(21,[0,6,7,8,9,10...|[43.0634920634920...|[0.86126984126984...|       0.0|\n",
      "|    0|(21,[2,7,8,9,10,1...|[41.6460317460317...|[0.83292063492063...|       0.0|\n",
      "|    0|[0.0,0.0,0.923149...|          [46.0,4.0]|         [0.92,0.08]|       0.0|\n",
      "|    0|[0.0,0.9616499582...|          [46.0,4.0]|         [0.92,0.08]|       0.0|\n",
      "|    0|[1.0,0.9616499582...|          [47.0,3.0]|         [0.94,0.06]|       0.0|\n",
      "|    0|(21,[2,3,7,8,9,12...|[47.7888888888888...|[0.95577777777777...|       0.0|\n",
      "|    0|[0.0,0.6410999721...|          [44.0,6.0]|         [0.88,0.12]|       0.0|\n",
      "|    0|[0.0,1.9232999164...|          [45.0,5.0]|           [0.9,0.1]|       0.0|\n",
      "|    0|[0.0,0.3205499860...|          [45.0,5.0]|           [0.9,0.1]|       0.0|\n",
      "|    0|[0.0,0.9616499582...|          [46.0,4.0]|         [0.92,0.08]|       0.0|\n",
      "|    0|[1.0,0.9616499582...|          [47.0,3.0]|         [0.94,0.06]|       0.0|\n",
      "|    1|[1.0,0.0,0.437281...|          [8.0,42.0]|         [0.16,0.84]|       1.0|\n",
      "|    0|[1.0,0.0,0.0,0.03...|          [48.0,2.0]|         [0.96,0.04]|       0.0|\n",
      "|    0|[1.0,0.3205499860...|          [46.0,4.0]|         [0.92,0.08]|       0.0|\n",
      "|    0|[0.0,2.8849498747...|          [47.0,3.0]|         [0.94,0.06]|       0.0|\n",
      "|    0|[0.0,0.3205499860...|          [48.0,2.0]|         [0.96,0.04]|       0.0|\n",
      "|    0|[1.0,0.3205499860...|          [50.0,0.0]|           [1.0,0.0]|       0.0|\n",
      "|    1|(21,[3,6,7,8,9,10...|[14.0722222222222...|[0.28144444444444...|       1.0|\n",
      "|    0|[0.0,1.2821999443...|          [44.0,6.0]|         [0.88,0.12]|       0.0|\n",
      "|    0|[1.0,0.6410999721...|          [46.0,4.0]|         [0.92,0.08]|       0.0|\n",
      "|    0|[0.0,0.6410999721...|          [45.0,5.0]|           [0.9,0.1]|       0.0|\n",
      "|    0|[1.0,0.0,0.145760...|[45.8888888888888...|[0.91777777777777...|       0.0|\n",
      "|    0|[1.0,0.3205499860...|          [47.0,3.0]|         [0.94,0.06]|       0.0|\n",
      "|    1|[0.0,0.3205499860...|         [16.0,34.0]|         [0.32,0.68]|       1.0|\n",
      "+-----+--------------------+--------------------+--------------------+----------+\n",
      "only showing top 100 rows\n",
      "\n"
     ]
    }
   ],
   "source": [
    "results_rf1_rest.show(100)"
   ]
  },
  {
   "cell_type": "code",
   "execution_count": 84,
   "metadata": {},
   "outputs": [
    {
     "name": "stdout",
     "output_type": "stream",
     "text": [
      "genderFeature: 0.022523395029469356 \n",
      "\n",
      "About: 0.04642331861168476 \n",
      "\n",
      "Add Friend: 0.06579154089783006 \n",
      "\n",
      "Add to Playlist: 0.06658233450879991 \n",
      "\n",
      "Downgrade: 0.030422123046441218 \n",
      "\n",
      "Error: 0.023855240758125163 \n",
      "\n",
      "Help: 0.04141403518322906 \n",
      "\n",
      "Home: 0.0645455631544187 \n",
      "\n",
      "Logout: 0.061821612841367814 \n",
      "\n",
      "NextSong: 0.05032911134441767 \n",
      "\n",
      "Roll Advert: 0.0794023484252931 \n",
      "\n",
      "Save Settings: 0.031108680681897094 \n",
      "\n",
      "Settings: 0.05279540277956669 \n",
      "\n",
      "Submit Downgrade: 0.0038371966161507066 \n",
      "\n",
      "Submit Upgrade: 0.0055983052819695844 \n",
      "\n",
      "Thumbs Down: 0.08404917180667153 \n",
      "\n",
      "Thumbs Up: 0.07668522119587053 \n",
      "\n",
      "Upgrade: 0.0371389973468658 \n",
      "\n",
      "numSessions: 0.04384138796341291 \n",
      "\n",
      "numSongs: 0.048235451494652914 \n",
      "\n",
      "avgSongs: 0.0635995610318656 \n",
      "\n",
      "Best parameters : max depth:15, num Trees:50\n"
     ]
    }
   ],
   "source": [
    "bestPipeline = cvModel_rf1.bestModel\n",
    "\n",
    "# prints feature importances\n",
    "for i in range(len(bestPipeline.stages[0].featureImportances)):\n",
    "    print(\"{}: {} \\n\".format(features.columns[i], bestPipeline.stages[0].featureImportances[i]))\n",
    "print('Best parameters : max depth:{}, num Trees:{}'.\\\n",
    "    format(bestPipeline.stages[0].getOrDefault('maxDepth'), bestPipeline.stages[0].getNumTrees))"
   ]
  },
  {
   "cell_type": "markdown",
   "metadata": {},
   "source": [
    "**validation**"
   ]
  },
  {
   "cell_type": "code",
   "execution_count": 115,
   "metadata": {},
   "outputs": [],
   "source": [
    "# Defining ML model and pipeline step\n",
    "rf1 = RandomForestClassifier(numTrees=50, maxDepth=15)\n",
    "\n",
    "pipeline = Pipeline(stages=[rf1])\n",
    "\n",
    "# Defining hyper-parameters tuning\n",
    "paramGrid = ParamGridBuilder() \\\n",
    "    .addGrid(rf1.numTrees,[20, 50]) \\\n",
    "    .addGrid(rf1.maxDepth,[5, 15]) \\\n",
    "    .build()\n",
    "\n",
    "# Defining evalutation metrics\n",
    "evaluator = MulticlassClassificationEvaluator(metricName=\"f1\")\n",
    "\n",
    "# ML pipeline initialization with Cross Validation\n",
    "crossval = CrossValidator(estimator=pipeline,\n",
    "                          estimatorParamMaps=paramGrid,\n",
    "                          evaluator=evaluator,\n",
    "                          numFolds=3,\n",
    "                          collectSubModels=True)\n",
    "\n",
    "# Model fitting\n",
    "cvModel_rf1 = crossval.fit(rest)\n",
    "\n",
    "# Model testing\n",
    "results_rf1 = cvModel_rf1.transform(validation)\n",
    "results_rf1_rest = cvModel_rf1.transform(rest)"
   ]
  },
  {
   "cell_type": "code",
   "execution_count": 119,
   "metadata": {},
   "outputs": [],
   "source": [
    "subModels = cvModel_rf1.subModels"
   ]
  },
  {
   "cell_type": "code",
   "execution_count": 130,
   "metadata": {},
   "outputs": [
    {
     "data": {
      "text/plain": [
       "[[PipelineModel_0ad5df156177,\n",
       "  PipelineModel_76c97eb4b8ef,\n",
       "  PipelineModel_d996f66b3643,\n",
       "  PipelineModel_c07ef22788e7],\n",
       " [PipelineModel_26b6e1bbf09a,\n",
       "  PipelineModel_a883eb1cdf84,\n",
       "  PipelineModel_070f73068d43,\n",
       "  PipelineModel_3efeaffb9581],\n",
       " [PipelineModel_582f9613c966,\n",
       "  PipelineModel_95d95b47e17e,\n",
       "  PipelineModel_a10f89dd1a26,\n",
       "  PipelineModel_6bbf5334cbbc]]"
      ]
     },
     "execution_count": 130,
     "metadata": {},
     "output_type": "execute_result"
    }
   ],
   "source": [
    "subModels"
   ]
  },
  {
   "cell_type": "code",
   "execution_count": 155,
   "metadata": {},
   "outputs": [],
   "source": [
    "results_rf1_1 = subModels[0][3].stages[0].transform(validation) "
   ]
  },
  {
   "cell_type": "code",
   "execution_count": 167,
   "metadata": {},
   "outputs": [
    {
     "data": {
      "text/plain": [
       "15"
      ]
     },
     "execution_count": 167,
     "metadata": {},
     "output_type": "execute_result"
    }
   ],
   "source": [
    "subModels[0][3].stages[0].getOrDefault('maxDepth')"
   ]
  },
  {
   "cell_type": "code",
   "execution_count": 156,
   "metadata": {},
   "outputs": [
    {
     "name": "stdout",
     "output_type": "stream",
     "text": [
      "Precision or Recall could not be computed: division by zero\n"
     ]
    }
   ],
   "source": [
    "# Evaluation 1:\n",
    "# 1.1: check counts of correct predictions on testing \n",
    "try:\n",
    "    precision = ((results_rf1_1.filter((results_rf1_1.label == results_rf1_1.prediction) & (results_rf1_1.label == 1.0)).count())/((results_rf1_1.filter((results_rf1_1.label == results_rf1_1.prediction) & (results_rf1_1.label == 1.0)).count())+(results_rf1_1.filter((results_rf1_1.prediction == 1.0) & (results_rf1_1.label == 0.0)).count())))\n",
    "    recall = ((results_rf1_1.filter((results_rf1_1.label == results_rf1_1.prediction) & (results_rf1_1.label == 1.0)).count())/((results_rf1_1.filter((results_rf1_1.label == results_rf1_1.prediction) & (results_rf1_1.label == 1.0)).count())+(results_rf1_1.filter((results_rf1_1.prediction == 0.0) & (results_rf1_1.label == 1.0)).count())))\n",
    "    f1 = 2 * ((precision*recall)/(precision+recall))\n",
    "\n",
    "    print(\"Total count: %s\" % (results_rf1_1.count()))\n",
    "    print(\"Accuracy: %s\" % ((results_rf1_1.filter(results_rf1_1.label == results_rf1_1.prediction).count())/results_rf1_1.count()))\n",
    "    print(\"Precision: %s\" % (precision))\n",
    "    print(\"Recall: %s\" % (recall))\n",
    "    print(\"F1-score: %s\" % (f1))\n",
    "except ZeroDivisionError:\n",
    "    print(\"Precision or Recall could not be computed: division by zero\")"
   ]
  },
  {
   "cell_type": "code",
   "execution_count": 164,
   "metadata": {},
   "outputs": [],
   "source": [
    "results_rf1_2 = subModels[1][3].stages[0].transform(validation) "
   ]
  },
  {
   "cell_type": "code",
   "execution_count": 166,
   "metadata": {},
   "outputs": [
    {
     "data": {
      "text/plain": [
       "15"
      ]
     },
     "execution_count": 166,
     "metadata": {},
     "output_type": "execute_result"
    }
   ],
   "source": [
    "subModels[1][3].stages[0].getOrDefault('maxDepth')"
   ]
  },
  {
   "cell_type": "code",
   "execution_count": 168,
   "metadata": {},
   "outputs": [
    {
     "name": "stdout",
     "output_type": "stream",
     "text": [
      "Precision or Recall could not be computed: division by zero\n"
     ]
    }
   ],
   "source": [
    "# Evaluation 1:\n",
    "# 1.1: check counts of correct predictions on testing \n",
    "try:\n",
    "    precision = ((results_rf1_2.filter((results_rf1_2.label == results_rf1_2.prediction) & (results_rf1_2.label == 1.0)).count())/((results_rf1_2.filter((results_rf1_2.label == results_rf1_2.prediction) & (results_rf1_2.label == 1.0)).count())+(results_rf1_2.filter((results_rf1_2.prediction == 1.0) & (results_rf1_2.label == 0.0)).count())))\n",
    "    recall = ((results_rf1_2.filter((results_rf1_2.label == results_rf1_2.prediction) & (results_rf1_2.label == 1.0)).count())/((results_rf1_2.filter((results_rf1_2.label == results_rf1_2.prediction) & (results_rf1_2.label == 1.0)).count())+(results_rf1_2.filter((results_rf1_2.prediction == 0.0) & (results_rf1_2.label == 1.0)).count())))\n",
    "    f1 = 2 * ((precision*recall)/(precision+recall))\n",
    "\n",
    "    print(\"Total count: %s\" % (results_rf1_2.count()))\n",
    "    print(\"Accuracy: %s\" % ((results_rf1_2.filter(results_rf1_2.label == results_rf1_2.prediction).count())/results_rf1_2.count()))\n",
    "    print(\"Precision: %s\" % (precision))\n",
    "    print(\"Recall: %s\" % (recall))\n",
    "    print(\"F1-score: %s\" % (f1))\n",
    "except ZeroDivisionError:\n",
    "    print(\"Precision or Recall could not be computed: division by zero\")"
   ]
  },
  {
   "cell_type": "code",
   "execution_count": 161,
   "metadata": {},
   "outputs": [],
   "source": [
    "results_rf1_3 = subModels[2][3].stages[0].transform(validation) "
   ]
  },
  {
   "cell_type": "code",
   "execution_count": 162,
   "metadata": {},
   "outputs": [
    {
     "name": "stdout",
     "output_type": "stream",
     "text": [
      "Total count: 34\n",
      "Accuracy: 0.6764705882352942\n",
      "Precision: 0.4\n",
      "Recall: 0.2\n",
      "F1-score: 0.26666666666666666\n"
     ]
    }
   ],
   "source": [
    "# Evaluation 1:\n",
    "# 1.1: check counts of correct predictions on testing \n",
    "try:\n",
    "    precision = ((results_rf1_3.filter((results_rf1_3.label == results_rf1_3.prediction) & (results_rf1_3.label == 1.0)).count())/((results_rf1_3.filter((results_rf1_3.label == results_rf1_3.prediction) & (results_rf1_3.label == 1.0)).count())+(results_rf1_3.filter((results_rf1_3.prediction == 1.0) & (results_rf1_3.label == 0.0)).count())))\n",
    "    recall = ((results_rf1_3.filter((results_rf1_3.label == results_rf1_3.prediction) & (results_rf1_3.label == 1.0)).count())/((results_rf1_3.filter((results_rf1_3.label == results_rf1_3.prediction) & (results_rf1_3.label == 1.0)).count())+(results_rf1_3.filter((results_rf1_3.prediction == 0.0) & (results_rf1_3.label == 1.0)).count())))\n",
    "    f1 = 2 * ((precision*recall)/(precision+recall))\n",
    "\n",
    "    print(\"Total count: %s\" % (results_rf1_3.count()))\n",
    "    print(\"Accuracy: %s\" % ((results_rf1_3.filter(results_rf1_3.label == results_rf1_3.prediction).count())/results_rf1_3.count()))\n",
    "    print(\"Precision: %s\" % (precision))\n",
    "    print(\"Recall: %s\" % (recall))\n",
    "    print(\"F1-score: %s\" % (f1))\n",
    "except ZeroDivisionError:\n",
    "    print(\"Precision or Recall could not be computed: division by zero\")"
   ]
  },
  {
   "cell_type": "code",
   "execution_count": 163,
   "metadata": {},
   "outputs": [
    {
     "data": {
      "text/plain": [
       "15"
      ]
     },
     "execution_count": 163,
     "metadata": {},
     "output_type": "execute_result"
    }
   ],
   "source": [
    "subModels[2][3].stages[0].getOrDefault('maxDepth')"
   ]
  },
  {
   "cell_type": "code",
   "execution_count": null,
   "metadata": {},
   "outputs": [],
   "source": []
  }
 ],
 "metadata": {
  "kernelspec": {
   "display_name": "Python 3",
   "language": "python",
   "name": "python3"
  },
  "language_info": {
   "codemirror_mode": {
    "name": "ipython",
    "version": 3
   },
   "file_extension": ".py",
   "mimetype": "text/x-python",
   "name": "python",
   "nbconvert_exporter": "python",
   "pygments_lexer": "ipython3",
   "version": "3.6.3"
  }
 },
 "nbformat": 4,
 "nbformat_minor": 2
}
